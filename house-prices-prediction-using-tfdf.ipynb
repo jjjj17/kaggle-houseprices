{
 "cells": [
  {
   "cell_type": "markdown",
   "id": "ab346282",
   "metadata": {
    "id": "5v5mm4amQRrm",
    "papermill": {
     "duration": 0.014581,
     "end_time": "2024-03-05T02:03:51.040714",
     "exception": false,
     "start_time": "2024-03-05T02:03:51.026133",
     "status": "completed"
    },
    "tags": []
   },
   "source": [
    "# House Prices Prediction using TensorFlow Decision Forests"
   ]
  },
  {
   "cell_type": "markdown",
   "id": "ccf4e12d",
   "metadata": {
    "id": "Z4eo3rH_MKbC",
    "papermill": {
     "duration": 0.01333,
     "end_time": "2024-03-05T02:03:51.068754",
     "exception": false,
     "start_time": "2024-03-05T02:03:51.055424",
     "status": "completed"
    },
    "tags": []
   },
   "source": [
    "This notebook walks you through how to train a baseline Random Forest model using TensorFlow Decision Forests on the House Prices dataset made available for this competition.\n",
    "\n",
    "Roughly, the code will look as follows:\n",
    "\n",
    "```\n",
    "import tensorflow_decision_forests as tfdf\n",
    "import pandas as pd\n",
    "\n",
    "dataset = pd.read_csv(\"project/dataset.csv\")\n",
    "tf_dataset = tfdf.keras.pd_dataframe_to_tf_dataset(dataset, label=\"my_label\")\n",
    "\n",
    "model = tfdf.keras.RandomForestModel()\n",
    "model.fit(tf_dataset)\n",
    "\n",
    "print(model.summary())\n",
    "```\n",
    "\n",
    "Decision Forests are a family of tree-based models including Random Forests and Gradient Boosted Trees. They are the best place to start when working with tabular data, and will often outperform (or provide a strong baseline) before you begin experimenting with neural networks."
   ]
  },
  {
   "cell_type": "markdown",
   "id": "6543b90d",
   "metadata": {
    "id": "FVOXAyXl3-fA",
    "papermill": {
     "duration": 0.012891,
     "end_time": "2024-03-05T02:03:51.094720",
     "exception": false,
     "start_time": "2024-03-05T02:03:51.081829",
     "status": "completed"
    },
    "tags": []
   },
   "source": [
    "## Import the library"
   ]
  },
  {
   "cell_type": "code",
   "execution_count": 1,
   "id": "89c170fe",
   "metadata": {
    "execution": {
     "iopub.execute_input": "2024-03-05T02:03:51.123354Z",
     "iopub.status.busy": "2024-03-05T02:03:51.122338Z",
     "iopub.status.idle": "2024-03-05T02:04:00.814187Z",
     "shell.execute_reply": "2024-03-05T02:04:00.813007Z"
    },
    "id": "IGmyjJJatzBZ",
    "papermill": {
     "duration": 9.709703,
     "end_time": "2024-03-05T02:04:00.817530",
     "exception": false,
     "start_time": "2024-03-05T02:03:51.107827",
     "status": "completed"
    },
    "tags": []
   },
   "outputs": [],
   "source": [
    "import tensorflow as tf\n",
    "import tensorflow_decision_forests as tfdf\n",
    "import pandas as pd\n",
    "import seaborn as sns\n",
    "import matplotlib.pyplot as plt\n",
    "\n",
    "# Comment this if the data visualisations doesn't work on your side\n",
    "%matplotlib inline"
   ]
  },
  {
   "cell_type": "code",
   "execution_count": 2,
   "id": "54dfab3c",
   "metadata": {
    "execution": {
     "iopub.execute_input": "2024-03-05T02:04:00.847261Z",
     "iopub.status.busy": "2024-03-05T02:04:00.846163Z",
     "iopub.status.idle": "2024-03-05T02:04:00.852689Z",
     "shell.execute_reply": "2024-03-05T02:04:00.851591Z"
    },
    "id": "dh4qwB4iN7Ue",
    "papermill": {
     "duration": 0.024452,
     "end_time": "2024-03-05T02:04:00.856469",
     "exception": false,
     "start_time": "2024-03-05T02:04:00.832017",
     "status": "completed"
    },
    "tags": []
   },
   "outputs": [
    {
     "name": "stdout",
     "output_type": "stream",
     "text": [
      "TensorFlow v2.11.0\n",
      "TensorFlow Decision Forests v1.2.0\n"
     ]
    }
   ],
   "source": [
    "print(\"TensorFlow v\" + tf.__version__)\n",
    "print(\"TensorFlow Decision Forests v\" + tfdf.__version__)"
   ]
  },
  {
   "cell_type": "markdown",
   "id": "f3d1d6ab",
   "metadata": {
    "id": "-3vxMmCPvqpf",
    "papermill": {
     "duration": 0.012564,
     "end_time": "2024-03-05T02:04:00.882917",
     "exception": false,
     "start_time": "2024-03-05T02:04:00.870353",
     "status": "completed"
    },
    "tags": []
   },
   "source": [
    "## Load the dataset\n"
   ]
  },
  {
   "cell_type": "code",
   "execution_count": 3,
   "id": "77e274b6",
   "metadata": {
    "execution": {
     "iopub.execute_input": "2024-03-05T02:04:00.911166Z",
     "iopub.status.busy": "2024-03-05T02:04:00.910483Z",
     "iopub.status.idle": "2024-03-05T02:04:00.953257Z",
     "shell.execute_reply": "2024-03-05T02:04:00.951986Z"
    },
    "id": "JVMPH_IDOBH2",
    "papermill": {
     "duration": 0.060145,
     "end_time": "2024-03-05T02:04:00.956144",
     "exception": false,
     "start_time": "2024-03-05T02:04:00.895999",
     "status": "completed"
    },
    "tags": []
   },
   "outputs": [],
   "source": [
    "train_file_path = \"../input/house-prices-advanced-regression-techniques/train.csv\"\n",
    "dataset_df = pd.read_csv(train_file_path)"
   ]
  },
  {
   "cell_type": "code",
   "execution_count": 4,
   "id": "bcbfc804",
   "metadata": {
    "execution": {
     "iopub.execute_input": "2024-03-05T02:04:00.985326Z",
     "iopub.status.busy": "2024-03-05T02:04:00.984413Z",
     "iopub.status.idle": "2024-03-05T02:04:01.000985Z",
     "shell.execute_reply": "2024-03-05T02:04:01.000024Z"
    },
    "id": "0lItmbYS416n",
    "papermill": {
     "duration": 0.033762,
     "end_time": "2024-03-05T02:04:01.003398",
     "exception": false,
     "start_time": "2024-03-05T02:04:00.969636",
     "status": "completed"
    },
    "tags": []
   },
   "outputs": [],
   "source": [
    "dataset_df = dataset_df.drop('Id', axis=1)"
   ]
  },
  {
   "cell_type": "code",
   "execution_count": 5,
   "id": "923523e8",
   "metadata": {
    "execution": {
     "iopub.execute_input": "2024-03-05T02:04:01.030976Z",
     "iopub.status.busy": "2024-03-05T02:04:01.030038Z",
     "iopub.status.idle": "2024-03-05T02:04:01.162882Z",
     "shell.execute_reply": "2024-03-05T02:04:01.161752Z"
    },
    "id": "du6DU4Of416n",
    "papermill": {
     "duration": 0.150188,
     "end_time": "2024-03-05T02:04:01.166274",
     "exception": false,
     "start_time": "2024-03-05T02:04:01.016086",
     "status": "completed"
    },
    "tags": []
   },
   "outputs": [
    {
     "data": {
      "text/html": [
       "<div>\n",
       "<style scoped>\n",
       "    .dataframe tbody tr th:only-of-type {\n",
       "        vertical-align: middle;\n",
       "    }\n",
       "\n",
       "    .dataframe tbody tr th {\n",
       "        vertical-align: top;\n",
       "    }\n",
       "\n",
       "    .dataframe thead th {\n",
       "        text-align: right;\n",
       "    }\n",
       "</style>\n",
       "<table border=\"1\" class=\"dataframe\">\n",
       "  <thead>\n",
       "    <tr style=\"text-align: right;\">\n",
       "      <th></th>\n",
       "      <th>MSSubClass</th>\n",
       "      <th>LotFrontage</th>\n",
       "      <th>LotArea</th>\n",
       "      <th>OverallQual</th>\n",
       "      <th>OverallCond</th>\n",
       "      <th>YearBuilt</th>\n",
       "      <th>YearRemodAdd</th>\n",
       "      <th>MasVnrArea</th>\n",
       "      <th>BsmtFinSF1</th>\n",
       "      <th>BsmtFinSF2</th>\n",
       "      <th>...</th>\n",
       "      <th>WoodDeckSF</th>\n",
       "      <th>OpenPorchSF</th>\n",
       "      <th>EnclosedPorch</th>\n",
       "      <th>3SsnPorch</th>\n",
       "      <th>ScreenPorch</th>\n",
       "      <th>PoolArea</th>\n",
       "      <th>MiscVal</th>\n",
       "      <th>MoSold</th>\n",
       "      <th>YrSold</th>\n",
       "      <th>SalePrice</th>\n",
       "    </tr>\n",
       "  </thead>\n",
       "  <tbody>\n",
       "    <tr>\n",
       "      <th>count</th>\n",
       "      <td>1460.000000</td>\n",
       "      <td>1201.000000</td>\n",
       "      <td>1460.000000</td>\n",
       "      <td>1460.000000</td>\n",
       "      <td>1460.000000</td>\n",
       "      <td>1460.000000</td>\n",
       "      <td>1460.000000</td>\n",
       "      <td>1452.000000</td>\n",
       "      <td>1460.000000</td>\n",
       "      <td>1460.000000</td>\n",
       "      <td>...</td>\n",
       "      <td>1460.000000</td>\n",
       "      <td>1460.000000</td>\n",
       "      <td>1460.000000</td>\n",
       "      <td>1460.000000</td>\n",
       "      <td>1460.000000</td>\n",
       "      <td>1460.000000</td>\n",
       "      <td>1460.000000</td>\n",
       "      <td>1460.000000</td>\n",
       "      <td>1460.000000</td>\n",
       "      <td>1460.000000</td>\n",
       "    </tr>\n",
       "    <tr>\n",
       "      <th>mean</th>\n",
       "      <td>56.897260</td>\n",
       "      <td>70.049958</td>\n",
       "      <td>10516.828082</td>\n",
       "      <td>6.099315</td>\n",
       "      <td>5.575342</td>\n",
       "      <td>1971.267808</td>\n",
       "      <td>1984.865753</td>\n",
       "      <td>103.685262</td>\n",
       "      <td>443.639726</td>\n",
       "      <td>46.549315</td>\n",
       "      <td>...</td>\n",
       "      <td>94.244521</td>\n",
       "      <td>46.660274</td>\n",
       "      <td>21.954110</td>\n",
       "      <td>3.409589</td>\n",
       "      <td>15.060959</td>\n",
       "      <td>2.758904</td>\n",
       "      <td>43.489041</td>\n",
       "      <td>6.321918</td>\n",
       "      <td>2007.815753</td>\n",
       "      <td>180921.195890</td>\n",
       "    </tr>\n",
       "    <tr>\n",
       "      <th>std</th>\n",
       "      <td>42.300571</td>\n",
       "      <td>24.284752</td>\n",
       "      <td>9981.264932</td>\n",
       "      <td>1.382997</td>\n",
       "      <td>1.112799</td>\n",
       "      <td>30.202904</td>\n",
       "      <td>20.645407</td>\n",
       "      <td>181.066207</td>\n",
       "      <td>456.098091</td>\n",
       "      <td>161.319273</td>\n",
       "      <td>...</td>\n",
       "      <td>125.338794</td>\n",
       "      <td>66.256028</td>\n",
       "      <td>61.119149</td>\n",
       "      <td>29.317331</td>\n",
       "      <td>55.757415</td>\n",
       "      <td>40.177307</td>\n",
       "      <td>496.123024</td>\n",
       "      <td>2.703626</td>\n",
       "      <td>1.328095</td>\n",
       "      <td>79442.502883</td>\n",
       "    </tr>\n",
       "    <tr>\n",
       "      <th>min</th>\n",
       "      <td>20.000000</td>\n",
       "      <td>21.000000</td>\n",
       "      <td>1300.000000</td>\n",
       "      <td>1.000000</td>\n",
       "      <td>1.000000</td>\n",
       "      <td>1872.000000</td>\n",
       "      <td>1950.000000</td>\n",
       "      <td>0.000000</td>\n",
       "      <td>0.000000</td>\n",
       "      <td>0.000000</td>\n",
       "      <td>...</td>\n",
       "      <td>0.000000</td>\n",
       "      <td>0.000000</td>\n",
       "      <td>0.000000</td>\n",
       "      <td>0.000000</td>\n",
       "      <td>0.000000</td>\n",
       "      <td>0.000000</td>\n",
       "      <td>0.000000</td>\n",
       "      <td>1.000000</td>\n",
       "      <td>2006.000000</td>\n",
       "      <td>34900.000000</td>\n",
       "    </tr>\n",
       "    <tr>\n",
       "      <th>25%</th>\n",
       "      <td>20.000000</td>\n",
       "      <td>59.000000</td>\n",
       "      <td>7553.500000</td>\n",
       "      <td>5.000000</td>\n",
       "      <td>5.000000</td>\n",
       "      <td>1954.000000</td>\n",
       "      <td>1967.000000</td>\n",
       "      <td>0.000000</td>\n",
       "      <td>0.000000</td>\n",
       "      <td>0.000000</td>\n",
       "      <td>...</td>\n",
       "      <td>0.000000</td>\n",
       "      <td>0.000000</td>\n",
       "      <td>0.000000</td>\n",
       "      <td>0.000000</td>\n",
       "      <td>0.000000</td>\n",
       "      <td>0.000000</td>\n",
       "      <td>0.000000</td>\n",
       "      <td>5.000000</td>\n",
       "      <td>2007.000000</td>\n",
       "      <td>129975.000000</td>\n",
       "    </tr>\n",
       "    <tr>\n",
       "      <th>50%</th>\n",
       "      <td>50.000000</td>\n",
       "      <td>69.000000</td>\n",
       "      <td>9478.500000</td>\n",
       "      <td>6.000000</td>\n",
       "      <td>5.000000</td>\n",
       "      <td>1973.000000</td>\n",
       "      <td>1994.000000</td>\n",
       "      <td>0.000000</td>\n",
       "      <td>383.500000</td>\n",
       "      <td>0.000000</td>\n",
       "      <td>...</td>\n",
       "      <td>0.000000</td>\n",
       "      <td>25.000000</td>\n",
       "      <td>0.000000</td>\n",
       "      <td>0.000000</td>\n",
       "      <td>0.000000</td>\n",
       "      <td>0.000000</td>\n",
       "      <td>0.000000</td>\n",
       "      <td>6.000000</td>\n",
       "      <td>2008.000000</td>\n",
       "      <td>163000.000000</td>\n",
       "    </tr>\n",
       "    <tr>\n",
       "      <th>75%</th>\n",
       "      <td>70.000000</td>\n",
       "      <td>80.000000</td>\n",
       "      <td>11601.500000</td>\n",
       "      <td>7.000000</td>\n",
       "      <td>6.000000</td>\n",
       "      <td>2000.000000</td>\n",
       "      <td>2004.000000</td>\n",
       "      <td>166.000000</td>\n",
       "      <td>712.250000</td>\n",
       "      <td>0.000000</td>\n",
       "      <td>...</td>\n",
       "      <td>168.000000</td>\n",
       "      <td>68.000000</td>\n",
       "      <td>0.000000</td>\n",
       "      <td>0.000000</td>\n",
       "      <td>0.000000</td>\n",
       "      <td>0.000000</td>\n",
       "      <td>0.000000</td>\n",
       "      <td>8.000000</td>\n",
       "      <td>2009.000000</td>\n",
       "      <td>214000.000000</td>\n",
       "    </tr>\n",
       "    <tr>\n",
       "      <th>max</th>\n",
       "      <td>190.000000</td>\n",
       "      <td>313.000000</td>\n",
       "      <td>215245.000000</td>\n",
       "      <td>10.000000</td>\n",
       "      <td>9.000000</td>\n",
       "      <td>2010.000000</td>\n",
       "      <td>2010.000000</td>\n",
       "      <td>1600.000000</td>\n",
       "      <td>5644.000000</td>\n",
       "      <td>1474.000000</td>\n",
       "      <td>...</td>\n",
       "      <td>857.000000</td>\n",
       "      <td>547.000000</td>\n",
       "      <td>552.000000</td>\n",
       "      <td>508.000000</td>\n",
       "      <td>480.000000</td>\n",
       "      <td>738.000000</td>\n",
       "      <td>15500.000000</td>\n",
       "      <td>12.000000</td>\n",
       "      <td>2010.000000</td>\n",
       "      <td>755000.000000</td>\n",
       "    </tr>\n",
       "  </tbody>\n",
       "</table>\n",
       "<p>8 rows × 37 columns</p>\n",
       "</div>"
      ],
      "text/plain": [
       "        MSSubClass  LotFrontage        LotArea  OverallQual  OverallCond  \\\n",
       "count  1460.000000  1201.000000    1460.000000  1460.000000  1460.000000   \n",
       "mean     56.897260    70.049958   10516.828082     6.099315     5.575342   \n",
       "std      42.300571    24.284752    9981.264932     1.382997     1.112799   \n",
       "min      20.000000    21.000000    1300.000000     1.000000     1.000000   \n",
       "25%      20.000000    59.000000    7553.500000     5.000000     5.000000   \n",
       "50%      50.000000    69.000000    9478.500000     6.000000     5.000000   \n",
       "75%      70.000000    80.000000   11601.500000     7.000000     6.000000   \n",
       "max     190.000000   313.000000  215245.000000    10.000000     9.000000   \n",
       "\n",
       "         YearBuilt  YearRemodAdd   MasVnrArea   BsmtFinSF1   BsmtFinSF2  ...  \\\n",
       "count  1460.000000   1460.000000  1452.000000  1460.000000  1460.000000  ...   \n",
       "mean   1971.267808   1984.865753   103.685262   443.639726    46.549315  ...   \n",
       "std      30.202904     20.645407   181.066207   456.098091   161.319273  ...   \n",
       "min    1872.000000   1950.000000     0.000000     0.000000     0.000000  ...   \n",
       "25%    1954.000000   1967.000000     0.000000     0.000000     0.000000  ...   \n",
       "50%    1973.000000   1994.000000     0.000000   383.500000     0.000000  ...   \n",
       "75%    2000.000000   2004.000000   166.000000   712.250000     0.000000  ...   \n",
       "max    2010.000000   2010.000000  1600.000000  5644.000000  1474.000000  ...   \n",
       "\n",
       "        WoodDeckSF  OpenPorchSF  EnclosedPorch    3SsnPorch  ScreenPorch  \\\n",
       "count  1460.000000  1460.000000    1460.000000  1460.000000  1460.000000   \n",
       "mean     94.244521    46.660274      21.954110     3.409589    15.060959   \n",
       "std     125.338794    66.256028      61.119149    29.317331    55.757415   \n",
       "min       0.000000     0.000000       0.000000     0.000000     0.000000   \n",
       "25%       0.000000     0.000000       0.000000     0.000000     0.000000   \n",
       "50%       0.000000    25.000000       0.000000     0.000000     0.000000   \n",
       "75%     168.000000    68.000000       0.000000     0.000000     0.000000   \n",
       "max     857.000000   547.000000     552.000000   508.000000   480.000000   \n",
       "\n",
       "          PoolArea       MiscVal       MoSold       YrSold      SalePrice  \n",
       "count  1460.000000   1460.000000  1460.000000  1460.000000    1460.000000  \n",
       "mean      2.758904     43.489041     6.321918  2007.815753  180921.195890  \n",
       "std      40.177307    496.123024     2.703626     1.328095   79442.502883  \n",
       "min       0.000000      0.000000     1.000000  2006.000000   34900.000000  \n",
       "25%       0.000000      0.000000     5.000000  2007.000000  129975.000000  \n",
       "50%       0.000000      0.000000     6.000000  2008.000000  163000.000000  \n",
       "75%       0.000000      0.000000     8.000000  2009.000000  214000.000000  \n",
       "max     738.000000  15500.000000    12.000000  2010.000000  755000.000000  \n",
       "\n",
       "[8 rows x 37 columns]"
      ]
     },
     "execution_count": 5,
     "metadata": {},
     "output_type": "execute_result"
    }
   ],
   "source": [
    "dataset_df.describe()"
   ]
  },
  {
   "cell_type": "markdown",
   "id": "67382355",
   "metadata": {
    "id": "PxdZCHvk416o",
    "papermill": {
     "duration": 0.013481,
     "end_time": "2024-03-05T02:04:01.194508",
     "exception": false,
     "start_time": "2024-03-05T02:04:01.181027",
     "status": "completed"
    },
    "tags": []
   },
   "source": [
    "## House Price Distribution\n",
    "\n",
    "Now let us take a look at how the house prices are distributed."
   ]
  },
  {
   "cell_type": "markdown",
   "id": "732a6ecb",
   "metadata": {
    "id": "tKnn1nR-416o",
    "papermill": {
     "duration": 0.01284,
     "end_time": "2024-03-05T02:04:01.220403",
     "exception": false,
     "start_time": "2024-03-05T02:04:01.207563",
     "status": "completed"
    },
    "tags": []
   },
   "source": [
    "## Numerical data distribution\n",
    "\n",
    "We will now take a look at how the numerical features are distributed. In order to do this, let us first list all the types of data from our dataset and select only the numerical ones."
   ]
  },
  {
   "cell_type": "code",
   "execution_count": 6,
   "id": "b2c65994",
   "metadata": {
    "execution": {
     "iopub.execute_input": "2024-03-05T02:04:01.248393Z",
     "iopub.status.busy": "2024-03-05T02:04:01.247560Z",
     "iopub.status.idle": "2024-03-05T02:04:01.255702Z",
     "shell.execute_reply": "2024-03-05T02:04:01.254524Z"
    },
    "id": "-hrMItSC416o",
    "papermill": {
     "duration": 0.025053,
     "end_time": "2024-03-05T02:04:01.258135",
     "exception": false,
     "start_time": "2024-03-05T02:04:01.233082",
     "status": "completed"
    },
    "tags": []
   },
   "outputs": [
    {
     "data": {
      "text/plain": [
       "[dtype('float64'), dtype('int64'), dtype('O')]"
      ]
     },
     "execution_count": 6,
     "metadata": {},
     "output_type": "execute_result"
    }
   ],
   "source": [
    "list(set(dataset_df.dtypes.tolist()))"
   ]
  },
  {
   "cell_type": "code",
   "execution_count": 7,
   "id": "1f38b983",
   "metadata": {
    "execution": {
     "iopub.execute_input": "2024-03-05T02:04:01.285712Z",
     "iopub.status.busy": "2024-03-05T02:04:01.285028Z",
     "iopub.status.idle": "2024-03-05T02:04:01.310413Z",
     "shell.execute_reply": "2024-03-05T02:04:01.309284Z"
    },
    "id": "Vg2PQvfb416o",
    "papermill": {
     "duration": 0.041442,
     "end_time": "2024-03-05T02:04:01.312666",
     "exception": false,
     "start_time": "2024-03-05T02:04:01.271224",
     "status": "completed"
    },
    "tags": []
   },
   "outputs": [
    {
     "data": {
      "text/html": [
       "<div>\n",
       "<style scoped>\n",
       "    .dataframe tbody tr th:only-of-type {\n",
       "        vertical-align: middle;\n",
       "    }\n",
       "\n",
       "    .dataframe tbody tr th {\n",
       "        vertical-align: top;\n",
       "    }\n",
       "\n",
       "    .dataframe thead th {\n",
       "        text-align: right;\n",
       "    }\n",
       "</style>\n",
       "<table border=\"1\" class=\"dataframe\">\n",
       "  <thead>\n",
       "    <tr style=\"text-align: right;\">\n",
       "      <th></th>\n",
       "      <th>MSSubClass</th>\n",
       "      <th>LotFrontage</th>\n",
       "      <th>LotArea</th>\n",
       "      <th>OverallQual</th>\n",
       "      <th>OverallCond</th>\n",
       "      <th>YearBuilt</th>\n",
       "      <th>YearRemodAdd</th>\n",
       "      <th>MasVnrArea</th>\n",
       "      <th>BsmtFinSF1</th>\n",
       "      <th>BsmtFinSF2</th>\n",
       "      <th>...</th>\n",
       "      <th>WoodDeckSF</th>\n",
       "      <th>OpenPorchSF</th>\n",
       "      <th>EnclosedPorch</th>\n",
       "      <th>3SsnPorch</th>\n",
       "      <th>ScreenPorch</th>\n",
       "      <th>PoolArea</th>\n",
       "      <th>MiscVal</th>\n",
       "      <th>MoSold</th>\n",
       "      <th>YrSold</th>\n",
       "      <th>SalePrice</th>\n",
       "    </tr>\n",
       "  </thead>\n",
       "  <tbody>\n",
       "    <tr>\n",
       "      <th>0</th>\n",
       "      <td>60</td>\n",
       "      <td>65.0</td>\n",
       "      <td>8450</td>\n",
       "      <td>7</td>\n",
       "      <td>5</td>\n",
       "      <td>2003</td>\n",
       "      <td>2003</td>\n",
       "      <td>196.0</td>\n",
       "      <td>706</td>\n",
       "      <td>0</td>\n",
       "      <td>...</td>\n",
       "      <td>0</td>\n",
       "      <td>61</td>\n",
       "      <td>0</td>\n",
       "      <td>0</td>\n",
       "      <td>0</td>\n",
       "      <td>0</td>\n",
       "      <td>0</td>\n",
       "      <td>2</td>\n",
       "      <td>2008</td>\n",
       "      <td>208500</td>\n",
       "    </tr>\n",
       "    <tr>\n",
       "      <th>1</th>\n",
       "      <td>20</td>\n",
       "      <td>80.0</td>\n",
       "      <td>9600</td>\n",
       "      <td>6</td>\n",
       "      <td>8</td>\n",
       "      <td>1976</td>\n",
       "      <td>1976</td>\n",
       "      <td>0.0</td>\n",
       "      <td>978</td>\n",
       "      <td>0</td>\n",
       "      <td>...</td>\n",
       "      <td>298</td>\n",
       "      <td>0</td>\n",
       "      <td>0</td>\n",
       "      <td>0</td>\n",
       "      <td>0</td>\n",
       "      <td>0</td>\n",
       "      <td>0</td>\n",
       "      <td>5</td>\n",
       "      <td>2007</td>\n",
       "      <td>181500</td>\n",
       "    </tr>\n",
       "    <tr>\n",
       "      <th>2</th>\n",
       "      <td>60</td>\n",
       "      <td>68.0</td>\n",
       "      <td>11250</td>\n",
       "      <td>7</td>\n",
       "      <td>5</td>\n",
       "      <td>2001</td>\n",
       "      <td>2002</td>\n",
       "      <td>162.0</td>\n",
       "      <td>486</td>\n",
       "      <td>0</td>\n",
       "      <td>...</td>\n",
       "      <td>0</td>\n",
       "      <td>42</td>\n",
       "      <td>0</td>\n",
       "      <td>0</td>\n",
       "      <td>0</td>\n",
       "      <td>0</td>\n",
       "      <td>0</td>\n",
       "      <td>9</td>\n",
       "      <td>2008</td>\n",
       "      <td>223500</td>\n",
       "    </tr>\n",
       "    <tr>\n",
       "      <th>3</th>\n",
       "      <td>70</td>\n",
       "      <td>60.0</td>\n",
       "      <td>9550</td>\n",
       "      <td>7</td>\n",
       "      <td>5</td>\n",
       "      <td>1915</td>\n",
       "      <td>1970</td>\n",
       "      <td>0.0</td>\n",
       "      <td>216</td>\n",
       "      <td>0</td>\n",
       "      <td>...</td>\n",
       "      <td>0</td>\n",
       "      <td>35</td>\n",
       "      <td>272</td>\n",
       "      <td>0</td>\n",
       "      <td>0</td>\n",
       "      <td>0</td>\n",
       "      <td>0</td>\n",
       "      <td>2</td>\n",
       "      <td>2006</td>\n",
       "      <td>140000</td>\n",
       "    </tr>\n",
       "    <tr>\n",
       "      <th>4</th>\n",
       "      <td>60</td>\n",
       "      <td>84.0</td>\n",
       "      <td>14260</td>\n",
       "      <td>8</td>\n",
       "      <td>5</td>\n",
       "      <td>2000</td>\n",
       "      <td>2000</td>\n",
       "      <td>350.0</td>\n",
       "      <td>655</td>\n",
       "      <td>0</td>\n",
       "      <td>...</td>\n",
       "      <td>192</td>\n",
       "      <td>84</td>\n",
       "      <td>0</td>\n",
       "      <td>0</td>\n",
       "      <td>0</td>\n",
       "      <td>0</td>\n",
       "      <td>0</td>\n",
       "      <td>12</td>\n",
       "      <td>2008</td>\n",
       "      <td>250000</td>\n",
       "    </tr>\n",
       "  </tbody>\n",
       "</table>\n",
       "<p>5 rows × 37 columns</p>\n",
       "</div>"
      ],
      "text/plain": [
       "   MSSubClass  LotFrontage  LotArea  OverallQual  OverallCond  YearBuilt  \\\n",
       "0          60         65.0     8450            7            5       2003   \n",
       "1          20         80.0     9600            6            8       1976   \n",
       "2          60         68.0    11250            7            5       2001   \n",
       "3          70         60.0     9550            7            5       1915   \n",
       "4          60         84.0    14260            8            5       2000   \n",
       "\n",
       "   YearRemodAdd  MasVnrArea  BsmtFinSF1  BsmtFinSF2  ...  WoodDeckSF  \\\n",
       "0          2003       196.0         706           0  ...           0   \n",
       "1          1976         0.0         978           0  ...         298   \n",
       "2          2002       162.0         486           0  ...           0   \n",
       "3          1970         0.0         216           0  ...           0   \n",
       "4          2000       350.0         655           0  ...         192   \n",
       "\n",
       "   OpenPorchSF  EnclosedPorch  3SsnPorch  ScreenPorch  PoolArea  MiscVal  \\\n",
       "0           61              0          0            0         0        0   \n",
       "1            0              0          0            0         0        0   \n",
       "2           42              0          0            0         0        0   \n",
       "3           35            272          0            0         0        0   \n",
       "4           84              0          0            0         0        0   \n",
       "\n",
       "   MoSold  YrSold  SalePrice  \n",
       "0       2    2008     208500  \n",
       "1       5    2007     181500  \n",
       "2       9    2008     223500  \n",
       "3       2    2006     140000  \n",
       "4      12    2008     250000  \n",
       "\n",
       "[5 rows x 37 columns]"
      ]
     },
     "execution_count": 7,
     "metadata": {},
     "output_type": "execute_result"
    }
   ],
   "source": [
    "df_num = dataset_df.select_dtypes(include = ['float64', 'int64'])\n",
    "df_num.head()"
   ]
  },
  {
   "cell_type": "markdown",
   "id": "7af00669",
   "metadata": {
    "id": "MnaH5h8u416o",
    "papermill": {
     "duration": 0.013397,
     "end_time": "2024-03-05T02:04:01.339296",
     "exception": false,
     "start_time": "2024-03-05T02:04:01.325899",
     "status": "completed"
    },
    "tags": []
   },
   "source": [
    "Now let us plot the distribution for all the numerical features."
   ]
  },
  {
   "cell_type": "code",
   "execution_count": 8,
   "id": "b74fb3e7",
   "metadata": {
    "execution": {
     "iopub.execute_input": "2024-03-05T02:04:01.368268Z",
     "iopub.status.busy": "2024-03-05T02:04:01.367814Z",
     "iopub.status.idle": "2024-03-05T02:04:10.824678Z",
     "shell.execute_reply": "2024-03-05T02:04:10.823527Z"
    },
    "id": "Dj4h_dIw416o",
    "papermill": {
     "duration": 9.47705,
     "end_time": "2024-03-05T02:04:10.829946",
     "exception": false,
     "start_time": "2024-03-05T02:04:01.352896",
     "status": "completed"
    },
    "tags": []
   },
   "outputs": [
    {
     "data": {
      "image/png": "[encoded data removed]",
      "text/plain": [
       "<Figure size 1600x2000 with 42 Axes>"
      ]
     },
     "metadata": {},
     "output_type": "display_data"
    }
   ],
   "source": [
    "df_num.hist(figsize=(16, 20), bins=50, xlabelsize=8, ylabelsize=8);"
   ]
  },
  {
   "cell_type": "markdown",
   "id": "6b6c6688",
   "metadata": {
    "id": "H4O7QCoh5e2e",
    "papermill": {
     "duration": 0.015576,
     "end_time": "2024-03-05T02:04:10.862359",
     "exception": false,
     "start_time": "2024-03-05T02:04:10.846783",
     "status": "completed"
    },
    "tags": []
   },
   "source": [
    "## Prepare the dataset\n",
    "\n",
    "This dataset contains a mix of numeric, categorical and missing features. TF-DF supports all these feature types natively, and no preprocessing is required. This is one advantage of tree-based models, making them a great entry point to Tensorflow and ML."
   ]
  },
  {
   "cell_type": "markdown",
   "id": "a8da5fd1",
   "metadata": {
    "id": "brbRsBQfSC74",
    "papermill": {
     "duration": 0.016375,
     "end_time": "2024-03-05T02:04:10.895241",
     "exception": false,
     "start_time": "2024-03-05T02:04:10.878866",
     "status": "completed"
    },
    "tags": []
   },
   "source": [
    "Now let us split the dataset into training and testing datasets:"
   ]
  },
  {
   "cell_type": "code",
   "execution_count": 9,
   "id": "ab98bc41",
   "metadata": {
    "execution": {
     "iopub.execute_input": "2024-03-05T02:04:10.930812Z",
     "iopub.status.busy": "2024-03-05T02:04:10.930006Z",
     "iopub.status.idle": "2024-03-05T02:04:10.941071Z",
     "shell.execute_reply": "2024-03-05T02:04:10.939743Z"
    },
    "id": "tsQad0t7SBv2",
    "papermill": {
     "duration": 0.032251,
     "end_time": "2024-03-05T02:04:10.943955",
     "exception": false,
     "start_time": "2024-03-05T02:04:10.911704",
     "status": "completed"
    },
    "tags": []
   },
   "outputs": [
    {
     "name": "stdout",
     "output_type": "stream",
     "text": [
      "996 examples in training, 464 examples in testing.\n"
     ]
    }
   ],
   "source": [
    "import numpy as np\n",
    "\n",
    "def split_dataset(dataset, test_ratio=0.30):\n",
    "  test_indices = np.random.rand(len(dataset)) < test_ratio\n",
    "  return dataset[~test_indices], dataset[test_indices]\n",
    "\n",
    "train_ds_pd, valid_ds_pd = split_dataset(dataset_df)\n",
    "print(\"{} examples in training, {} examples in testing.\".format(\n",
    "    len(train_ds_pd), len(valid_ds_pd)))"
   ]
  },
  {
   "cell_type": "markdown",
   "id": "c9e6a481",
   "metadata": {
    "id": "-hNGPbLlSGvp",
    "papermill": {
     "duration": 0.017209,
     "end_time": "2024-03-05T02:04:10.978538",
     "exception": false,
     "start_time": "2024-03-05T02:04:10.961329",
     "status": "completed"
    },
    "tags": []
   },
   "source": [
    "There's one more step required before we can train the model. We need to convert the datatset from Pandas format (`pd.DataFrame`) into TensorFlow Datasets format (`tf.data.Dataset`).\n",
    "\n",
    "[TensorFlow Datasets](https://www.tensorflow.org/datasets/overview) is a high performance data loading library which is helpful when training neural networks with accelerators like GPUs and TPUs."
   ]
  },
  {
   "cell_type": "markdown",
   "id": "46a6d900",
   "metadata": {
    "id": "7goqxGx3416p",
    "papermill": {
     "duration": 0.01646,
     "end_time": "2024-03-05T02:04:11.012045",
     "exception": false,
     "start_time": "2024-03-05T02:04:10.995585",
     "status": "completed"
    },
    "tags": []
   },
   "source": [
    "By default the Random Forest Model is configured to train classification tasks. Since this is a regression problem, we will specify the type of the task (`tfdf.keras.Task.REGRESSION`) as a parameter here."
   ]
  },
  {
   "cell_type": "code",
   "execution_count": 10,
   "id": "af7978f9",
   "metadata": {
    "execution": {
     "iopub.execute_input": "2024-03-05T02:04:11.048301Z",
     "iopub.status.busy": "2024-03-05T02:04:11.047382Z",
     "iopub.status.idle": "2024-03-05T02:04:13.819645Z",
     "shell.execute_reply": "2024-03-05T02:04:13.818241Z"
    },
    "id": "xQgimfirSGQ9",
    "papermill": {
     "duration": 2.793819,
     "end_time": "2024-03-05T02:04:13.822646",
     "exception": false,
     "start_time": "2024-03-05T02:04:11.028827",
     "status": "completed"
    },
    "tags": []
   },
   "outputs": [],
   "source": [
    "label = 'SalePrice'\n",
    "train_ds = tfdf.keras.pd_dataframe_to_tf_dataset(train_ds_pd, label=label, task = tfdf.keras.Task.REGRESSION)\n",
    "valid_ds = tfdf.keras.pd_dataframe_to_tf_dataset(valid_ds_pd, label=label, task = tfdf.keras.Task.REGRESSION)"
   ]
  },
  {
   "cell_type": "markdown",
   "id": "fea8d2bf",
   "metadata": {
    "id": "IUG4UKUyTNUu",
    "papermill": {
     "duration": 0.016049,
     "end_time": "2024-03-05T02:04:13.855381",
     "exception": false,
     "start_time": "2024-03-05T02:04:13.839332",
     "status": "completed"
    },
    "tags": []
   },
   "source": [
    "## Select a Model\n",
    "\n",
    "There are several tree-based models for you to choose from.\n",
    "\n",
    "* RandomForestModel\n",
    "* GradientBoostedTreesModel\n",
    "* CartModel\n",
    "* DistributedGradientBoostedTreesModel\n",
    "\n",
    "To start, we'll work with a Random Forest. This is the most well-known of the Decision Forest training algorithms.\n",
    "\n",
    "A Random Forest is a collection of decision trees, each trained independently on a random subset of the training dataset (sampled with replacement). The algorithm is unique in that it is robust to overfitting, and easy to use."
   ]
  },
  {
   "cell_type": "markdown",
   "id": "423af6eb",
   "metadata": {
    "id": "VJSwNUdb416p",
    "papermill": {
     "duration": 0.015452,
     "end_time": "2024-03-05T02:04:13.886857",
     "exception": false,
     "start_time": "2024-03-05T02:04:13.871405",
     "status": "completed"
    },
    "tags": []
   },
   "source": [
    "We can list the all the available models in TensorFlow Decision Forests using the following code:"
   ]
  },
  {
   "cell_type": "code",
   "execution_count": 11,
   "id": "05d8f610",
   "metadata": {
    "execution": {
     "iopub.execute_input": "2024-03-05T02:04:13.920586Z",
     "iopub.status.busy": "2024-03-05T02:04:13.920135Z",
     "iopub.status.idle": "2024-03-05T02:04:13.927139Z",
     "shell.execute_reply": "2024-03-05T02:04:13.925972Z"
    },
    "id": "MFmnkRR_Ui9w",
    "papermill": {
     "duration": 0.026898,
     "end_time": "2024-03-05T02:04:13.929621",
     "exception": false,
     "start_time": "2024-03-05T02:04:13.902723",
     "status": "completed"
    },
    "tags": []
   },
   "outputs": [
    {
     "data": {
      "text/plain": [
       "[tensorflow_decision_forests.keras.RandomForestModel,\n",
       " tensorflow_decision_forests.keras.GradientBoostedTreesModel,\n",
       " tensorflow_decision_forests.keras.CartModel,\n",
       " tensorflow_decision_forests.keras.DistributedGradientBoostedTreesModel]"
      ]
     },
     "execution_count": 11,
     "metadata": {},
     "output_type": "execute_result"
    }
   ],
   "source": [
    "tfdf.keras.get_all_models()"
   ]
  },
  {
   "cell_type": "markdown",
   "id": "6c8c342e",
   "metadata": {
    "id": "LiFn716FnMVQ",
    "papermill": {
     "duration": 0.015901,
     "end_time": "2024-03-05T02:04:13.961609",
     "exception": false,
     "start_time": "2024-03-05T02:04:13.945708",
     "status": "completed"
    },
    "tags": []
   },
   "source": [
    "## How can I configure them?\n",
    "\n",
    "TensorFlow Decision Forests provides good defaults for you (e.g. the top ranking hyperparameters on our benchmarks, slightly modified to run in reasonable time). If you would like to configure the learning algorithm, you will find many options you can explore to get the highest possible accuracy.\n",
    "\n",
    "You can select a template and/or set parameters as follows:\n",
    "\n",
    "```rf = tfdf.keras.RandomForestModel(hyperparameter_template=\"benchmark_rank1\", task=tfdf.keras.Task.REGRESSION)```\n",
    "\n",
    "Read more [here](https://www.tensorflow.org/decision_forests/api_docs/python/tfdf/keras/RandomForestModel)."
   ]
  },
  {
   "cell_type": "markdown",
   "id": "2bbd4706",
   "metadata": {
    "id": "irxAS91IRVAX",
    "papermill": {
     "duration": 0.016812,
     "end_time": "2024-03-05T02:04:13.994844",
     "exception": false,
     "start_time": "2024-03-05T02:04:13.978032",
     "status": "completed"
    },
    "tags": []
   },
   "source": [
    "\n"
   ]
  },
  {
   "cell_type": "markdown",
   "id": "65e85bcd",
   "metadata": {
    "papermill": {
     "duration": 0.016665,
     "end_time": "2024-03-05T02:04:14.029007",
     "exception": false,
     "start_time": "2024-03-05T02:04:14.012342",
     "status": "completed"
    },
    "tags": []
   },
   "source": [
    "Hyperparameter Tuning"
   ]
  },
  {
   "cell_type": "code",
   "execution_count": 12,
   "id": "8dbf6ab4",
   "metadata": {
    "execution": {
     "iopub.execute_input": "2024-03-05T02:04:14.066137Z",
     "iopub.status.busy": "2024-03-05T02:04:14.065729Z",
     "iopub.status.idle": "2024-03-05T02:04:14.076286Z",
     "shell.execute_reply": "2024-03-05T02:04:14.075228Z"
    },
    "papermill": {
     "duration": 0.032111,
     "end_time": "2024-03-05T02:04:14.078824",
     "exception": false,
     "start_time": "2024-03-05T02:04:14.046713",
     "status": "completed"
    },
    "tags": []
   },
   "outputs": [
    {
     "data": {
      "text/plain": [
       "<tensorflow_decision_forests.component.tuner.tuner.SearchSpace at 0x7c4382a73c10>"
      ]
     },
     "execution_count": 12,
     "metadata": {},
     "output_type": "execute_result"
    }
   ],
   "source": [
    "tuner = tfdf.tuner.RandomSearch(num_trials=30)\n",
    "\n",
    "# Hyper-parameters to optimize.\n",
    "tuner.choice(\"max_depth\", [4,5,6,7])\n",
    "tuner.choice(\"min_examples\", [5,6,7])\n",
    "tuner.choice(\"num_trees\",[20,30,40,50])\n",
    "tuner.choice(\"selective_gradient_boosting_ratio\",[0.01,0.015,0.02,0.025])"
   ]
  },
  {
   "cell_type": "markdown",
   "id": "088db349",
   "metadata": {
    "id": "AUt4j8fLWRlR",
    "papermill": {
     "duration": 0.016042,
     "end_time": "2024-03-05T02:04:14.111999",
     "exception": false,
     "start_time": "2024-03-05T02:04:14.095957",
     "status": "completed"
    },
    "tags": []
   },
   "source": [
    "## Create a Random Forest\n",
    "\n",
    "Today, we will use the defaults to create the Random Forest Model while specifiyng the task type as `tfdf.keras.Task.REGRESSION`."
   ]
  },
  {
   "cell_type": "code",
   "execution_count": 13,
   "id": "9bd9b198",
   "metadata": {
    "execution": {
     "iopub.execute_input": "2024-03-05T02:04:14.150033Z",
     "iopub.status.busy": "2024-03-05T02:04:14.149015Z",
     "iopub.status.idle": "2024-03-05T02:04:14.203649Z",
     "shell.execute_reply": "2024-03-05T02:04:14.202667Z"
    },
    "id": "O7bqOQMYTRXZ",
    "papermill": {
     "duration": 0.077627,
     "end_time": "2024-03-05T02:04:14.206486",
     "exception": false,
     "start_time": "2024-03-05T02:04:14.128859",
     "status": "completed"
    },
    "tags": []
   },
   "outputs": [
    {
     "name": "stdout",
     "output_type": "stream",
     "text": [
      "Use /tmp/tmpm530quj_ as temporary training directory\n"
     ]
    }
   ],
   "source": [
    "gbtm = tfdf.keras.GradientBoostedTreesModel(task = tfdf.keras.Task.REGRESSION, tuner=tuner)\n",
    "gbtm.compile(metrics=[\"mse\"]) # Optional, you can use this to include a list of eval metrics"
   ]
  },
  {
   "cell_type": "markdown",
   "id": "210edeef",
   "metadata": {
    "id": "0CzJ5_sh91Yt",
    "papermill": {
     "duration": 0.01692,
     "end_time": "2024-03-05T02:04:14.240844",
     "exception": false,
     "start_time": "2024-03-05T02:04:14.223924",
     "status": "completed"
    },
    "tags": []
   },
   "source": [
    "## Train the model\n",
    "\n",
    "We will train the model using a one-liner.\n",
    "\n",
    "Note: you may see a warning about Autograph. You can safely ignore this, it will be fixed in the next release."
   ]
  },
  {
   "cell_type": "code",
   "execution_count": 14,
   "id": "84a16151",
   "metadata": {
    "execution": {
     "iopub.execute_input": "2024-03-05T02:04:14.277327Z",
     "iopub.status.busy": "2024-03-05T02:04:14.276348Z",
     "iopub.status.idle": "2024-03-05T02:04:29.574627Z",
     "shell.execute_reply": "2024-03-05T02:04:29.573476Z"
    },
    "id": "Ax6RircN92LW",
    "papermill": {
     "duration": 15.319644,
     "end_time": "2024-03-05T02:04:29.577339",
     "exception": false,
     "start_time": "2024-03-05T02:04:14.257695",
     "status": "completed"
    },
    "tags": []
   },
   "outputs": [
    {
     "name": "stdout",
     "output_type": "stream",
     "text": [
      "Reading training dataset...\n",
      "Training dataset read in 0:00:08.478990. Found 996 examples.\n",
      "Training model...\n",
      "Model trained in 0:00:03.045415\n",
      "Compiling model...\n"
     ]
    },
    {
     "name": "stderr",
     "output_type": "stream",
     "text": [
      "[INFO 2024-03-05T02:04:25.810901013+00:00 kernel.cc:1214] Loading model from path /tmp/tmpm530quj_/model/ with prefix 2ba05547806a46ae\n",
      "[INFO 2024-03-05T02:04:25.818342066+00:00 abstract_model.cc:1311] Engine \"GradientBoostedTreesQuickScorerExtended\" built\n",
      "[INFO 2024-03-05T02:04:25.818450661+00:00 kernel.cc:1046] Use fast generic engine\n"
     ]
    },
    {
     "name": "stdout",
     "output_type": "stream",
     "text": [
      "WARNING: AutoGraph could not transform <function simple_ml_inference_op_with_handle at 0x7c43926b8170> and will run it as-is.\n",
      "Please report this to the TensorFlow team. When filing the bug, set the verbosity to 10 (on Linux, `export AUTOGRAPH_VERBOSITY=10`) and attach the full output.\n",
      "Cause: could not get source code\n",
      "To silence this warning, decorate the function with @tf.autograph.experimental.do_not_convert\n",
      "Model compiled.\n"
     ]
    },
    {
     "data": {
      "text/plain": [
       "<keras.callbacks.History at 0x7c43f37e7550>"
      ]
     },
     "execution_count": 14,
     "metadata": {},
     "output_type": "execute_result"
    }
   ],
   "source": [
    "gbtm.fit(x=train_ds)"
   ]
  },
  {
   "cell_type": "code",
   "execution_count": 15,
   "id": "6c639771",
   "metadata": {
    "execution": {
     "iopub.execute_input": "2024-03-05T02:04:29.616927Z",
     "iopub.status.busy": "2024-03-05T02:04:29.615933Z",
     "iopub.status.idle": "2024-03-05T02:04:29.860879Z",
     "shell.execute_reply": "2024-03-05T02:04:29.859736Z"
    },
    "id": "ryddKoqLWrTp",
    "papermill": {
     "duration": 0.267534,
     "end_time": "2024-03-05T02:04:29.863510",
     "exception": false,
     "start_time": "2024-03-05T02:04:29.595976",
     "status": "completed"
    },
    "tags": []
   },
   "outputs": [
    {
     "data": {
      "image/png": "[encoded data removed]",
      "text/plain": [
       "<Figure size 640x480 with 1 Axes>"
      ]
     },
     "metadata": {},
     "output_type": "display_data"
    }
   ],
   "source": [
    "import matplotlib.pyplot as plt\n",
    "logs = gbtm.make_inspector().training_logs()\n",
    "plt.plot([log.num_trees for log in logs], [log.evaluation.rmse for log in logs])\n",
    "plt.xlabel(\"Number of trees\")\n",
    "plt.ylabel(\"RMSE (out-of-bag)\")\n",
    "plt.show()"
   ]
  },
  {
   "cell_type": "markdown",
   "id": "69172cdb",
   "metadata": {
    "id": "Y-yMMsK5-3Mr",
    "papermill": {
     "duration": 0.018295,
     "end_time": "2024-03-05T02:04:29.899629",
     "exception": false,
     "start_time": "2024-03-05T02:04:29.881334",
     "status": "completed"
    },
    "tags": []
   },
   "source": [
    "We can also see some general stats on the OOB dataset:"
   ]
  },
  {
   "cell_type": "code",
   "execution_count": 16,
   "id": "21b639e5",
   "metadata": {
    "execution": {
     "iopub.execute_input": "2024-03-05T02:04:29.938457Z",
     "iopub.status.busy": "2024-03-05T02:04:29.937430Z",
     "iopub.status.idle": "2024-03-05T02:04:29.947243Z",
     "shell.execute_reply": "2024-03-05T02:04:29.946213Z"
    },
    "id": "gdY8DvriTxky",
    "papermill": {
     "duration": 0.031529,
     "end_time": "2024-03-05T02:04:29.949636",
     "exception": false,
     "start_time": "2024-03-05T02:04:29.918107",
     "status": "completed"
    },
    "tags": []
   },
   "outputs": [
    {
     "data": {
      "text/plain": [
       "Evaluation(num_examples=None, accuracy=None, loss=23720.2265625, rmse=23720.2265625, ndcg=None, aucs=None, auuc=None, qini=None)"
      ]
     },
     "execution_count": 16,
     "metadata": {},
     "output_type": "execute_result"
    }
   ],
   "source": [
    "inspector = gbtm.make_inspector()\n",
    "inspector.evaluation()"
   ]
  },
  {
   "cell_type": "markdown",
   "id": "13143130",
   "metadata": {
    "id": "GAoGJNjg-9sb",
    "papermill": {
     "duration": 0.017972,
     "end_time": "2024-03-05T02:04:29.985231",
     "exception": false,
     "start_time": "2024-03-05T02:04:29.967259",
     "status": "completed"
    },
    "tags": []
   },
   "source": [
    "Now, let us run an evaluation using the validation dataset."
   ]
  },
  {
   "cell_type": "code",
   "execution_count": 17,
   "id": "d19bc80d",
   "metadata": {
    "execution": {
     "iopub.execute_input": "2024-03-05T02:04:30.023683Z",
     "iopub.status.busy": "2024-03-05T02:04:30.023285Z",
     "iopub.status.idle": "2024-03-05T02:04:30.892876Z",
     "shell.execute_reply": "2024-03-05T02:04:30.891756Z"
    },
    "id": "39x97YqWZlgm",
    "papermill": {
     "duration": 0.891819,
     "end_time": "2024-03-05T02:04:30.895496",
     "exception": false,
     "start_time": "2024-03-05T02:04:30.003677",
     "status": "completed"
    },
    "tags": []
   },
   "outputs": [
    {
     "name": "stdout",
     "output_type": "stream",
     "text": [
      "1/1 [==============================] - 1s 855ms/step - loss: 0.0000e+00 - mse: 803622208.0000\n",
      "loss: 0.0000\n",
      "mse: 803622208.0000\n"
     ]
    }
   ],
   "source": [
    "evaluation = gbtm.evaluate(x=valid_ds,return_dict=True)\n",
    "\n",
    "for name, value in evaluation.items():\n",
    "  print(f\"{name}: {value:.4f}\")"
   ]
  },
  {
   "cell_type": "markdown",
   "id": "d81068c8",
   "metadata": {
    "id": "LWWqqDLM7WdZ",
    "papermill": {
     "duration": 0.019271,
     "end_time": "2024-03-05T02:04:30.935266",
     "exception": false,
     "start_time": "2024-03-05T02:04:30.915995",
     "status": "completed"
    },
    "tags": []
   },
   "source": [
    "## Variable importances\n",
    "\n",
    "Variable importances generally indicate how much a feature contributes to the model predictions or quality. There are several ways to identify important features using TensorFlow Decision Forests.\n",
    "Let us list the available `Variable Importances` for Decision Trees:"
   ]
  },
  {
   "cell_type": "code",
   "execution_count": 18,
   "id": "12489504",
   "metadata": {
    "execution": {
     "iopub.execute_input": "2024-03-05T02:04:30.975691Z",
     "iopub.status.busy": "2024-03-05T02:04:30.974798Z",
     "iopub.status.idle": "2024-03-05T02:04:30.982449Z",
     "shell.execute_reply": "2024-03-05T02:04:30.981343Z"
    },
    "id": "xok16_jMgGZH",
    "papermill": {
     "duration": 0.031011,
     "end_time": "2024-03-05T02:04:30.985347",
     "exception": false,
     "start_time": "2024-03-05T02:04:30.954336",
     "status": "completed"
    },
    "tags": []
   },
   "outputs": [
    {
     "name": "stdout",
     "output_type": "stream",
     "text": [
      "Available variable importances:\n",
      "\t INV_MEAN_MIN_DEPTH\n",
      "\t SUM_SCORE\n",
      "\t NUM_AS_ROOT\n",
      "\t NUM_NODES\n"
     ]
    }
   ],
   "source": [
    "print(f\"Available variable importances:\")\n",
    "for importance in inspector.variable_importances().keys():\n",
    "  print(\"\\t\", importance)"
   ]
  },
  {
   "cell_type": "markdown",
   "id": "7b09ff24",
   "metadata": {
    "id": "USvNgqBR_JR2",
    "papermill": {
     "duration": 0.01935,
     "end_time": "2024-03-05T02:04:31.023991",
     "exception": false,
     "start_time": "2024-03-05T02:04:31.004641",
     "status": "completed"
    },
    "tags": []
   },
   "source": [
    "As an example, let us display the important features for the Variable Importance `NUM_AS_ROOT`.\n",
    "\n",
    "The larger the importance score for `NUM_AS_ROOT`, the more impact it has on the outcome of the model.\n",
    "\n",
    "By default, the list is sorted from the most important to the least. From the output you can infer that the feature at the top of the list is used as the root node in most number of trees in the random forest than any other feature."
   ]
  },
  {
   "cell_type": "code",
   "execution_count": 19,
   "id": "2a755198",
   "metadata": {
    "execution": {
     "iopub.execute_input": "2024-03-05T02:04:31.065030Z",
     "iopub.status.busy": "2024-03-05T02:04:31.064218Z",
     "iopub.status.idle": "2024-03-05T02:04:31.073427Z",
     "shell.execute_reply": "2024-03-05T02:04:31.072245Z"
    },
    "id": "eI073gJHgHxr",
    "papermill": {
     "duration": 0.03252,
     "end_time": "2024-03-05T02:04:31.076086",
     "exception": false,
     "start_time": "2024-03-05T02:04:31.043566",
     "status": "completed"
    },
    "tags": []
   },
   "outputs": [
    {
     "data": {
      "text/plain": [
       "[(\"OverallQual\" (1; #62), 12.0),\n",
       " (\"KitchenQual\" (4; #44), 5.0),\n",
       " (\"Fireplaces\" (1; #27), 4.0),\n",
       " (\"GrLivArea\" (1; #38), 4.0),\n",
       " (\"Neighborhood\" (4; #59), 4.0),\n",
       " (\"1stFlrSF\" (1; #0), 2.0),\n",
       " (\"TotalBsmtSF\" (1; #73), 2.0),\n",
       " (\"YearRemodAdd\" (1; #77), 2.0),\n",
       " (\"2ndFlrSF\" (1; #1), 1.0),\n",
       " (\"BsmtExposure\" (4; #7), 1.0),\n",
       " (\"BsmtFinSF1\" (1; #8), 1.0),\n",
       " (\"BsmtQual\" (4; #14), 1.0),\n",
       " (\"GarageArea\" (1; #31), 1.0)]"
      ]
     },
     "execution_count": 19,
     "metadata": {},
     "output_type": "execute_result"
    }
   ],
   "source": [
    "inspector.variable_importances()[\"NUM_AS_ROOT\"]"
   ]
  },
  {
   "cell_type": "markdown",
   "id": "3b05dd3b",
   "metadata": {
    "id": "qiASD3ei52H6",
    "papermill": {
     "duration": 0.019323,
     "end_time": "2024-03-05T02:04:31.115371",
     "exception": false,
     "start_time": "2024-03-05T02:04:31.096048",
     "status": "completed"
    },
    "tags": []
   },
   "source": [
    "Plot the variable importances from the inspector using Matplotlib"
   ]
  },
  {
   "cell_type": "code",
   "execution_count": 20,
   "id": "0881d790",
   "metadata": {
    "execution": {
     "iopub.execute_input": "2024-03-05T02:04:31.156244Z",
     "iopub.status.busy": "2024-03-05T02:04:31.155513Z",
     "iopub.status.idle": "2024-03-05T02:04:31.471225Z",
     "shell.execute_reply": "2024-03-05T02:04:31.470008Z"
    },
    "id": "cyyzelTl53AH",
    "papermill": {
     "duration": 0.339585,
     "end_time": "2024-03-05T02:04:31.474102",
     "exception": false,
     "start_time": "2024-03-05T02:04:31.134517",
     "status": "completed"
    },
    "tags": []
   },
   "outputs": [
    {
     "data": {
      "image/png": "[encoded data removed]",
      "text/plain": [
       "<Figure size 1200x400 with 1 Axes>"
      ]
     },
     "metadata": {},
     "output_type": "display_data"
    }
   ],
   "source": [
    "plt.figure(figsize=(12, 4))\n",
    "\n",
    "# Mean decrease in AUC of the class 1 vs the others.\n",
    "variable_importance_metric = \"NUM_AS_ROOT\"\n",
    "variable_importances = inspector.variable_importances()[variable_importance_metric]\n",
    "\n",
    "# Extract the feature name and importance values.\n",
    "#\n",
    "# `variable_importances` is a list of <feature, importance> tuples.\n",
    "feature_names = [vi[0].name for vi in variable_importances]\n",
    "feature_importances = [vi[1] for vi in variable_importances]\n",
    "# The feature are ordered in decreasing importance value.\n",
    "feature_ranks = range(len(feature_names))\n",
    "\n",
    "bar = plt.barh(feature_ranks, feature_importances, label=[str(x) for x in feature_ranks])\n",
    "plt.yticks(feature_ranks, feature_names)\n",
    "plt.gca().invert_yaxis()\n",
    "\n",
    "# TODO: Replace with \"plt.bar_label()\" when available.\n",
    "# Label each bar with values\n",
    "for importance, patch in zip(feature_importances, bar.patches):\n",
    "  plt.text(patch.get_x() + patch.get_width(), patch.get_y(), f\"{importance:.4f}\", va=\"top\")\n",
    "\n",
    "plt.xlabel(variable_importance_metric)\n",
    "plt.title(\"NUM AS ROOT of the class 1 vs the others\")\n",
    "plt.tight_layout()\n",
    "plt.show()"
   ]
  },
  {
   "cell_type": "markdown",
   "id": "509f8988",
   "metadata": {
    "id": "jM9uB_7T416r",
    "papermill": {
     "duration": 0.019933,
     "end_time": "2024-03-05T02:04:31.515311",
     "exception": false,
     "start_time": "2024-03-05T02:04:31.495378",
     "status": "completed"
    },
    "tags": []
   },
   "source": [
    "# Submission\n",
    "Finally predict on the competition test data using the model."
   ]
  },
  {
   "cell_type": "code",
   "execution_count": 21,
   "id": "9d6f981d",
   "metadata": {
    "execution": {
     "iopub.execute_input": "2024-03-05T02:04:31.557050Z",
     "iopub.status.busy": "2024-03-05T02:04:31.556618Z",
     "iopub.status.idle": "2024-03-05T02:04:32.737058Z",
     "shell.execute_reply": "2024-03-05T02:04:32.735942Z"
    },
    "id": "gLySv9yJ416s",
    "papermill": {
     "duration": 1.204137,
     "end_time": "2024-03-05T02:04:32.739409",
     "exception": false,
     "start_time": "2024-03-05T02:04:31.535272",
     "status": "completed"
    },
    "tags": []
   },
   "outputs": [
    {
     "name": "stdout",
     "output_type": "stream",
     "text": [
      "2/2 [==============================] - 1s 16ms/step\n"
     ]
    },
    {
     "data": {
      "text/html": [
       "<div>\n",
       "<style scoped>\n",
       "    .dataframe tbody tr th:only-of-type {\n",
       "        vertical-align: middle;\n",
       "    }\n",
       "\n",
       "    .dataframe tbody tr th {\n",
       "        vertical-align: top;\n",
       "    }\n",
       "\n",
       "    .dataframe thead th {\n",
       "        text-align: right;\n",
       "    }\n",
       "</style>\n",
       "<table border=\"1\" class=\"dataframe\">\n",
       "  <thead>\n",
       "    <tr style=\"text-align: right;\">\n",
       "      <th></th>\n",
       "      <th>Id</th>\n",
       "      <th>SalePrice</th>\n",
       "    </tr>\n",
       "  </thead>\n",
       "  <tbody>\n",
       "    <tr>\n",
       "      <th>0</th>\n",
       "      <td>1461</td>\n",
       "      <td>129961.914062</td>\n",
       "    </tr>\n",
       "    <tr>\n",
       "      <th>1</th>\n",
       "      <td>1462</td>\n",
       "      <td>155233.406250</td>\n",
       "    </tr>\n",
       "    <tr>\n",
       "      <th>2</th>\n",
       "      <td>1463</td>\n",
       "      <td>176083.375000</td>\n",
       "    </tr>\n",
       "    <tr>\n",
       "      <th>3</th>\n",
       "      <td>1464</td>\n",
       "      <td>182086.062500</td>\n",
       "    </tr>\n",
       "    <tr>\n",
       "      <th>4</th>\n",
       "      <td>1465</td>\n",
       "      <td>195271.000000</td>\n",
       "    </tr>\n",
       "  </tbody>\n",
       "</table>\n",
       "</div>"
      ],
      "text/plain": [
       "     Id      SalePrice\n",
       "0  1461  129961.914062\n",
       "1  1462  155233.406250\n",
       "2  1463  176083.375000\n",
       "3  1464  182086.062500\n",
       "4  1465  195271.000000"
      ]
     },
     "execution_count": 21,
     "metadata": {},
     "output_type": "execute_result"
    }
   ],
   "source": [
    "test_file_path = \"../input/house-prices-advanced-regression-techniques/test.csv\"\n",
    "test_data = pd.read_csv(test_file_path)\n",
    "ids = test_data.pop('Id')\n",
    "\n",
    "test_ds = tfdf.keras.pd_dataframe_to_tf_dataset(\n",
    "    test_data,\n",
    "    task = tfdf.keras.Task.REGRESSION)\n",
    "\n",
    "preds = gbtm.predict(test_ds)\n",
    "output = pd.DataFrame({'Id': ids,\n",
    "                       'SalePrice': preds.squeeze()})\n",
    "\n",
    "output.head()\n"
   ]
  },
  {
   "cell_type": "code",
   "execution_count": 22,
   "id": "881dba15",
   "metadata": {
    "execution": {
     "iopub.execute_input": "2024-03-05T02:04:32.780791Z",
     "iopub.status.busy": "2024-03-05T02:04:32.780409Z",
     "iopub.status.idle": "2024-03-05T02:04:33.091404Z",
     "shell.execute_reply": "2024-03-05T02:04:33.090298Z"
    },
    "id": "0wALPJtE416s",
    "papermill": {
     "duration": 0.334204,
     "end_time": "2024-03-05T02:04:33.093872",
     "exception": false,
     "start_time": "2024-03-05T02:04:32.759668",
     "status": "completed"
    },
    "tags": []
   },
   "outputs": [
    {
     "name": "stdout",
     "output_type": "stream",
     "text": [
      "2/2 [==============================] - 0s 19ms/step\n"
     ]
    },
    {
     "data": {
      "text/html": [
       "<div>\n",
       "<style scoped>\n",
       "    .dataframe tbody tr th:only-of-type {\n",
       "        vertical-align: middle;\n",
       "    }\n",
       "\n",
       "    .dataframe tbody tr th {\n",
       "        vertical-align: top;\n",
       "    }\n",
       "\n",
       "    .dataframe thead th {\n",
       "        text-align: right;\n",
       "    }\n",
       "</style>\n",
       "<table border=\"1\" class=\"dataframe\">\n",
       "  <thead>\n",
       "    <tr style=\"text-align: right;\">\n",
       "      <th></th>\n",
       "      <th>Id</th>\n",
       "      <th>SalePrice</th>\n",
       "    </tr>\n",
       "  </thead>\n",
       "  <tbody>\n",
       "    <tr>\n",
       "      <th>0</th>\n",
       "      <td>1461</td>\n",
       "      <td>129961.914062</td>\n",
       "    </tr>\n",
       "    <tr>\n",
       "      <th>1</th>\n",
       "      <td>1462</td>\n",
       "      <td>155233.406250</td>\n",
       "    </tr>\n",
       "    <tr>\n",
       "      <th>2</th>\n",
       "      <td>1463</td>\n",
       "      <td>176083.375000</td>\n",
       "    </tr>\n",
       "    <tr>\n",
       "      <th>3</th>\n",
       "      <td>1464</td>\n",
       "      <td>182086.062500</td>\n",
       "    </tr>\n",
       "    <tr>\n",
       "      <th>4</th>\n",
       "      <td>1465</td>\n",
       "      <td>195271.000000</td>\n",
       "    </tr>\n",
       "  </tbody>\n",
       "</table>\n",
       "</div>"
      ],
      "text/plain": [
       "     Id      SalePrice\n",
       "0  1461  129961.914062\n",
       "1  1462  155233.406250\n",
       "2  1463  176083.375000\n",
       "3  1464  182086.062500\n",
       "4  1465  195271.000000"
      ]
     },
     "execution_count": 22,
     "metadata": {},
     "output_type": "execute_result"
    }
   ],
   "source": [
    "sample_submission_df = pd.read_csv('../input/house-prices-advanced-regression-techniques/sample_submission.csv')\n",
    "sample_submission_df['SalePrice'] = gbtm.predict(test_ds)\n",
    "sample_submission_df.to_csv('/kaggle/working/submission4.csv', index=False)\n",
    "sample_submission_df.head()"
   ]
  },
  {
   "cell_type": "code",
   "execution_count": null,
   "id": "a4f2769f",
   "metadata": {
    "papermill": {
     "duration": 0.020037,
     "end_time": "2024-03-05T02:04:33.134724",
     "exception": false,
     "start_time": "2024-03-05T02:04:33.114687",
     "status": "completed"
    },
    "tags": []
   },
   "outputs": [],
   "source": []
  }
 ],
 "metadata": {
  "kaggle": {
   "accelerator": "gpu",
   "dataSources": [
    {
     "databundleVersionId": 868283,
     "sourceId": 5407,
     "sourceType": "competition"
    }
   ],
   "dockerImageVersionId": 30407,
   "isGpuEnabled": true,
   "isInternetEnabled": true,
   "language": "python",
   "sourceType": "notebook"
  },
  "kernelspec": {
   "display_name": "Python 3",
   "language": "python",
   "name": "python3"
  },
  "language_info": {
   "codemirror_mode": {
    "name": "ipython",
    "version": 3
   },
   "file_extension": ".py",
   "mimetype": "text/x-python",
   "name": "python",
   "nbconvert_exporter": "python",
   "pygments_lexer": "ipython3",
   "version": "3.7.12"
  },
  "papermill": {
   "default_parameters": {},
   "duration": 57.183475,
   "end_time": "2024-03-05T02:04:36.417945",
   "environment_variables": {},
   "exception": null,
   "input_path": "__notebook__.ipynb",
   "output_path": "__notebook__.ipynb",
   "parameters": {},
   "start_time": "2024-03-05T02:03:39.234470",
   "version": "2.4.0"
  }
 },
 "nbformat": 4,
 "nbformat_minor": 5
}
