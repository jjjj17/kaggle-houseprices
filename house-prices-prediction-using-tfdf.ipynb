{
 "cells": [
  {
   "cell_type": "markdown",
   "id": "8d907c84",
   "metadata": {
    "id": "5v5mm4amQRrm",
    "papermill": {
     "duration": 0.013576,
     "end_time": "2024-03-06T02:56:12.695659",
     "exception": false,
     "start_time": "2024-03-06T02:56:12.682083",
     "status": "completed"
    },
    "tags": []
   },
   "source": [
    "# House Prices Prediction using TensorFlow Decision Forests"
   ]
  },
  {
   "cell_type": "markdown",
   "id": "01b8f328",
   "metadata": {
    "id": "Z4eo3rH_MKbC",
    "papermill": {
     "duration": 0.01198,
     "end_time": "2024-03-06T02:56:12.720033",
     "exception": false,
     "start_time": "2024-03-06T02:56:12.708053",
     "status": "completed"
    },
    "tags": []
   },
   "source": [
    "This notebook walks you through how to train a baseline Random Forest model using TensorFlow Decision Forests on the House Prices dataset made available for this competition.\n",
    "\n",
    "Roughly, the code will look as follows:\n",
    "\n",
    "```\n",
    "import tensorflow_decision_forests as tfdf\n",
    "import pandas as pd\n",
    "\n",
    "dataset = pd.read_csv(\"project/dataset.csv\")\n",
    "tf_dataset = tfdf.keras.pd_dataframe_to_tf_dataset(dataset, label=\"my_label\")\n",
    "\n",
    "model = tfdf.keras.RandomForestModel()\n",
    "model.fit(tf_dataset)\n",
    "\n",
    "print(model.summary())\n",
    "```\n",
    "\n",
    "Decision Forests are a family of tree-based models including Random Forests and Gradient Boosted Trees. They are the best place to start when working with tabular data, and will often outperform (or provide a strong baseline) before you begin experimenting with neural networks."
   ]
  },
  {
   "cell_type": "markdown",
   "id": "776ba145",
   "metadata": {
    "id": "FVOXAyXl3-fA",
    "papermill": {
     "duration": 0.011907,
     "end_time": "2024-03-06T02:56:12.744041",
     "exception": false,
     "start_time": "2024-03-06T02:56:12.732134",
     "status": "completed"
    },
    "tags": []
   },
   "source": [
    "## Import the library"
   ]
  },
  {
   "cell_type": "code",
   "execution_count": 1,
   "id": "c4db12ca",
   "metadata": {
    "execution": {
     "iopub.execute_input": "2024-03-06T02:56:12.769646Z",
     "iopub.status.busy": "2024-03-06T02:56:12.769331Z",
     "iopub.status.idle": "2024-03-06T02:56:21.602839Z",
     "shell.execute_reply": "2024-03-06T02:56:21.601699Z"
    },
    "id": "IGmyjJJatzBZ",
    "papermill": {
     "duration": 8.849496,
     "end_time": "2024-03-06T02:56:21.605658",
     "exception": false,
     "start_time": "2024-03-06T02:56:12.756162",
     "status": "completed"
    },
    "tags": []
   },
   "outputs": [],
   "source": [
    "import tensorflow as tf\n",
    "import tensorflow_decision_forests as tfdf\n",
    "import pandas as pd\n",
    "import seaborn as sns\n",
    "import matplotlib.pyplot as plt\n",
    "import numpy as np\n",
    "import xgboost as xgb\n",
    "\n",
    "# Comment this if the data visualisations doesn't work on your side\n",
    "%matplotlib inline"
   ]
  },
  {
   "cell_type": "code",
   "execution_count": 2,
   "id": "f49b4bf6",
   "metadata": {
    "execution": {
     "iopub.execute_input": "2024-03-06T02:56:21.633273Z",
     "iopub.status.busy": "2024-03-06T02:56:21.632205Z",
     "iopub.status.idle": "2024-03-06T02:56:21.638134Z",
     "shell.execute_reply": "2024-03-06T02:56:21.637144Z"
    },
    "id": "dh4qwB4iN7Ue",
    "papermill": {
     "duration": 0.021532,
     "end_time": "2024-03-06T02:56:21.640573",
     "exception": false,
     "start_time": "2024-03-06T02:56:21.619041",
     "status": "completed"
    },
    "tags": []
   },
   "outputs": [
    {
     "name": "stdout",
     "output_type": "stream",
     "text": [
      "TensorFlow v2.11.0\n",
      "TensorFlow Decision Forests v1.2.0\n"
     ]
    }
   ],
   "source": [
    "print(\"TensorFlow v\" + tf.__version__)\n",
    "print(\"TensorFlow Decision Forests v\" + tfdf.__version__)"
   ]
  },
  {
   "cell_type": "markdown",
   "id": "07ae71b0",
   "metadata": {
    "id": "-3vxMmCPvqpf",
    "papermill": {
     "duration": 0.011952,
     "end_time": "2024-03-06T02:56:21.664722",
     "exception": false,
     "start_time": "2024-03-06T02:56:21.652770",
     "status": "completed"
    },
    "tags": []
   },
   "source": [
    "## Load the dataset\n"
   ]
  },
  {
   "cell_type": "code",
   "execution_count": 3,
   "id": "d79e48a0",
   "metadata": {
    "execution": {
     "iopub.execute_input": "2024-03-06T02:56:21.690567Z",
     "iopub.status.busy": "2024-03-06T02:56:21.690258Z",
     "iopub.status.idle": "2024-03-06T02:56:21.726654Z",
     "shell.execute_reply": "2024-03-06T02:56:21.725613Z"
    },
    "id": "JVMPH_IDOBH2",
    "papermill": {
     "duration": 0.051805,
     "end_time": "2024-03-06T02:56:21.728843",
     "exception": false,
     "start_time": "2024-03-06T02:56:21.677038",
     "status": "completed"
    },
    "tags": []
   },
   "outputs": [],
   "source": [
    "train_file_path = \"../input/house-prices-advanced-regression-techniques/train.csv\"\n",
    "dataset_df = pd.read_csv(train_file_path)"
   ]
  },
  {
   "cell_type": "code",
   "execution_count": 4,
   "id": "38fd671c",
   "metadata": {
    "execution": {
     "iopub.execute_input": "2024-03-06T02:56:21.754876Z",
     "iopub.status.busy": "2024-03-06T02:56:21.754100Z",
     "iopub.status.idle": "2024-03-06T02:56:21.762129Z",
     "shell.execute_reply": "2024-03-06T02:56:21.761170Z"
    },
    "papermill": {
     "duration": 0.02329,
     "end_time": "2024-03-06T02:56:21.764356",
     "exception": false,
     "start_time": "2024-03-06T02:56:21.741066",
     "status": "completed"
    },
    "tags": []
   },
   "outputs": [
    {
     "data": {
      "text/plain": [
       "Index(['Id', 'MSSubClass', 'MSZoning', 'LotFrontage', 'LotArea', 'Street',\n",
       "       'Alley', 'LotShape', 'LandContour', 'Utilities', 'LotConfig',\n",
       "       'LandSlope', 'Neighborhood', 'Condition1', 'Condition2', 'BldgType',\n",
       "       'HouseStyle', 'OverallQual', 'OverallCond', 'YearBuilt', 'YearRemodAdd',\n",
       "       'RoofStyle', 'RoofMatl', 'Exterior1st', 'Exterior2nd', 'MasVnrType',\n",
       "       'MasVnrArea', 'ExterQual', 'ExterCond', 'Foundation', 'BsmtQual',\n",
       "       'BsmtCond', 'BsmtExposure', 'BsmtFinType1', 'BsmtFinSF1',\n",
       "       'BsmtFinType2', 'BsmtFinSF2', 'BsmtUnfSF', 'TotalBsmtSF', 'Heating',\n",
       "       'HeatingQC', 'CentralAir', 'Electrical', '1stFlrSF', '2ndFlrSF',\n",
       "       'LowQualFinSF', 'GrLivArea', 'BsmtFullBath', 'BsmtHalfBath', 'FullBath',\n",
       "       'HalfBath', 'BedroomAbvGr', 'KitchenAbvGr', 'KitchenQual',\n",
       "       'TotRmsAbvGrd', 'Functional', 'Fireplaces', 'FireplaceQu', 'GarageType',\n",
       "       'GarageYrBlt', 'GarageFinish', 'GarageCars', 'GarageArea', 'GarageQual',\n",
       "       'GarageCond', 'PavedDrive', 'WoodDeckSF', 'OpenPorchSF',\n",
       "       'EnclosedPorch', '3SsnPorch', 'ScreenPorch', 'PoolArea', 'PoolQC',\n",
       "       'Fence', 'MiscFeature', 'MiscVal', 'MoSold', 'YrSold', 'SaleType',\n",
       "       'SaleCondition', 'SalePrice'],\n",
       "      dtype='object')"
      ]
     },
     "execution_count": 4,
     "metadata": {},
     "output_type": "execute_result"
    }
   ],
   "source": [
    "dataset_df.columns"
   ]
  },
  {
   "cell_type": "code",
   "execution_count": 5,
   "id": "d214ad79",
   "metadata": {
    "execution": {
     "iopub.execute_input": "2024-03-06T02:56:21.790748Z",
     "iopub.status.busy": "2024-03-06T02:56:21.790000Z",
     "iopub.status.idle": "2024-03-06T02:56:21.801390Z",
     "shell.execute_reply": "2024-03-06T02:56:21.800624Z"
    },
    "id": "0lItmbYS416n",
    "papermill": {
     "duration": 0.026854,
     "end_time": "2024-03-06T02:56:21.803569",
     "exception": false,
     "start_time": "2024-03-06T02:56:21.776715",
     "status": "completed"
    },
    "tags": []
   },
   "outputs": [],
   "source": [
    "dataset_df = dataset_df.drop('Id', axis=1)"
   ]
  },
  {
   "cell_type": "markdown",
   "id": "c185dc07",
   "metadata": {
    "id": "PxdZCHvk416o",
    "papermill": {
     "duration": 0.012163,
     "end_time": "2024-03-06T02:56:21.828079",
     "exception": false,
     "start_time": "2024-03-06T02:56:21.815916",
     "status": "completed"
    },
    "tags": []
   },
   "source": [
    "## House Price Distribution\n",
    "\n",
    "Now let us take a look at how the house prices are distributed."
   ]
  },
  {
   "cell_type": "markdown",
   "id": "a8bb9518",
   "metadata": {
    "id": "tKnn1nR-416o",
    "papermill": {
     "duration": 0.012203,
     "end_time": "2024-03-06T02:56:21.853409",
     "exception": false,
     "start_time": "2024-03-06T02:56:21.841206",
     "status": "completed"
    },
    "tags": []
   },
   "source": [
    "## Numerical data distribution\n",
    "\n",
    "We will now take a look at how the numerical features are distributed. In order to do this, let us first list all the types of data from our dataset and select only the numerical ones."
   ]
  },
  {
   "cell_type": "code",
   "execution_count": 6,
   "id": "6c0afd1a",
   "metadata": {
    "execution": {
     "iopub.execute_input": "2024-03-06T02:56:21.879703Z",
     "iopub.status.busy": "2024-03-06T02:56:21.878977Z",
     "iopub.status.idle": "2024-03-06T02:56:21.885561Z",
     "shell.execute_reply": "2024-03-06T02:56:21.884681Z"
    },
    "id": "-hrMItSC416o",
    "papermill": {
     "duration": 0.022067,
     "end_time": "2024-03-06T02:56:21.887876",
     "exception": false,
     "start_time": "2024-03-06T02:56:21.865809",
     "status": "completed"
    },
    "tags": []
   },
   "outputs": [
    {
     "data": {
      "text/plain": [
       "[dtype('float64'), dtype('O'), dtype('int64')]"
      ]
     },
     "execution_count": 6,
     "metadata": {},
     "output_type": "execute_result"
    }
   ],
   "source": [
    "list(set(dataset_df.dtypes.tolist()))"
   ]
  },
  {
   "cell_type": "code",
   "execution_count": 7,
   "id": "f6917d12",
   "metadata": {
    "execution": {
     "iopub.execute_input": "2024-03-06T02:56:21.914133Z",
     "iopub.status.busy": "2024-03-06T02:56:21.913813Z",
     "iopub.status.idle": "2024-03-06T02:56:21.947153Z",
     "shell.execute_reply": "2024-03-06T02:56:21.946412Z"
    },
    "papermill": {
     "duration": 0.048823,
     "end_time": "2024-03-06T02:56:21.949229",
     "exception": false,
     "start_time": "2024-03-06T02:56:21.900406",
     "status": "completed"
    },
    "tags": []
   },
   "outputs": [],
   "source": [
    "dataset_df['YearsBtwRemod'] = dataset_df['YearRemodAdd']-dataset_df['YearBuilt']\n",
    "dataset_df['TotalInnerSF'] = dataset_df['1stFlrSF']+dataset_df['2ndFlrSF']+dataset_df['TotalBsmtSF']\n",
    "dataset_df['BedroomSize'] = round(dataset_df['1stFlrSF']+dataset_df['2ndFlrSF']/dataset_df['BedroomAbvGr'])\n",
    "\n",
    "dataset_df.replace([np.inf, -np.inf], np.nan, inplace=True)\n",
    "dataset_df.BedroomSize.fillna(0,inplace=True)\n",
    "dataset_df_xgb = dataset_df.select_dtypes(include = ['float64', 'int64'])"
   ]
  },
  {
   "cell_type": "code",
   "execution_count": 8,
   "id": "dcf8ebc7",
   "metadata": {
    "execution": {
     "iopub.execute_input": "2024-03-06T02:56:21.975444Z",
     "iopub.status.busy": "2024-03-06T02:56:21.975146Z",
     "iopub.status.idle": "2024-03-06T02:56:22.001363Z",
     "shell.execute_reply": "2024-03-06T02:56:22.000366Z"
    },
    "id": "Vg2PQvfb416o",
    "papermill": {
     "duration": 0.041774,
     "end_time": "2024-03-06T02:56:22.003535",
     "exception": false,
     "start_time": "2024-03-06T02:56:21.961761",
     "status": "completed"
    },
    "tags": []
   },
   "outputs": [
    {
     "data": {
      "text/html": [
       "<div>\n",
       "<style scoped>\n",
       "    .dataframe tbody tr th:only-of-type {\n",
       "        vertical-align: middle;\n",
       "    }\n",
       "\n",
       "    .dataframe tbody tr th {\n",
       "        vertical-align: top;\n",
       "    }\n",
       "\n",
       "    .dataframe thead th {\n",
       "        text-align: right;\n",
       "    }\n",
       "</style>\n",
       "<table border=\"1\" class=\"dataframe\">\n",
       "  <thead>\n",
       "    <tr style=\"text-align: right;\">\n",
       "      <th></th>\n",
       "      <th>MSSubClass</th>\n",
       "      <th>LotFrontage</th>\n",
       "      <th>LotArea</th>\n",
       "      <th>OverallQual</th>\n",
       "      <th>OverallCond</th>\n",
       "      <th>YearBuilt</th>\n",
       "      <th>YearRemodAdd</th>\n",
       "      <th>MasVnrArea</th>\n",
       "      <th>BsmtFinSF1</th>\n",
       "      <th>BsmtFinSF2</th>\n",
       "      <th>...</th>\n",
       "      <th>3SsnPorch</th>\n",
       "      <th>ScreenPorch</th>\n",
       "      <th>PoolArea</th>\n",
       "      <th>MiscVal</th>\n",
       "      <th>MoSold</th>\n",
       "      <th>YrSold</th>\n",
       "      <th>SalePrice</th>\n",
       "      <th>YearsBtwRemod</th>\n",
       "      <th>TotalInnerSF</th>\n",
       "      <th>BedroomSize</th>\n",
       "    </tr>\n",
       "  </thead>\n",
       "  <tbody>\n",
       "    <tr>\n",
       "      <th>0</th>\n",
       "      <td>60</td>\n",
       "      <td>65.0</td>\n",
       "      <td>8450</td>\n",
       "      <td>7</td>\n",
       "      <td>5</td>\n",
       "      <td>2003</td>\n",
       "      <td>2003</td>\n",
       "      <td>196.0</td>\n",
       "      <td>706</td>\n",
       "      <td>0</td>\n",
       "      <td>...</td>\n",
       "      <td>0</td>\n",
       "      <td>0</td>\n",
       "      <td>0</td>\n",
       "      <td>0</td>\n",
       "      <td>2</td>\n",
       "      <td>2008</td>\n",
       "      <td>208500</td>\n",
       "      <td>0</td>\n",
       "      <td>2566</td>\n",
       "      <td>1141.0</td>\n",
       "    </tr>\n",
       "    <tr>\n",
       "      <th>1</th>\n",
       "      <td>20</td>\n",
       "      <td>80.0</td>\n",
       "      <td>9600</td>\n",
       "      <td>6</td>\n",
       "      <td>8</td>\n",
       "      <td>1976</td>\n",
       "      <td>1976</td>\n",
       "      <td>0.0</td>\n",
       "      <td>978</td>\n",
       "      <td>0</td>\n",
       "      <td>...</td>\n",
       "      <td>0</td>\n",
       "      <td>0</td>\n",
       "      <td>0</td>\n",
       "      <td>0</td>\n",
       "      <td>5</td>\n",
       "      <td>2007</td>\n",
       "      <td>181500</td>\n",
       "      <td>0</td>\n",
       "      <td>2524</td>\n",
       "      <td>1262.0</td>\n",
       "    </tr>\n",
       "    <tr>\n",
       "      <th>2</th>\n",
       "      <td>60</td>\n",
       "      <td>68.0</td>\n",
       "      <td>11250</td>\n",
       "      <td>7</td>\n",
       "      <td>5</td>\n",
       "      <td>2001</td>\n",
       "      <td>2002</td>\n",
       "      <td>162.0</td>\n",
       "      <td>486</td>\n",
       "      <td>0</td>\n",
       "      <td>...</td>\n",
       "      <td>0</td>\n",
       "      <td>0</td>\n",
       "      <td>0</td>\n",
       "      <td>0</td>\n",
       "      <td>9</td>\n",
       "      <td>2008</td>\n",
       "      <td>223500</td>\n",
       "      <td>1</td>\n",
       "      <td>2706</td>\n",
       "      <td>1209.0</td>\n",
       "    </tr>\n",
       "    <tr>\n",
       "      <th>3</th>\n",
       "      <td>70</td>\n",
       "      <td>60.0</td>\n",
       "      <td>9550</td>\n",
       "      <td>7</td>\n",
       "      <td>5</td>\n",
       "      <td>1915</td>\n",
       "      <td>1970</td>\n",
       "      <td>0.0</td>\n",
       "      <td>216</td>\n",
       "      <td>0</td>\n",
       "      <td>...</td>\n",
       "      <td>0</td>\n",
       "      <td>0</td>\n",
       "      <td>0</td>\n",
       "      <td>0</td>\n",
       "      <td>2</td>\n",
       "      <td>2006</td>\n",
       "      <td>140000</td>\n",
       "      <td>55</td>\n",
       "      <td>2473</td>\n",
       "      <td>1213.0</td>\n",
       "    </tr>\n",
       "    <tr>\n",
       "      <th>4</th>\n",
       "      <td>60</td>\n",
       "      <td>84.0</td>\n",
       "      <td>14260</td>\n",
       "      <td>8</td>\n",
       "      <td>5</td>\n",
       "      <td>2000</td>\n",
       "      <td>2000</td>\n",
       "      <td>350.0</td>\n",
       "      <td>655</td>\n",
       "      <td>0</td>\n",
       "      <td>...</td>\n",
       "      <td>0</td>\n",
       "      <td>0</td>\n",
       "      <td>0</td>\n",
       "      <td>0</td>\n",
       "      <td>12</td>\n",
       "      <td>2008</td>\n",
       "      <td>250000</td>\n",
       "      <td>0</td>\n",
       "      <td>3343</td>\n",
       "      <td>1408.0</td>\n",
       "    </tr>\n",
       "  </tbody>\n",
       "</table>\n",
       "<p>5 rows × 40 columns</p>\n",
       "</div>"
      ],
      "text/plain": [
       "   MSSubClass  LotFrontage  LotArea  OverallQual  OverallCond  YearBuilt  \\\n",
       "0          60         65.0     8450            7            5       2003   \n",
       "1          20         80.0     9600            6            8       1976   \n",
       "2          60         68.0    11250            7            5       2001   \n",
       "3          70         60.0     9550            7            5       1915   \n",
       "4          60         84.0    14260            8            5       2000   \n",
       "\n",
       "   YearRemodAdd  MasVnrArea  BsmtFinSF1  BsmtFinSF2  ...  3SsnPorch  \\\n",
       "0          2003       196.0         706           0  ...          0   \n",
       "1          1976         0.0         978           0  ...          0   \n",
       "2          2002       162.0         486           0  ...          0   \n",
       "3          1970         0.0         216           0  ...          0   \n",
       "4          2000       350.0         655           0  ...          0   \n",
       "\n",
       "   ScreenPorch  PoolArea  MiscVal  MoSold  YrSold  SalePrice  YearsBtwRemod  \\\n",
       "0            0         0        0       2    2008     208500              0   \n",
       "1            0         0        0       5    2007     181500              0   \n",
       "2            0         0        0       9    2008     223500              1   \n",
       "3            0         0        0       2    2006     140000             55   \n",
       "4            0         0        0      12    2008     250000              0   \n",
       "\n",
       "   TotalInnerSF  BedroomSize  \n",
       "0          2566       1141.0  \n",
       "1          2524       1262.0  \n",
       "2          2706       1209.0  \n",
       "3          2473       1213.0  \n",
       "4          3343       1408.0  \n",
       "\n",
       "[5 rows x 40 columns]"
      ]
     },
     "execution_count": 8,
     "metadata": {},
     "output_type": "execute_result"
    }
   ],
   "source": [
    "df_num = dataset_df.select_dtypes(include = ['float64', 'int64'])\n",
    "df_num.head()"
   ]
  },
  {
   "cell_type": "markdown",
   "id": "3399a265",
   "metadata": {
    "id": "MnaH5h8u416o",
    "papermill": {
     "duration": 0.012786,
     "end_time": "2024-03-06T02:56:22.029216",
     "exception": false,
     "start_time": "2024-03-06T02:56:22.016430",
     "status": "completed"
    },
    "tags": []
   },
   "source": [
    "Now let us plot the distribution for all the numerical features."
   ]
  },
  {
   "cell_type": "code",
   "execution_count": 9,
   "id": "98db1593",
   "metadata": {
    "execution": {
     "iopub.execute_input": "2024-03-06T02:56:22.056845Z",
     "iopub.status.busy": "2024-03-06T02:56:22.056464Z",
     "iopub.status.idle": "2024-03-06T02:56:30.114505Z",
     "shell.execute_reply": "2024-03-06T02:56:30.113451Z"
    },
    "id": "Dj4h_dIw416o",
    "papermill": {
     "duration": 8.07664,
     "end_time": "2024-03-06T02:56:30.118801",
     "exception": false,
     "start_time": "2024-03-06T02:56:22.042161",
     "status": "completed"
    },
    "tags": []
   },
   "outputs": [
    {
     "data": {
      "image/png": "[encoded data removed]",
      "text/plain": [
       "<Figure size 1600x2000 with 42 Axes>"
      ]
     },
     "metadata": {},
     "output_type": "display_data"
    }
   ],
   "source": [
    "df_num.hist(figsize=(16, 20), bins=50, xlabelsize=8, ylabelsize=8);"
   ]
  },
  {
   "cell_type": "markdown",
   "id": "f28a316f",
   "metadata": {
    "id": "H4O7QCoh5e2e",
    "papermill": {
     "duration": 0.015509,
     "end_time": "2024-03-06T02:56:30.150204",
     "exception": false,
     "start_time": "2024-03-06T02:56:30.134695",
     "status": "completed"
    },
    "tags": []
   },
   "source": [
    "## Prepare the dataset\n",
    "\n",
    "This dataset contains a mix of numeric, categorical and missing features. TF-DF supports all these feature types natively, and no preprocessing is required. This is one advantage of tree-based models, making them a great entry point to Tensorflow and ML."
   ]
  },
  {
   "cell_type": "markdown",
   "id": "d36ac4ec",
   "metadata": {
    "id": "brbRsBQfSC74",
    "papermill": {
     "duration": 0.015413,
     "end_time": "2024-03-06T02:56:30.181069",
     "exception": false,
     "start_time": "2024-03-06T02:56:30.165656",
     "status": "completed"
    },
    "tags": []
   },
   "source": [
    "Now let us split the dataset into training and testing datasets:"
   ]
  },
  {
   "cell_type": "code",
   "execution_count": 10,
   "id": "2a7a6f19",
   "metadata": {
    "execution": {
     "iopub.execute_input": "2024-03-06T02:56:30.215600Z",
     "iopub.status.busy": "2024-03-06T02:56:30.215227Z",
     "iopub.status.idle": "2024-03-06T02:56:30.226467Z",
     "shell.execute_reply": "2024-03-06T02:56:30.225285Z"
    },
    "id": "tsQad0t7SBv2",
    "papermill": {
     "duration": 0.03049,
     "end_time": "2024-03-06T02:56:30.228650",
     "exception": false,
     "start_time": "2024-03-06T02:56:30.198160",
     "status": "completed"
    },
    "tags": []
   },
   "outputs": [
    {
     "name": "stdout",
     "output_type": "stream",
     "text": [
      "1076 examples in training, 384 examples in testing.\n",
      "1062 examples in training, 398 examples in testing.\n"
     ]
    }
   ],
   "source": [
    "def split_dataset(dataset, test_ratio=0.28):\n",
    "  test_indices = np.random.rand(len(dataset)) < test_ratio\n",
    "  return dataset[~test_indices], dataset[test_indices]\n",
    "\n",
    "train_ds_pd, valid_ds_pd = split_dataset(dataset_df)\n",
    "print(\"{} examples in training, {} examples in testing.\".format(\n",
    "    len(train_ds_pd), len(valid_ds_pd)))\n",
    "\n",
    "train_ds_xgb, valid_ds_xgb = split_dataset(dataset_df_xgb)\n",
    "print(\"{} examples in training, {} examples in testing.\".format(\n",
    "    len(train_ds_xgb), len(valid_ds_xgb)))"
   ]
  },
  {
   "cell_type": "code",
   "execution_count": 11,
   "id": "5768d7d5",
   "metadata": {
    "execution": {
     "iopub.execute_input": "2024-03-06T02:56:30.261630Z",
     "iopub.status.busy": "2024-03-06T02:56:30.260990Z",
     "iopub.status.idle": "2024-03-06T02:56:30.267369Z",
     "shell.execute_reply": "2024-03-06T02:56:30.266418Z"
    },
    "papermill": {
     "duration": 0.025288,
     "end_time": "2024-03-06T02:56:30.269628",
     "exception": false,
     "start_time": "2024-03-06T02:56:30.244340",
     "status": "completed"
    },
    "tags": []
   },
   "outputs": [],
   "source": [
    "train_ds_xgb_np = train_ds_xgb.drop(['SalePrice'],axis=1)\n",
    "valid_ds_xgb_np = valid_ds_xgb.drop(['SalePrice'],axis=1)"
   ]
  },
  {
   "cell_type": "markdown",
   "id": "e7967714",
   "metadata": {
    "id": "-hNGPbLlSGvp",
    "papermill": {
     "duration": 0.015628,
     "end_time": "2024-03-06T02:56:30.300700",
     "exception": false,
     "start_time": "2024-03-06T02:56:30.285072",
     "status": "completed"
    },
    "tags": []
   },
   "source": [
    "There's one more step required before we can train the model. We need to convert the datatset from Pandas format (`pd.DataFrame`) into TensorFlow Datasets format (`tf.data.Dataset`).\n",
    "\n",
    "[TensorFlow Datasets](https://www.tensorflow.org/datasets/overview) is a high performance data loading library which is helpful when training neural networks with accelerators like GPUs and TPUs."
   ]
  },
  {
   "cell_type": "markdown",
   "id": "2dfc9e9e",
   "metadata": {
    "id": "7goqxGx3416p",
    "papermill": {
     "duration": 0.015723,
     "end_time": "2024-03-06T02:56:30.332185",
     "exception": false,
     "start_time": "2024-03-06T02:56:30.316462",
     "status": "completed"
    },
    "tags": []
   },
   "source": [
    "By default the Random Forest Model is configured to train classification tasks. Since this is a regression problem, we will specify the type of the task (`tfdf.keras.Task.REGRESSION`) as a parameter here."
   ]
  },
  {
   "cell_type": "code",
   "execution_count": 12,
   "id": "acffc69f",
   "metadata": {
    "execution": {
     "iopub.execute_input": "2024-03-06T02:56:30.367547Z",
     "iopub.status.busy": "2024-03-06T02:56:30.366934Z",
     "iopub.status.idle": "2024-03-06T02:56:33.075408Z",
     "shell.execute_reply": "2024-03-06T02:56:33.074498Z"
    },
    "id": "xQgimfirSGQ9",
    "papermill": {
     "duration": 2.728456,
     "end_time": "2024-03-06T02:56:33.078144",
     "exception": false,
     "start_time": "2024-03-06T02:56:30.349688",
     "status": "completed"
    },
    "tags": []
   },
   "outputs": [],
   "source": [
    "label = 'SalePrice'\n",
    "train_ds = tfdf.keras.pd_dataframe_to_tf_dataset(train_ds_pd, label=label, task = tfdf.keras.Task.REGRESSION)\n",
    "valid_ds = tfdf.keras.pd_dataframe_to_tf_dataset(valid_ds_pd, label=label, task = tfdf.keras.Task.REGRESSION)"
   ]
  },
  {
   "cell_type": "markdown",
   "id": "7e233ad7",
   "metadata": {
    "papermill": {
     "duration": 0.015396,
     "end_time": "2024-03-06T02:56:33.109660",
     "exception": false,
     "start_time": "2024-03-06T02:56:33.094264",
     "status": "completed"
    },
    "tags": []
   },
   "source": [
    "## GBTM"
   ]
  },
  {
   "cell_type": "code",
   "execution_count": 13,
   "id": "fccbdb16",
   "metadata": {
    "execution": {
     "iopub.execute_input": "2024-03-06T02:56:33.143050Z",
     "iopub.status.busy": "2024-03-06T02:56:33.142465Z",
     "iopub.status.idle": "2024-03-06T02:56:33.152873Z",
     "shell.execute_reply": "2024-03-06T02:56:33.151945Z"
    },
    "papermill": {
     "duration": 0.029303,
     "end_time": "2024-03-06T02:56:33.155119",
     "exception": false,
     "start_time": "2024-03-06T02:56:33.125816",
     "status": "completed"
    },
    "tags": []
   },
   "outputs": [
    {
     "data": {
      "text/plain": [
       "<tensorflow_decision_forests.component.tuner.tuner.SearchSpace at 0x7a766f941f10>"
      ]
     },
     "execution_count": 13,
     "metadata": {},
     "output_type": "execute_result"
    }
   ],
   "source": [
    "tuner = tfdf.tuner.RandomSearch(num_trials=30)\n",
    "\n",
    "# Hyper-parameters to optimize.\n",
    "tuner.choice(\"max_depth\", [4,5,6,7,15,60,150])\n",
    "tuner.choice(\"min_examples\", [2,4,5,6,7,15,50,150])\n",
    "tuner.choice(\"num_trees\",[5,20,40,70,80,100,200,300])\n",
    "tuner.choice(\"selective_gradient_boosting_ratio\",[0.0001,0.01,0.015,0.02,0.025,0.1,0.7])\n",
    "tuner.choice(\"random_seed\",[123456,12,1717,654646])"
   ]
  },
  {
   "cell_type": "code",
   "execution_count": 14,
   "id": "01562829",
   "metadata": {
    "execution": {
     "iopub.execute_input": "2024-03-06T02:56:33.187999Z",
     "iopub.status.busy": "2024-03-06T02:56:33.187266Z",
     "iopub.status.idle": "2024-03-06T02:56:33.233298Z",
     "shell.execute_reply": "2024-03-06T02:56:33.232268Z"
    },
    "id": "O7bqOQMYTRXZ",
    "papermill": {
     "duration": 0.064801,
     "end_time": "2024-03-06T02:56:33.235586",
     "exception": false,
     "start_time": "2024-03-06T02:56:33.170785",
     "status": "completed"
    },
    "tags": []
   },
   "outputs": [
    {
     "name": "stdout",
     "output_type": "stream",
     "text": [
      "Use /tmp/tmpe07nfizf as temporary training directory\n"
     ]
    }
   ],
   "source": [
    "gbtm = tfdf.keras.GradientBoostedTreesModel(task = tfdf.keras.Task.REGRESSION, tuner=tuner)\n",
    "gbtm.compile(metrics=[\"mse\"]) # Optional, you can use this to include a list of eval metrics"
   ]
  },
  {
   "cell_type": "code",
   "execution_count": 15,
   "id": "d638867c",
   "metadata": {
    "execution": {
     "iopub.execute_input": "2024-03-06T02:56:33.268576Z",
     "iopub.status.busy": "2024-03-06T02:56:33.268008Z",
     "iopub.status.idle": "2024-03-06T02:57:11.535266Z",
     "shell.execute_reply": "2024-03-06T02:57:11.534222Z"
    },
    "papermill": {
     "duration": 38.286398,
     "end_time": "2024-03-06T02:57:11.537742",
     "exception": false,
     "start_time": "2024-03-06T02:56:33.251344",
     "status": "completed"
    },
    "tags": []
   },
   "outputs": [
    {
     "name": "stdout",
     "output_type": "stream",
     "text": [
      "Reading training dataset...\n",
      "Training dataset read in 0:00:07.545188. Found 1076 examples.\n",
      "Training model...\n",
      "Model trained in 0:00:27.308347\n",
      "Compiling model...\n"
     ]
    },
    {
     "name": "stderr",
     "output_type": "stream",
     "text": [
      "[INFO 2024-03-06T02:57:08.100646708+00:00 kernel.cc:1214] Loading model from path /tmp/tmpe07nfizf/model/ with prefix 852de5a88bf04179\n",
      "[INFO 2024-03-06T02:57:08.135314991+00:00 decision_forest.cc:661] Model loaded with 41 root(s), 9189 node(s), and 69 input feature(s).\n",
      "[INFO 2024-03-06T02:57:08.135351066+00:00 abstract_model.cc:1311] Engine \"GradientBoostedTreesOptPred\" built\n",
      "[INFO 2024-03-06T02:57:08.135387788+00:00 kernel.cc:1046] Use fast generic engine\n"
     ]
    },
    {
     "name": "stdout",
     "output_type": "stream",
     "text": [
      "WARNING: AutoGraph could not transform <function simple_ml_inference_op_with_handle at 0x7a76946c0170> and will run it as-is.\n",
      "Please report this to the TensorFlow team. When filing the bug, set the verbosity to 10 (on Linux, `export AUTOGRAPH_VERBOSITY=10`) and attach the full output.\n",
      "Cause: could not get source code\n",
      "To silence this warning, decorate the function with @tf.autograph.experimental.do_not_convert\n",
      "Model compiled.\n"
     ]
    },
    {
     "data": {
      "text/plain": [
       "<keras.callbacks.History at 0x7a766f94f0d0>"
      ]
     },
     "execution_count": 15,
     "metadata": {},
     "output_type": "execute_result"
    }
   ],
   "source": [
    "gbtm.fit(x=train_ds)"
   ]
  },
  {
   "cell_type": "markdown",
   "id": "e17cbb93",
   "metadata": {
    "id": "0CzJ5_sh91Yt",
    "papermill": {
     "duration": 0.016449,
     "end_time": "2024-03-06T02:57:11.571486",
     "exception": false,
     "start_time": "2024-03-06T02:57:11.555037",
     "status": "completed"
    },
    "tags": []
   },
   "source": [
    "## XGB"
   ]
  },
  {
   "cell_type": "code",
   "execution_count": 16,
   "id": "6d62f654",
   "metadata": {
    "execution": {
     "iopub.execute_input": "2024-03-06T02:57:11.607136Z",
     "iopub.status.busy": "2024-03-06T02:57:11.606772Z",
     "iopub.status.idle": "2024-03-06T02:57:11.611566Z",
     "shell.execute_reply": "2024-03-06T02:57:11.610570Z"
    },
    "papermill": {
     "duration": 0.025888,
     "end_time": "2024-03-06T02:57:11.613800",
     "exception": false,
     "start_time": "2024-03-06T02:57:11.587912",
     "status": "completed"
    },
    "tags": []
   },
   "outputs": [],
   "source": [
    "reg = xgb.XGBRegressor(tree_method=\"hist\", device=\"cuda\")"
   ]
  },
  {
   "cell_type": "code",
   "execution_count": 17,
   "id": "95d2fede",
   "metadata": {
    "execution": {
     "iopub.execute_input": "2024-03-06T02:57:11.647940Z",
     "iopub.status.busy": "2024-03-06T02:57:11.647633Z",
     "iopub.status.idle": "2024-03-06T02:57:15.301847Z",
     "shell.execute_reply": "2024-03-06T02:57:15.300770Z"
    },
    "papermill": {
     "duration": 3.674227,
     "end_time": "2024-03-06T02:57:15.304499",
     "exception": false,
     "start_time": "2024-03-06T02:57:11.630272",
     "status": "completed"
    },
    "tags": []
   },
   "outputs": [
    {
     "name": "stdout",
     "output_type": "stream",
     "text": [
      "[02:57:14] WARNING: ../src/learner.cc:627: \n",
      "Parameters: { \"device\" } might not be used.\n",
      "\n",
      "  This could be a false alarm, with some parameters getting used by language bindings but\n",
      "  then being mistakenly passed down to XGBoost core, or some parameter actually being used\n",
      "  but getting flagged wrongly here. Please open an issue if you find any such cases.\n",
      "\n",
      "\n",
      "[0]\tvalidation_0-rmse:140018.56315\tvalidation_1-rmse:145729.97609\n",
      "[1]\tvalidation_0-rmse:100986.56529\tvalidation_1-rmse:107390.13574\n",
      "[2]\tvalidation_0-rmse:73444.45827\tvalidation_1-rmse:79497.22515\n",
      "[3]\tvalidation_0-rmse:54176.74777\tvalidation_1-rmse:61271.24167\n",
      "[4]\tvalidation_0-rmse:40600.74270\tvalidation_1-rmse:49981.51998\n",
      "[5]\tvalidation_0-rmse:31108.98889\tvalidation_1-rmse:42009.43808\n",
      "[6]\tvalidation_0-rmse:24516.75357\tvalidation_1-rmse:36781.16143\n",
      "[7]\tvalidation_0-rmse:19894.50254\tvalidation_1-rmse:33589.03952\n",
      "[8]\tvalidation_0-rmse:16719.14332\tvalidation_1-rmse:31485.15438\n",
      "[9]\tvalidation_0-rmse:14466.95285\tvalidation_1-rmse:30768.65730\n",
      "[10]\tvalidation_0-rmse:12935.95644\tvalidation_1-rmse:29925.61205\n",
      "[11]\tvalidation_0-rmse:12009.05698\tvalidation_1-rmse:29488.50964\n",
      "[12]\tvalidation_0-rmse:11176.32462\tvalidation_1-rmse:29287.98623\n",
      "[13]\tvalidation_0-rmse:10463.77580\tvalidation_1-rmse:28993.39460\n",
      "[14]\tvalidation_0-rmse:9970.81404\tvalidation_1-rmse:28880.59840\n",
      "[15]\tvalidation_0-rmse:9556.97718\tvalidation_1-rmse:28762.55097\n",
      "[16]\tvalidation_0-rmse:9135.89117\tvalidation_1-rmse:28624.61282\n",
      "[17]\tvalidation_0-rmse:8799.49516\tvalidation_1-rmse:28655.73314\n",
      "[18]\tvalidation_0-rmse:8531.64863\tvalidation_1-rmse:28545.51617\n",
      "[19]\tvalidation_0-rmse:8278.88306\tvalidation_1-rmse:28573.08517\n",
      "[20]\tvalidation_0-rmse:8003.25364\tvalidation_1-rmse:28559.01713\n",
      "[21]\tvalidation_0-rmse:7729.44024\tvalidation_1-rmse:28577.68201\n",
      "[22]\tvalidation_0-rmse:7546.85691\tvalidation_1-rmse:28493.35936\n",
      "[23]\tvalidation_0-rmse:7267.62626\tvalidation_1-rmse:28402.84113\n",
      "[24]\tvalidation_0-rmse:6965.60532\tvalidation_1-rmse:28380.38242\n",
      "[25]\tvalidation_0-rmse:6619.11129\tvalidation_1-rmse:28387.14487\n",
      "[26]\tvalidation_0-rmse:6375.57188\tvalidation_1-rmse:28396.55338\n",
      "[27]\tvalidation_0-rmse:6224.34796\tvalidation_1-rmse:28355.50532\n",
      "[28]\tvalidation_0-rmse:6123.90202\tvalidation_1-rmse:28300.49015\n",
      "[29]\tvalidation_0-rmse:6017.24837\tvalidation_1-rmse:28304.31291\n",
      "[30]\tvalidation_0-rmse:5889.69731\tvalidation_1-rmse:28314.47379\n",
      "[31]\tvalidation_0-rmse:5710.72647\tvalidation_1-rmse:28290.48461\n",
      "[32]\tvalidation_0-rmse:5514.51123\tvalidation_1-rmse:28305.06303\n",
      "[33]\tvalidation_0-rmse:5375.85618\tvalidation_1-rmse:28281.20610\n",
      "[34]\tvalidation_0-rmse:5126.38527\tvalidation_1-rmse:28239.02585\n",
      "[35]\tvalidation_0-rmse:5034.77421\tvalidation_1-rmse:28257.03549\n",
      "[36]\tvalidation_0-rmse:4981.69425\tvalidation_1-rmse:28263.62447\n",
      "[37]\tvalidation_0-rmse:4760.48796\tvalidation_1-rmse:28293.36177\n",
      "[38]\tvalidation_0-rmse:4610.61148\tvalidation_1-rmse:28295.30968\n",
      "[39]\tvalidation_0-rmse:4538.24247\tvalidation_1-rmse:28289.04232\n",
      "[40]\tvalidation_0-rmse:4407.60716\tvalidation_1-rmse:28299.40607\n",
      "[41]\tvalidation_0-rmse:4355.02227\tvalidation_1-rmse:28332.41341\n",
      "[42]\tvalidation_0-rmse:4240.25062\tvalidation_1-rmse:28312.40184\n",
      "[43]\tvalidation_0-rmse:4085.11558\tvalidation_1-rmse:28280.07629\n",
      "[44]\tvalidation_0-rmse:3997.60532\tvalidation_1-rmse:28270.67035\n",
      "[45]\tvalidation_0-rmse:3894.85203\tvalidation_1-rmse:28241.40835\n",
      "[46]\tvalidation_0-rmse:3828.07014\tvalidation_1-rmse:28228.09062\n",
      "[47]\tvalidation_0-rmse:3692.43248\tvalidation_1-rmse:28231.54232\n",
      "[48]\tvalidation_0-rmse:3619.39643\tvalidation_1-rmse:28223.30440\n",
      "[49]\tvalidation_0-rmse:3447.98582\tvalidation_1-rmse:28181.92585\n",
      "[50]\tvalidation_0-rmse:3354.84152\tvalidation_1-rmse:28207.01296\n",
      "[51]\tvalidation_0-rmse:3256.41890\tvalidation_1-rmse:28184.87312\n",
      "[52]\tvalidation_0-rmse:3139.50260\tvalidation_1-rmse:28200.27342\n",
      "[53]\tvalidation_0-rmse:3094.11937\tvalidation_1-rmse:28177.02594\n",
      "[54]\tvalidation_0-rmse:3053.13444\tvalidation_1-rmse:28176.14338\n",
      "[55]\tvalidation_0-rmse:2931.99599\tvalidation_1-rmse:28192.79463\n",
      "[56]\tvalidation_0-rmse:2880.54834\tvalidation_1-rmse:28183.63346\n",
      "[57]\tvalidation_0-rmse:2789.91356\tvalidation_1-rmse:28186.30027\n",
      "[58]\tvalidation_0-rmse:2751.18492\tvalidation_1-rmse:28199.80821\n",
      "[59]\tvalidation_0-rmse:2631.79527\tvalidation_1-rmse:28197.01096\n",
      "[60]\tvalidation_0-rmse:2574.84207\tvalidation_1-rmse:28175.31916\n",
      "[61]\tvalidation_0-rmse:2472.54707\tvalidation_1-rmse:28180.71006\n",
      "[62]\tvalidation_0-rmse:2385.80262\tvalidation_1-rmse:28192.85766\n",
      "[63]\tvalidation_0-rmse:2334.37900\tvalidation_1-rmse:28187.99048\n",
      "[64]\tvalidation_0-rmse:2242.82365\tvalidation_1-rmse:28163.69348\n",
      "[65]\tvalidation_0-rmse:2180.39890\tvalidation_1-rmse:28197.65039\n",
      "[66]\tvalidation_0-rmse:2132.53099\tvalidation_1-rmse:28203.07468\n",
      "[67]\tvalidation_0-rmse:2049.36502\tvalidation_1-rmse:28202.82827\n",
      "[68]\tvalidation_0-rmse:2013.57624\tvalidation_1-rmse:28200.46033\n",
      "[69]\tvalidation_0-rmse:1985.23268\tvalidation_1-rmse:28201.42430\n",
      "[70]\tvalidation_0-rmse:1923.89740\tvalidation_1-rmse:28196.09392\n",
      "[71]\tvalidation_0-rmse:1892.03021\tvalidation_1-rmse:28195.95364\n",
      "[72]\tvalidation_0-rmse:1801.40220\tvalidation_1-rmse:28181.98879\n",
      "[73]\tvalidation_0-rmse:1764.37609\tvalidation_1-rmse:28186.87757\n",
      "[74]\tvalidation_0-rmse:1737.55129\tvalidation_1-rmse:28193.78535\n",
      "[75]\tvalidation_0-rmse:1704.61153\tvalidation_1-rmse:28199.83443\n",
      "[76]\tvalidation_0-rmse:1609.77536\tvalidation_1-rmse:28207.36452\n",
      "[77]\tvalidation_0-rmse:1533.70676\tvalidation_1-rmse:28216.41255\n",
      "[78]\tvalidation_0-rmse:1484.79549\tvalidation_1-rmse:28223.15673\n",
      "[79]\tvalidation_0-rmse:1448.90864\tvalidation_1-rmse:28226.42583\n",
      "[80]\tvalidation_0-rmse:1406.94752\tvalidation_1-rmse:28227.58123\n",
      "[81]\tvalidation_0-rmse:1376.42871\tvalidation_1-rmse:28224.78292\n",
      "[82]\tvalidation_0-rmse:1341.78748\tvalidation_1-rmse:28218.05140\n",
      "[83]\tvalidation_0-rmse:1324.09132\tvalidation_1-rmse:28218.66290\n",
      "[84]\tvalidation_0-rmse:1315.45362\tvalidation_1-rmse:28222.78070\n",
      "[85]\tvalidation_0-rmse:1290.39346\tvalidation_1-rmse:28225.60258\n",
      "[86]\tvalidation_0-rmse:1269.74110\tvalidation_1-rmse:28222.86588\n",
      "[87]\tvalidation_0-rmse:1231.59699\tvalidation_1-rmse:28227.63171\n",
      "[88]\tvalidation_0-rmse:1217.56767\tvalidation_1-rmse:28229.50043\n",
      "[89]\tvalidation_0-rmse:1191.83832\tvalidation_1-rmse:28233.59401\n",
      "[90]\tvalidation_0-rmse:1180.45693\tvalidation_1-rmse:28234.00636\n",
      "[91]\tvalidation_0-rmse:1143.65163\tvalidation_1-rmse:28234.86183\n",
      "[92]\tvalidation_0-rmse:1133.52657\tvalidation_1-rmse:28232.41676\n",
      "[93]\tvalidation_0-rmse:1114.65956\tvalidation_1-rmse:28230.30982\n",
      "[94]\tvalidation_0-rmse:1108.77619\tvalidation_1-rmse:28228.01973\n",
      "[95]\tvalidation_0-rmse:1066.40481\tvalidation_1-rmse:28232.90983\n",
      "[96]\tvalidation_0-rmse:1043.30783\tvalidation_1-rmse:28229.70117\n",
      "[97]\tvalidation_0-rmse:1032.83937\tvalidation_1-rmse:28231.51188\n",
      "[98]\tvalidation_0-rmse:973.03177\tvalidation_1-rmse:28237.03352\n",
      "[99]\tvalidation_0-rmse:958.10179\tvalidation_1-rmse:28240.13240\n"
     ]
    },
    {
     "data": {
      "text/plain": [
       "XGBRegressor(base_score=0.5, booster='gbtree', callbacks=None,\n",
       "             colsample_bylevel=1, colsample_bynode=1, colsample_bytree=1,\n",
       "             device='cuda', early_stopping_rounds=None,\n",
       "             enable_categorical=False, eval_metric=None, gamma=0, gpu_id=-1,\n",
       "             grow_policy='depthwise', importance_type=None,\n",
       "             interaction_constraints='', learning_rate=0.300000012, max_bin=256,\n",
       "             max_cat_to_onehot=4, max_delta_step=0, max_depth=6, max_leaves=0,\n",
       "             min_child_weight=1, missing=nan, monotone_constraints='()',\n",
       "             n_estimators=100, n_jobs=0, num_parallel_tree=1, predictor='auto',\n",
       "             random_state=0, reg_alpha=0, ...)"
      ]
     },
     "execution_count": 17,
     "metadata": {},
     "output_type": "execute_result"
    }
   ],
   "source": [
    "reg.fit(train_ds_xgb_np, train_ds_xgb['SalePrice'], eval_set=[(train_ds_xgb_np, train_ds_xgb['SalePrice']),(valid_ds_xgb_np, valid_ds_xgb['SalePrice'])])"
   ]
  },
  {
   "cell_type": "markdown",
   "id": "6bc2b59d",
   "metadata": {
    "execution": {
     "iopub.execute_input": "2024-03-06T02:27:46.918012Z",
     "iopub.status.busy": "2024-03-06T02:27:46.916913Z",
     "iopub.status.idle": "2024-03-06T02:27:46.924372Z",
     "shell.execute_reply": "2024-03-06T02:27:46.922872Z",
     "shell.execute_reply.started": "2024-03-06T02:27:46.917944Z"
    },
    "papermill": {
     "duration": 0.024277,
     "end_time": "2024-03-06T02:57:15.353704",
     "exception": false,
     "start_time": "2024-03-06T02:57:15.329427",
     "status": "completed"
    },
    "tags": []
   },
   "source": [
    "gbtm training"
   ]
  },
  {
   "cell_type": "code",
   "execution_count": 18,
   "id": "9aeda6d8",
   "metadata": {
    "execution": {
     "iopub.execute_input": "2024-03-06T02:57:15.404754Z",
     "iopub.status.busy": "2024-03-06T02:57:15.404384Z",
     "iopub.status.idle": "2024-03-06T02:57:15.626868Z",
     "shell.execute_reply": "2024-03-06T02:57:15.625974Z"
    },
    "id": "ryddKoqLWrTp",
    "papermill": {
     "duration": 0.250994,
     "end_time": "2024-03-06T02:57:15.629223",
     "exception": false,
     "start_time": "2024-03-06T02:57:15.378229",
     "status": "completed"
    },
    "tags": []
   },
   "outputs": [
    {
     "data": {
      "image/png": "[encoded data removed]",
      "text/plain": [
       "<Figure size 640x480 with 1 Axes>"
      ]
     },
     "metadata": {},
     "output_type": "display_data"
    }
   ],
   "source": [
    "import matplotlib.pyplot as plt\n",
    "logs = gbtm.make_inspector().training_logs()\n",
    "plt.plot([log.num_trees for log in logs], [log.evaluation.rmse for log in logs])\n",
    "plt.xlabel(\"Number of trees\")\n",
    "plt.ylabel(\"RMSE (out-of-bag)\")\n",
    "plt.show()"
   ]
  },
  {
   "cell_type": "code",
   "execution_count": 19,
   "id": "22e95af6",
   "metadata": {
    "execution": {
     "iopub.execute_input": "2024-03-06T02:57:15.680126Z",
     "iopub.status.busy": "2024-03-06T02:57:15.679778Z",
     "iopub.status.idle": "2024-03-06T02:57:15.688364Z",
     "shell.execute_reply": "2024-03-06T02:57:15.687367Z"
    },
    "id": "gdY8DvriTxky",
    "papermill": {
     "duration": 0.036493,
     "end_time": "2024-03-06T02:57:15.690652",
     "exception": false,
     "start_time": "2024-03-06T02:57:15.654159",
     "status": "completed"
    },
    "tags": []
   },
   "outputs": [
    {
     "data": {
      "text/plain": [
       "Evaluation(num_examples=None, accuracy=None, loss=22841.04296875, rmse=22841.04296875, ndcg=None, aucs=None, auuc=None, qini=None)"
      ]
     },
     "execution_count": 19,
     "metadata": {},
     "output_type": "execute_result"
    }
   ],
   "source": [
    "inspector = gbtm.make_inspector()\n",
    "inspector.evaluation()"
   ]
  },
  {
   "cell_type": "markdown",
   "id": "a0ea9d2a",
   "metadata": {
    "id": "GAoGJNjg-9sb",
    "papermill": {
     "duration": 0.024333,
     "end_time": "2024-03-06T02:57:15.739674",
     "exception": false,
     "start_time": "2024-03-06T02:57:15.715341",
     "status": "completed"
    },
    "tags": []
   },
   "source": [
    "Now, let us run an evaluation using the validation dataset."
   ]
  },
  {
   "cell_type": "code",
   "execution_count": 20,
   "id": "dcf12696",
   "metadata": {
    "execution": {
     "iopub.execute_input": "2024-03-06T02:57:15.790247Z",
     "iopub.status.busy": "2024-03-06T02:57:15.789924Z",
     "iopub.status.idle": "2024-03-06T02:57:18.397516Z",
     "shell.execute_reply": "2024-03-06T02:57:18.396434Z"
    },
    "id": "39x97YqWZlgm",
    "papermill": {
     "duration": 2.635262,
     "end_time": "2024-03-06T02:57:18.399644",
     "exception": false,
     "start_time": "2024-03-06T02:57:15.764382",
     "status": "completed"
    },
    "tags": []
   },
   "outputs": [
    {
     "name": "stdout",
     "output_type": "stream",
     "text": [
      "1/1 [==============================] - 3s 3s/step - loss: 0.0000e+00 - mse: 664120768.0000\n",
      "loss: 0.0000\n",
      "mse: 664120768.0000\n"
     ]
    }
   ],
   "source": [
    "evaluation = gbtm.evaluate(x=valid_ds,return_dict=True)\n",
    "\n",
    "for name, value in evaluation.items():\n",
    "  print(f\"{name}: {value:.4f}\")"
   ]
  },
  {
   "cell_type": "markdown",
   "id": "e11f597e",
   "metadata": {
    "id": "LWWqqDLM7WdZ",
    "papermill": {
     "duration": 0.024744,
     "end_time": "2024-03-06T02:57:18.449684",
     "exception": false,
     "start_time": "2024-03-06T02:57:18.424940",
     "status": "completed"
    },
    "tags": []
   },
   "source": [
    "## Variable importances\n",
    "\n",
    "Variable importances generally indicate how much a feature contributes to the model predictions or quality. There are several ways to identify important features using TensorFlow Decision Forests.\n",
    "Let us list the available `Variable Importances` for Decision Trees:"
   ]
  },
  {
   "cell_type": "code",
   "execution_count": 21,
   "id": "2e12586c",
   "metadata": {
    "execution": {
     "iopub.execute_input": "2024-03-06T02:57:18.501851Z",
     "iopub.status.busy": "2024-03-06T02:57:18.501462Z",
     "iopub.status.idle": "2024-03-06T02:57:18.508498Z",
     "shell.execute_reply": "2024-03-06T02:57:18.507260Z"
    },
    "id": "xok16_jMgGZH",
    "papermill": {
     "duration": 0.036365,
     "end_time": "2024-03-06T02:57:18.510749",
     "exception": false,
     "start_time": "2024-03-06T02:57:18.474384",
     "status": "completed"
    },
    "tags": []
   },
   "outputs": [
    {
     "name": "stdout",
     "output_type": "stream",
     "text": [
      "Available variable importances:\n",
      "\t NUM_AS_ROOT\n",
      "\t SUM_SCORE\n",
      "\t NUM_NODES\n",
      "\t INV_MEAN_MIN_DEPTH\n"
     ]
    }
   ],
   "source": [
    "print(f\"Available variable importances:\")\n",
    "for importance in inspector.variable_importances().keys():\n",
    "  print(\"\\t\", importance)"
   ]
  },
  {
   "cell_type": "code",
   "execution_count": 22,
   "id": "5ed191f7",
   "metadata": {
    "execution": {
     "iopub.execute_input": "2024-03-06T02:57:18.562003Z",
     "iopub.status.busy": "2024-03-06T02:57:18.561707Z",
     "iopub.status.idle": "2024-03-06T02:57:18.852447Z",
     "shell.execute_reply": "2024-03-06T02:57:18.851389Z"
    },
    "papermill": {
     "duration": 0.319464,
     "end_time": "2024-03-06T02:57:18.855081",
     "exception": false,
     "start_time": "2024-03-06T02:57:18.535617",
     "status": "completed"
    },
    "tags": []
   },
   "outputs": [
    {
     "data": {
      "image/png": "[encoded data removed]",
      "text/plain": [
       "<Figure size 1200x400 with 1 Axes>"
      ]
     },
     "metadata": {},
     "output_type": "display_data"
    }
   ],
   "source": [
    "inspector.variable_importances()[\"NUM_AS_ROOT\"]\n",
    "\n",
    "plt.figure(figsize=(12, 4))\n",
    "\n",
    "# Mean decrease in AUC of the class 1 vs the others.\n",
    "variable_importance_metric = \"NUM_AS_ROOT\"\n",
    "variable_importances = inspector.variable_importances()[variable_importance_metric]\n",
    "\n",
    "# Extract the feature name and importance values.\n",
    "#\n",
    "# `variable_importances` is a list of <feature, importance> tuples.\n",
    "feature_names = [vi[0].name for vi in variable_importances]\n",
    "feature_importances = [vi[1] for vi in variable_importances]\n",
    "# The feature are ordered in decreasing importance value.\n",
    "feature_ranks = range(len(feature_names))\n",
    "\n",
    "bar = plt.barh(feature_ranks, feature_importances, label=[str(x) for x in feature_ranks])\n",
    "plt.yticks(feature_ranks, feature_names)\n",
    "plt.gca().invert_yaxis()\n",
    "\n",
    "# TODO: Replace with \"plt.bar_label()\" when available.\n",
    "# Label each bar with values\n",
    "for importance, patch in zip(feature_importances, bar.patches):\n",
    "  plt.text(patch.get_x() + patch.get_width(), patch.get_y(), f\"{importance:.4f}\", va=\"top\")\n",
    "\n",
    "plt.xlabel(variable_importance_metric)\n",
    "plt.title(\"NUM AS ROOT of the class 1 vs the others\")\n",
    "plt.tight_layout()\n",
    "plt.show()"
   ]
  },
  {
   "cell_type": "markdown",
   "id": "7b86cc45",
   "metadata": {
    "execution": {
     "iopub.execute_input": "2024-03-06T01:53:09.496378Z",
     "iopub.status.busy": "2024-03-06T01:53:09.495709Z",
     "iopub.status.idle": "2024-03-06T01:53:09.505397Z",
     "shell.execute_reply": "2024-03-06T01:53:09.504275Z",
     "shell.execute_reply.started": "2024-03-06T01:53:09.496338Z"
    },
    "id": "eI073gJHgHxr",
    "papermill": {
     "duration": 0.025438,
     "end_time": "2024-03-06T02:57:18.906437",
     "exception": false,
     "start_time": "2024-03-06T02:57:18.880999",
     "status": "completed"
    },
    "tags": []
   },
   "source": []
  },
  {
   "cell_type": "markdown",
   "id": "ebbd7358",
   "metadata": {
    "papermill": {
     "duration": 0.02538,
     "end_time": "2024-03-06T02:57:18.957191",
     "exception": false,
     "start_time": "2024-03-06T02:57:18.931811",
     "status": "completed"
    },
    "tags": []
   },
   "source": [
    "XGB Feature Importance"
   ]
  },
  {
   "cell_type": "code",
   "execution_count": 23,
   "id": "0838c555",
   "metadata": {
    "execution": {
     "iopub.execute_input": "2024-03-06T02:57:19.010407Z",
     "iopub.status.busy": "2024-03-06T02:57:19.009698Z",
     "iopub.status.idle": "2024-03-06T02:57:19.017444Z",
     "shell.execute_reply": "2024-03-06T02:57:19.016280Z"
    },
    "papermill": {
     "duration": 0.037142,
     "end_time": "2024-03-06T02:57:19.019610",
     "exception": false,
     "start_time": "2024-03-06T02:57:18.982468",
     "status": "completed"
    },
    "tags": []
   },
   "outputs": [
    {
     "name": "stdout",
     "output_type": "stream",
     "text": [
      "['MSSubClass' 'LotFrontage' 'LotArea' 'OverallQual' 'OverallCond'\n",
      " 'YearBuilt' 'YearRemodAdd' 'MasVnrArea' 'BsmtFinSF1' 'BsmtFinSF2'\n",
      " 'BsmtUnfSF' 'TotalBsmtSF' '1stFlrSF' '2ndFlrSF' 'LowQualFinSF'\n",
      " 'GrLivArea' 'BsmtFullBath' 'BsmtHalfBath' 'FullBath' 'HalfBath'\n",
      " 'BedroomAbvGr' 'KitchenAbvGr' 'TotRmsAbvGrd' 'Fireplaces' 'GarageYrBlt'\n",
      " 'GarageCars' 'GarageArea' 'WoodDeckSF' 'OpenPorchSF' 'EnclosedPorch'\n",
      " '3SsnPorch' 'ScreenPorch' 'PoolArea' 'MiscVal' 'MoSold' 'YrSold'\n",
      " 'YearsBtwRemod' 'TotalInnerSF' 'BedroomSize']\n",
      "[9.5593795e-04 1.0634187e-03 4.6787020e-03 4.4342446e-01 6.1926292e-03\n",
      " 1.4575272e-02 8.8280533e-03 1.1718516e-03 1.1276327e-02 8.0814416e-04\n",
      " 3.6949094e-03 1.7110512e-03 1.1032101e-03 9.8908655e-03 6.4880983e-04\n",
      " 5.5970289e-03 3.9645755e-03 3.4502594e-04 1.6790089e-03 2.2945008e-03\n",
      " 1.9735154e-03 8.4798045e-02 3.1959105e-03 1.4277288e-02 2.7623668e-03\n",
      " 7.0175067e-02 2.0817216e-03 1.7434071e-03 4.8920494e-03 1.5714021e-03\n",
      " 7.0446276e-04 3.5080970e-03 4.3461859e-02 2.4156147e-03 1.7583168e-03\n",
      " 1.0627089e-03 3.4492030e-03 2.3030321e-01 1.9620124e-03]\n"
     ]
    }
   ],
   "source": [
    "print(reg.feature_names_in_)\n",
    "print(reg.feature_importances_)"
   ]
  },
  {
   "cell_type": "markdown",
   "id": "1050cc92",
   "metadata": {
    "id": "qiASD3ei52H6",
    "papermill": {
     "duration": 0.025494,
     "end_time": "2024-03-06T02:57:19.070532",
     "exception": false,
     "start_time": "2024-03-06T02:57:19.045038",
     "status": "completed"
    },
    "tags": []
   },
   "source": [
    "Plot the variable importances from the inspector using Matplotlib"
   ]
  },
  {
   "cell_type": "markdown",
   "id": "96e75ce2",
   "metadata": {
    "id": "jM9uB_7T416r",
    "papermill": {
     "duration": 0.025414,
     "end_time": "2024-03-06T02:57:19.121356",
     "exception": false,
     "start_time": "2024-03-06T02:57:19.095942",
     "status": "completed"
    },
    "tags": []
   },
   "source": [
    "# Submission\n",
    "Finally predict on the competition test data using the model."
   ]
  },
  {
   "cell_type": "code",
   "execution_count": 24,
   "id": "1fbd1ec1",
   "metadata": {
    "execution": {
     "iopub.execute_input": "2024-03-06T02:57:19.175244Z",
     "iopub.status.busy": "2024-03-06T02:57:19.174576Z",
     "iopub.status.idle": "2024-03-06T02:57:19.234526Z",
     "shell.execute_reply": "2024-03-06T02:57:19.233621Z"
    },
    "id": "gLySv9yJ416s",
    "papermill": {
     "duration": 0.088841,
     "end_time": "2024-03-06T02:57:19.236842",
     "exception": false,
     "start_time": "2024-03-06T02:57:19.148001",
     "status": "completed"
    },
    "tags": []
   },
   "outputs": [],
   "source": [
    "test_file_path = \"../input/house-prices-advanced-regression-techniques/test.csv\"\n",
    "test_data = pd.read_csv(test_file_path)\n",
    "\n",
    "\n",
    "test_data['YearsBtwRemod'] = test_data['YearRemodAdd']-test_data['YearBuilt']\n",
    "test_data['TotalInnerSF'] = test_data['1stFlrSF']+test_data['2ndFlrSF']+test_data['TotalBsmtSF']\n",
    "test_data['BedroomSize'] = round(test_data['1stFlrSF']+test_data['2ndFlrSF']/test_data['BedroomAbvGr'])\n",
    "\n",
    "test_data.replace([np.inf, -np.inf], np.nan, inplace=True)\n",
    "test_data.BedroomSize.fillna(0,inplace=True)\n",
    "\n",
    "ids = test_data.pop('Id')\n",
    "\n",
    "\n",
    "test_data_xgb = test_data.select_dtypes(include = ['float64', 'int64'])"
   ]
  },
  {
   "cell_type": "code",
   "execution_count": 25,
   "id": "535913a1",
   "metadata": {
    "execution": {
     "iopub.execute_input": "2024-03-06T02:57:19.289699Z",
     "iopub.status.busy": "2024-03-06T02:57:19.289029Z",
     "iopub.status.idle": "2024-03-06T02:57:19.436258Z",
     "shell.execute_reply": "2024-03-06T02:57:19.434643Z"
    },
    "papermill": {
     "duration": 0.177527,
     "end_time": "2024-03-06T02:57:19.440131",
     "exception": false,
     "start_time": "2024-03-06T02:57:19.262604",
     "status": "completed"
    },
    "tags": []
   },
   "outputs": [],
   "source": [
    "test_ds = tfdf.keras.pd_dataframe_to_tf_dataset(\n",
    "    test_data,\n",
    "    task = tfdf.keras.Task.REGRESSION)"
   ]
  },
  {
   "cell_type": "markdown",
   "id": "c22c7185",
   "metadata": {
    "papermill": {
     "duration": 0.026144,
     "end_time": "2024-03-06T02:57:19.500127",
     "exception": false,
     "start_time": "2024-03-06T02:57:19.473983",
     "status": "completed"
    },
    "tags": []
   },
   "source": [
    "XGB Prediction"
   ]
  },
  {
   "cell_type": "code",
   "execution_count": 26,
   "id": "9ca8b712",
   "metadata": {
    "execution": {
     "iopub.execute_input": "2024-03-06T02:57:19.553354Z",
     "iopub.status.busy": "2024-03-06T02:57:19.552744Z",
     "iopub.status.idle": "2024-03-06T02:57:19.562355Z",
     "shell.execute_reply": "2024-03-06T02:57:19.561567Z"
    },
    "papermill": {
     "duration": 0.03891,
     "end_time": "2024-03-06T02:57:19.564609",
     "exception": false,
     "start_time": "2024-03-06T02:57:19.525699",
     "status": "completed"
    },
    "tags": []
   },
   "outputs": [],
   "source": [
    "p1 = reg.predict(test_data_xgb)"
   ]
  },
  {
   "cell_type": "markdown",
   "id": "78748038",
   "metadata": {
    "papermill": {
     "duration": 0.025626,
     "end_time": "2024-03-06T02:57:19.616892",
     "exception": false,
     "start_time": "2024-03-06T02:57:19.591266",
     "status": "completed"
    },
    "tags": []
   },
   "source": [
    "GBTM Prediction"
   ]
  },
  {
   "cell_type": "code",
   "execution_count": 27,
   "id": "f50b76ec",
   "metadata": {
    "execution": {
     "iopub.execute_input": "2024-03-06T02:57:19.670404Z",
     "iopub.status.busy": "2024-03-06T02:57:19.670063Z",
     "iopub.status.idle": "2024-03-06T02:57:20.553616Z",
     "shell.execute_reply": "2024-03-06T02:57:20.552531Z"
    },
    "papermill": {
     "duration": 0.91244,
     "end_time": "2024-03-06T02:57:20.555863",
     "exception": false,
     "start_time": "2024-03-06T02:57:19.643423",
     "status": "completed"
    },
    "tags": []
   },
   "outputs": [
    {
     "name": "stdout",
     "output_type": "stream",
     "text": [
      "2/2 [==============================] - 1s 17ms/step\n"
     ]
    },
    {
     "data": {
      "text/html": [
       "<div>\n",
       "<style scoped>\n",
       "    .dataframe tbody tr th:only-of-type {\n",
       "        vertical-align: middle;\n",
       "    }\n",
       "\n",
       "    .dataframe tbody tr th {\n",
       "        vertical-align: top;\n",
       "    }\n",
       "\n",
       "    .dataframe thead th {\n",
       "        text-align: right;\n",
       "    }\n",
       "</style>\n",
       "<table border=\"1\" class=\"dataframe\">\n",
       "  <thead>\n",
       "    <tr style=\"text-align: right;\">\n",
       "      <th></th>\n",
       "      <th>Id</th>\n",
       "      <th>SalePrice</th>\n",
       "    </tr>\n",
       "  </thead>\n",
       "  <tbody>\n",
       "    <tr>\n",
       "      <th>0</th>\n",
       "      <td>1461</td>\n",
       "      <td>129991.039062</td>\n",
       "    </tr>\n",
       "    <tr>\n",
       "      <th>1</th>\n",
       "      <td>1462</td>\n",
       "      <td>163421.796875</td>\n",
       "    </tr>\n",
       "    <tr>\n",
       "      <th>2</th>\n",
       "      <td>1463</td>\n",
       "      <td>185137.062500</td>\n",
       "    </tr>\n",
       "    <tr>\n",
       "      <th>3</th>\n",
       "      <td>1464</td>\n",
       "      <td>183751.390625</td>\n",
       "    </tr>\n",
       "    <tr>\n",
       "      <th>4</th>\n",
       "      <td>1465</td>\n",
       "      <td>206007.906250</td>\n",
       "    </tr>\n",
       "  </tbody>\n",
       "</table>\n",
       "</div>"
      ],
      "text/plain": [
       "     Id      SalePrice\n",
       "0  1461  129991.039062\n",
       "1  1462  163421.796875\n",
       "2  1463  185137.062500\n",
       "3  1464  183751.390625\n",
       "4  1465  206007.906250"
      ]
     },
     "execution_count": 27,
     "metadata": {},
     "output_type": "execute_result"
    }
   ],
   "source": [
    "preds = gbtm.predict(test_ds)\n",
    "output = pd.DataFrame({'Id': ids,\n",
    "                       'SalePrice': preds.squeeze()})\n",
    "\n",
    "output.head()"
   ]
  },
  {
   "cell_type": "code",
   "execution_count": 28,
   "id": "95799dc5",
   "metadata": {
    "execution": {
     "iopub.execute_input": "2024-03-06T02:57:20.611536Z",
     "iopub.status.busy": "2024-03-06T02:57:20.610931Z",
     "iopub.status.idle": "2024-03-06T02:57:20.922379Z",
     "shell.execute_reply": "2024-03-06T02:57:20.921327Z"
    },
    "id": "0wALPJtE416s",
    "papermill": {
     "duration": 0.342065,
     "end_time": "2024-03-06T02:57:20.924657",
     "exception": false,
     "start_time": "2024-03-06T02:57:20.582592",
     "status": "completed"
    },
    "tags": []
   },
   "outputs": [
    {
     "name": "stdout",
     "output_type": "stream",
     "text": [
      "2/2 [==============================] - 0s 16ms/step\n"
     ]
    },
    {
     "data": {
      "text/html": [
       "<div>\n",
       "<style scoped>\n",
       "    .dataframe tbody tr th:only-of-type {\n",
       "        vertical-align: middle;\n",
       "    }\n",
       "\n",
       "    .dataframe tbody tr th {\n",
       "        vertical-align: top;\n",
       "    }\n",
       "\n",
       "    .dataframe thead th {\n",
       "        text-align: right;\n",
       "    }\n",
       "</style>\n",
       "<table border=\"1\" class=\"dataframe\">\n",
       "  <thead>\n",
       "    <tr style=\"text-align: right;\">\n",
       "      <th></th>\n",
       "      <th>Id</th>\n",
       "      <th>SalePrice</th>\n",
       "    </tr>\n",
       "  </thead>\n",
       "  <tbody>\n",
       "    <tr>\n",
       "      <th>0</th>\n",
       "      <td>1461</td>\n",
       "      <td>127535.609375</td>\n",
       "    </tr>\n",
       "    <tr>\n",
       "      <th>1</th>\n",
       "      <td>1462</td>\n",
       "      <td>144250.984375</td>\n",
       "    </tr>\n",
       "    <tr>\n",
       "      <th>2</th>\n",
       "      <td>1463</td>\n",
       "      <td>155108.625000</td>\n",
       "    </tr>\n",
       "    <tr>\n",
       "      <th>3</th>\n",
       "      <td>1464</td>\n",
       "      <td>154415.781250</td>\n",
       "    </tr>\n",
       "    <tr>\n",
       "      <th>4</th>\n",
       "      <td>1465</td>\n",
       "      <td>165544.046875</td>\n",
       "    </tr>\n",
       "  </tbody>\n",
       "</table>\n",
       "</div>"
      ],
      "text/plain": [
       "     Id      SalePrice\n",
       "0  1461  127535.609375\n",
       "1  1462  144250.984375\n",
       "2  1463  155108.625000\n",
       "3  1464  154415.781250\n",
       "4  1465  165544.046875"
      ]
     },
     "execution_count": 28,
     "metadata": {},
     "output_type": "execute_result"
    }
   ],
   "source": [
    "sample_submission_df = pd.read_csv('../input/house-prices-advanced-regression-techniques/sample_submission.csv')\n",
    "#sample_submission_df['SalePrice'] = gbtm.predict(test_ds)\n",
    "#sample_submission_df['SalePrice'] = reg.predict(test_data_xgb)\n",
    "sample_submission_df['SalePrice'] = (gbtm.predict(test_ds) + reg.predict(test_data_xgb)) / 2\n",
    "sample_submission_df.to_csv('/kaggle/working/submission10.csv', index=False)\n",
    "sample_submission_df.head()"
   ]
  },
  {
   "cell_type": "code",
   "execution_count": null,
   "id": "2aa54987",
   "metadata": {
    "papermill": {
     "duration": 0.026347,
     "end_time": "2024-03-06T02:57:20.977638",
     "exception": false,
     "start_time": "2024-03-06T02:57:20.951291",
     "status": "completed"
    },
    "tags": []
   },
   "outputs": [],
   "source": []
  }
 ],
 "metadata": {
  "kaggle": {
   "accelerator": "gpu",
   "dataSources": [
    {
     "databundleVersionId": 868283,
     "sourceId": 5407,
     "sourceType": "competition"
    }
   ],
   "dockerImageVersionId": 30407,
   "isGpuEnabled": true,
   "isInternetEnabled": true,
   "language": "python",
   "sourceType": "notebook"
  },
  "kernelspec": {
   "display_name": "Python 3",
   "language": "python",
   "name": "python3"
  },
  "language_info": {
   "codemirror_mode": {
    "name": "ipython",
    "version": 3
   },
   "file_extension": ".py",
   "mimetype": "text/x-python",
   "name": "python",
   "nbconvert_exporter": "python",
   "pygments_lexer": "ipython3",
   "version": "3.7.12"
  },
  "papermill": {
   "default_parameters": {},
   "duration": 81.969785,
   "end_time": "2024-03-06T02:57:24.296543",
   "environment_variables": {},
   "exception": null,
   "input_path": "__notebook__.ipynb",
   "output_path": "__notebook__.ipynb",
   "parameters": {},
   "start_time": "2024-03-06T02:56:02.326758",
   "version": "2.4.0"
  }
 },
 "nbformat": 4,
 "nbformat_minor": 5
}
