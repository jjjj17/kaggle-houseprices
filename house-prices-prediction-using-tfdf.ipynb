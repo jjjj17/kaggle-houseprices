{
 "cells": [
  {
   "cell_type": "markdown",
   "id": "209255e7",
   "metadata": {
    "id": "5v5mm4amQRrm",
    "papermill": {
     "duration": 0.013253,
     "end_time": "2024-03-06T01:54:49.782468",
     "exception": false,
     "start_time": "2024-03-06T01:54:49.769215",
     "status": "completed"
    },
    "tags": []
   },
   "source": [
    "# House Prices Prediction using TensorFlow Decision Forests"
   ]
  },
  {
   "cell_type": "markdown",
   "id": "6246b54a",
   "metadata": {
    "id": "Z4eo3rH_MKbC",
    "papermill": {
     "duration": 0.011929,
     "end_time": "2024-03-06T01:54:49.806582",
     "exception": false,
     "start_time": "2024-03-06T01:54:49.794653",
     "status": "completed"
    },
    "tags": []
   },
   "source": [
    "This notebook walks you through how to train a baseline Random Forest model using TensorFlow Decision Forests on the House Prices dataset made available for this competition.\n",
    "\n",
    "Roughly, the code will look as follows:\n",
    "\n",
    "```\n",
    "import tensorflow_decision_forests as tfdf\n",
    "import pandas as pd\n",
    "\n",
    "dataset = pd.read_csv(\"project/dataset.csv\")\n",
    "tf_dataset = tfdf.keras.pd_dataframe_to_tf_dataset(dataset, label=\"my_label\")\n",
    "\n",
    "model = tfdf.keras.RandomForestModel()\n",
    "model.fit(tf_dataset)\n",
    "\n",
    "print(model.summary())\n",
    "```\n",
    "\n",
    "Decision Forests are a family of tree-based models including Random Forests and Gradient Boosted Trees. They are the best place to start when working with tabular data, and will often outperform (or provide a strong baseline) before you begin experimenting with neural networks."
   ]
  },
  {
   "cell_type": "markdown",
   "id": "9d775152",
   "metadata": {
    "id": "FVOXAyXl3-fA",
    "papermill": {
     "duration": 0.011707,
     "end_time": "2024-03-06T01:54:49.830253",
     "exception": false,
     "start_time": "2024-03-06T01:54:49.818546",
     "status": "completed"
    },
    "tags": []
   },
   "source": [
    "## Import the library"
   ]
  },
  {
   "cell_type": "code",
   "execution_count": 1,
   "id": "33ee54f9",
   "metadata": {
    "execution": {
     "iopub.execute_input": "2024-03-06T01:54:49.856135Z",
     "iopub.status.busy": "2024-03-06T01:54:49.855395Z",
     "iopub.status.idle": "2024-03-06T01:54:57.788800Z",
     "shell.execute_reply": "2024-03-06T01:54:57.787898Z"
    },
    "id": "IGmyjJJatzBZ",
    "papermill": {
     "duration": 7.94941,
     "end_time": "2024-03-06T01:54:57.791577",
     "exception": false,
     "start_time": "2024-03-06T01:54:49.842167",
     "status": "completed"
    },
    "tags": []
   },
   "outputs": [],
   "source": [
    "import tensorflow as tf\n",
    "import tensorflow_decision_forests as tfdf\n",
    "import pandas as pd\n",
    "import seaborn as sns\n",
    "import matplotlib.pyplot as plt\n",
    "import numpy as np\n",
    "\n",
    "# Comment this if the data visualisations doesn't work on your side\n",
    "%matplotlib inline"
   ]
  },
  {
   "cell_type": "code",
   "execution_count": 2,
   "id": "3adeb899",
   "metadata": {
    "execution": {
     "iopub.execute_input": "2024-03-06T01:54:57.818766Z",
     "iopub.status.busy": "2024-03-06T01:54:57.817916Z",
     "iopub.status.idle": "2024-03-06T01:54:57.823588Z",
     "shell.execute_reply": "2024-03-06T01:54:57.822586Z"
    },
    "id": "dh4qwB4iN7Ue",
    "papermill": {
     "duration": 0.021806,
     "end_time": "2024-03-06T01:54:57.826633",
     "exception": false,
     "start_time": "2024-03-06T01:54:57.804827",
     "status": "completed"
    },
    "tags": []
   },
   "outputs": [
    {
     "name": "stdout",
     "output_type": "stream",
     "text": [
      "TensorFlow v2.11.0\n",
      "TensorFlow Decision Forests v1.2.0\n"
     ]
    }
   ],
   "source": [
    "print(\"TensorFlow v\" + tf.__version__)\n",
    "print(\"TensorFlow Decision Forests v\" + tfdf.__version__)"
   ]
  },
  {
   "cell_type": "markdown",
   "id": "6c3596cb",
   "metadata": {
    "id": "-3vxMmCPvqpf",
    "papermill": {
     "duration": 0.011709,
     "end_time": "2024-03-06T01:54:57.850499",
     "exception": false,
     "start_time": "2024-03-06T01:54:57.838790",
     "status": "completed"
    },
    "tags": []
   },
   "source": [
    "## Load the dataset\n"
   ]
  },
  {
   "cell_type": "code",
   "execution_count": 3,
   "id": "a5c038a1",
   "metadata": {
    "execution": {
     "iopub.execute_input": "2024-03-06T01:54:57.875751Z",
     "iopub.status.busy": "2024-03-06T01:54:57.875433Z",
     "iopub.status.idle": "2024-03-06T01:54:57.912312Z",
     "shell.execute_reply": "2024-03-06T01:54:57.911457Z"
    },
    "id": "JVMPH_IDOBH2",
    "papermill": {
     "duration": 0.052002,
     "end_time": "2024-03-06T01:54:57.914463",
     "exception": false,
     "start_time": "2024-03-06T01:54:57.862461",
     "status": "completed"
    },
    "tags": []
   },
   "outputs": [],
   "source": [
    "train_file_path = \"../input/house-prices-advanced-regression-techniques/train.csv\"\n",
    "dataset_df = pd.read_csv(train_file_path)"
   ]
  },
  {
   "cell_type": "code",
   "execution_count": 4,
   "id": "e412d854",
   "metadata": {
    "execution": {
     "iopub.execute_input": "2024-03-06T01:54:57.941721Z",
     "iopub.status.busy": "2024-03-06T01:54:57.941065Z",
     "iopub.status.idle": "2024-03-06T01:54:57.949171Z",
     "shell.execute_reply": "2024-03-06T01:54:57.948265Z"
    },
    "papermill": {
     "duration": 0.024526,
     "end_time": "2024-03-06T01:54:57.951351",
     "exception": false,
     "start_time": "2024-03-06T01:54:57.926825",
     "status": "completed"
    },
    "tags": []
   },
   "outputs": [
    {
     "data": {
      "text/plain": [
       "Index(['Id', 'MSSubClass', 'MSZoning', 'LotFrontage', 'LotArea', 'Street',\n",
       "       'Alley', 'LotShape', 'LandContour', 'Utilities', 'LotConfig',\n",
       "       'LandSlope', 'Neighborhood', 'Condition1', 'Condition2', 'BldgType',\n",
       "       'HouseStyle', 'OverallQual', 'OverallCond', 'YearBuilt', 'YearRemodAdd',\n",
       "       'RoofStyle', 'RoofMatl', 'Exterior1st', 'Exterior2nd', 'MasVnrType',\n",
       "       'MasVnrArea', 'ExterQual', 'ExterCond', 'Foundation', 'BsmtQual',\n",
       "       'BsmtCond', 'BsmtExposure', 'BsmtFinType1', 'BsmtFinSF1',\n",
       "       'BsmtFinType2', 'BsmtFinSF2', 'BsmtUnfSF', 'TotalBsmtSF', 'Heating',\n",
       "       'HeatingQC', 'CentralAir', 'Electrical', '1stFlrSF', '2ndFlrSF',\n",
       "       'LowQualFinSF', 'GrLivArea', 'BsmtFullBath', 'BsmtHalfBath', 'FullBath',\n",
       "       'HalfBath', 'BedroomAbvGr', 'KitchenAbvGr', 'KitchenQual',\n",
       "       'TotRmsAbvGrd', 'Functional', 'Fireplaces', 'FireplaceQu', 'GarageType',\n",
       "       'GarageYrBlt', 'GarageFinish', 'GarageCars', 'GarageArea', 'GarageQual',\n",
       "       'GarageCond', 'PavedDrive', 'WoodDeckSF', 'OpenPorchSF',\n",
       "       'EnclosedPorch', '3SsnPorch', 'ScreenPorch', 'PoolArea', 'PoolQC',\n",
       "       'Fence', 'MiscFeature', 'MiscVal', 'MoSold', 'YrSold', 'SaleType',\n",
       "       'SaleCondition', 'SalePrice'],\n",
       "      dtype='object')"
      ]
     },
     "execution_count": 4,
     "metadata": {},
     "output_type": "execute_result"
    }
   ],
   "source": [
    "dataset_df.columns"
   ]
  },
  {
   "cell_type": "code",
   "execution_count": 5,
   "id": "9a0a3864",
   "metadata": {
    "execution": {
     "iopub.execute_input": "2024-03-06T01:54:57.977397Z",
     "iopub.status.busy": "2024-03-06T01:54:57.977105Z",
     "iopub.status.idle": "2024-03-06T01:54:57.987921Z",
     "shell.execute_reply": "2024-03-06T01:54:57.987073Z"
    },
    "id": "0lItmbYS416n",
    "papermill": {
     "duration": 0.026097,
     "end_time": "2024-03-06T01:54:57.990036",
     "exception": false,
     "start_time": "2024-03-06T01:54:57.963939",
     "status": "completed"
    },
    "tags": []
   },
   "outputs": [],
   "source": [
    "dataset_df = dataset_df.drop('Id', axis=1)"
   ]
  },
  {
   "cell_type": "markdown",
   "id": "9bc461ca",
   "metadata": {
    "id": "PxdZCHvk416o",
    "papermill": {
     "duration": 0.01198,
     "end_time": "2024-03-06T01:54:58.014071",
     "exception": false,
     "start_time": "2024-03-06T01:54:58.002091",
     "status": "completed"
    },
    "tags": []
   },
   "source": [
    "## House Price Distribution\n",
    "\n",
    "Now let us take a look at how the house prices are distributed."
   ]
  },
  {
   "cell_type": "markdown",
   "id": "10476105",
   "metadata": {
    "id": "tKnn1nR-416o",
    "papermill": {
     "duration": 0.011953,
     "end_time": "2024-03-06T01:54:58.038299",
     "exception": false,
     "start_time": "2024-03-06T01:54:58.026346",
     "status": "completed"
    },
    "tags": []
   },
   "source": [
    "## Numerical data distribution\n",
    "\n",
    "We will now take a look at how the numerical features are distributed. In order to do this, let us first list all the types of data from our dataset and select only the numerical ones."
   ]
  },
  {
   "cell_type": "code",
   "execution_count": 6,
   "id": "cec8a77c",
   "metadata": {
    "execution": {
     "iopub.execute_input": "2024-03-06T01:54:58.063744Z",
     "iopub.status.busy": "2024-03-06T01:54:58.063405Z",
     "iopub.status.idle": "2024-03-06T01:54:58.070263Z",
     "shell.execute_reply": "2024-03-06T01:54:58.069392Z"
    },
    "id": "-hrMItSC416o",
    "papermill": {
     "duration": 0.022048,
     "end_time": "2024-03-06T01:54:58.072361",
     "exception": false,
     "start_time": "2024-03-06T01:54:58.050313",
     "status": "completed"
    },
    "tags": []
   },
   "outputs": [
    {
     "data": {
      "text/plain": [
       "[dtype('O'), dtype('int64'), dtype('float64')]"
      ]
     },
     "execution_count": 6,
     "metadata": {},
     "output_type": "execute_result"
    }
   ],
   "source": [
    "list(set(dataset_df.dtypes.tolist()))"
   ]
  },
  {
   "cell_type": "code",
   "execution_count": 7,
   "id": "dbe3f7a6",
   "metadata": {
    "execution": {
     "iopub.execute_input": "2024-03-06T01:54:58.098457Z",
     "iopub.status.busy": "2024-03-06T01:54:58.097741Z",
     "iopub.status.idle": "2024-03-06T01:54:58.127737Z",
     "shell.execute_reply": "2024-03-06T01:54:58.127003Z"
    },
    "papermill": {
     "duration": 0.045226,
     "end_time": "2024-03-06T01:54:58.129870",
     "exception": false,
     "start_time": "2024-03-06T01:54:58.084644",
     "status": "completed"
    },
    "tags": []
   },
   "outputs": [],
   "source": [
    "dataset_df['YearsBtwRemod'] = dataset_df['YearRemodAdd']-dataset_df['YearBuilt']\n",
    "dataset_df['TotalInnerSF'] = dataset_df['1stFlrSF']+dataset_df['2ndFlrSF']+dataset_df['TotalBsmtSF']\n",
    "dataset_df['BedroomSize'] = round(dataset_df['1stFlrSF']+dataset_df['2ndFlrSF']/dataset_df['BedroomAbvGr'])\n",
    "\n",
    "dataset_df.replace([np.inf, -np.inf], np.nan, inplace=True)\n",
    "dataset_df.BedroomSize.fillna(0,inplace=True)"
   ]
  },
  {
   "cell_type": "code",
   "execution_count": 8,
   "id": "125c85c6",
   "metadata": {
    "execution": {
     "iopub.execute_input": "2024-03-06T01:54:58.155547Z",
     "iopub.status.busy": "2024-03-06T01:54:58.155058Z",
     "iopub.status.idle": "2024-03-06T01:54:58.181987Z",
     "shell.execute_reply": "2024-03-06T01:54:58.181014Z"
    },
    "id": "Vg2PQvfb416o",
    "papermill": {
     "duration": 0.042257,
     "end_time": "2024-03-06T01:54:58.184404",
     "exception": false,
     "start_time": "2024-03-06T01:54:58.142147",
     "status": "completed"
    },
    "tags": []
   },
   "outputs": [
    {
     "data": {
      "text/html": [
       "<div>\n",
       "<style scoped>\n",
       "    .dataframe tbody tr th:only-of-type {\n",
       "        vertical-align: middle;\n",
       "    }\n",
       "\n",
       "    .dataframe tbody tr th {\n",
       "        vertical-align: top;\n",
       "    }\n",
       "\n",
       "    .dataframe thead th {\n",
       "        text-align: right;\n",
       "    }\n",
       "</style>\n",
       "<table border=\"1\" class=\"dataframe\">\n",
       "  <thead>\n",
       "    <tr style=\"text-align: right;\">\n",
       "      <th></th>\n",
       "      <th>MSSubClass</th>\n",
       "      <th>LotFrontage</th>\n",
       "      <th>LotArea</th>\n",
       "      <th>OverallQual</th>\n",
       "      <th>OverallCond</th>\n",
       "      <th>YearBuilt</th>\n",
       "      <th>YearRemodAdd</th>\n",
       "      <th>MasVnrArea</th>\n",
       "      <th>BsmtFinSF1</th>\n",
       "      <th>BsmtFinSF2</th>\n",
       "      <th>...</th>\n",
       "      <th>3SsnPorch</th>\n",
       "      <th>ScreenPorch</th>\n",
       "      <th>PoolArea</th>\n",
       "      <th>MiscVal</th>\n",
       "      <th>MoSold</th>\n",
       "      <th>YrSold</th>\n",
       "      <th>SalePrice</th>\n",
       "      <th>YearsBtwRemod</th>\n",
       "      <th>TotalInnerSF</th>\n",
       "      <th>BedroomSize</th>\n",
       "    </tr>\n",
       "  </thead>\n",
       "  <tbody>\n",
       "    <tr>\n",
       "      <th>0</th>\n",
       "      <td>60</td>\n",
       "      <td>65.0</td>\n",
       "      <td>8450</td>\n",
       "      <td>7</td>\n",
       "      <td>5</td>\n",
       "      <td>2003</td>\n",
       "      <td>2003</td>\n",
       "      <td>196.0</td>\n",
       "      <td>706</td>\n",
       "      <td>0</td>\n",
       "      <td>...</td>\n",
       "      <td>0</td>\n",
       "      <td>0</td>\n",
       "      <td>0</td>\n",
       "      <td>0</td>\n",
       "      <td>2</td>\n",
       "      <td>2008</td>\n",
       "      <td>208500</td>\n",
       "      <td>0</td>\n",
       "      <td>2566</td>\n",
       "      <td>1141.0</td>\n",
       "    </tr>\n",
       "    <tr>\n",
       "      <th>1</th>\n",
       "      <td>20</td>\n",
       "      <td>80.0</td>\n",
       "      <td>9600</td>\n",
       "      <td>6</td>\n",
       "      <td>8</td>\n",
       "      <td>1976</td>\n",
       "      <td>1976</td>\n",
       "      <td>0.0</td>\n",
       "      <td>978</td>\n",
       "      <td>0</td>\n",
       "      <td>...</td>\n",
       "      <td>0</td>\n",
       "      <td>0</td>\n",
       "      <td>0</td>\n",
       "      <td>0</td>\n",
       "      <td>5</td>\n",
       "      <td>2007</td>\n",
       "      <td>181500</td>\n",
       "      <td>0</td>\n",
       "      <td>2524</td>\n",
       "      <td>1262.0</td>\n",
       "    </tr>\n",
       "    <tr>\n",
       "      <th>2</th>\n",
       "      <td>60</td>\n",
       "      <td>68.0</td>\n",
       "      <td>11250</td>\n",
       "      <td>7</td>\n",
       "      <td>5</td>\n",
       "      <td>2001</td>\n",
       "      <td>2002</td>\n",
       "      <td>162.0</td>\n",
       "      <td>486</td>\n",
       "      <td>0</td>\n",
       "      <td>...</td>\n",
       "      <td>0</td>\n",
       "      <td>0</td>\n",
       "      <td>0</td>\n",
       "      <td>0</td>\n",
       "      <td>9</td>\n",
       "      <td>2008</td>\n",
       "      <td>223500</td>\n",
       "      <td>1</td>\n",
       "      <td>2706</td>\n",
       "      <td>1209.0</td>\n",
       "    </tr>\n",
       "    <tr>\n",
       "      <th>3</th>\n",
       "      <td>70</td>\n",
       "      <td>60.0</td>\n",
       "      <td>9550</td>\n",
       "      <td>7</td>\n",
       "      <td>5</td>\n",
       "      <td>1915</td>\n",
       "      <td>1970</td>\n",
       "      <td>0.0</td>\n",
       "      <td>216</td>\n",
       "      <td>0</td>\n",
       "      <td>...</td>\n",
       "      <td>0</td>\n",
       "      <td>0</td>\n",
       "      <td>0</td>\n",
       "      <td>0</td>\n",
       "      <td>2</td>\n",
       "      <td>2006</td>\n",
       "      <td>140000</td>\n",
       "      <td>55</td>\n",
       "      <td>2473</td>\n",
       "      <td>1213.0</td>\n",
       "    </tr>\n",
       "    <tr>\n",
       "      <th>4</th>\n",
       "      <td>60</td>\n",
       "      <td>84.0</td>\n",
       "      <td>14260</td>\n",
       "      <td>8</td>\n",
       "      <td>5</td>\n",
       "      <td>2000</td>\n",
       "      <td>2000</td>\n",
       "      <td>350.0</td>\n",
       "      <td>655</td>\n",
       "      <td>0</td>\n",
       "      <td>...</td>\n",
       "      <td>0</td>\n",
       "      <td>0</td>\n",
       "      <td>0</td>\n",
       "      <td>0</td>\n",
       "      <td>12</td>\n",
       "      <td>2008</td>\n",
       "      <td>250000</td>\n",
       "      <td>0</td>\n",
       "      <td>3343</td>\n",
       "      <td>1408.0</td>\n",
       "    </tr>\n",
       "  </tbody>\n",
       "</table>\n",
       "<p>5 rows × 40 columns</p>\n",
       "</div>"
      ],
      "text/plain": [
       "   MSSubClass  LotFrontage  LotArea  OverallQual  OverallCond  YearBuilt  \\\n",
       "0          60         65.0     8450            7            5       2003   \n",
       "1          20         80.0     9600            6            8       1976   \n",
       "2          60         68.0    11250            7            5       2001   \n",
       "3          70         60.0     9550            7            5       1915   \n",
       "4          60         84.0    14260            8            5       2000   \n",
       "\n",
       "   YearRemodAdd  MasVnrArea  BsmtFinSF1  BsmtFinSF2  ...  3SsnPorch  \\\n",
       "0          2003       196.0         706           0  ...          0   \n",
       "1          1976         0.0         978           0  ...          0   \n",
       "2          2002       162.0         486           0  ...          0   \n",
       "3          1970         0.0         216           0  ...          0   \n",
       "4          2000       350.0         655           0  ...          0   \n",
       "\n",
       "   ScreenPorch  PoolArea  MiscVal  MoSold  YrSold  SalePrice  YearsBtwRemod  \\\n",
       "0            0         0        0       2    2008     208500              0   \n",
       "1            0         0        0       5    2007     181500              0   \n",
       "2            0         0        0       9    2008     223500              1   \n",
       "3            0         0        0       2    2006     140000             55   \n",
       "4            0         0        0      12    2008     250000              0   \n",
       "\n",
       "   TotalInnerSF  BedroomSize  \n",
       "0          2566       1141.0  \n",
       "1          2524       1262.0  \n",
       "2          2706       1209.0  \n",
       "3          2473       1213.0  \n",
       "4          3343       1408.0  \n",
       "\n",
       "[5 rows x 40 columns]"
      ]
     },
     "execution_count": 8,
     "metadata": {},
     "output_type": "execute_result"
    }
   ],
   "source": [
    "df_num = dataset_df.select_dtypes(include = ['float64', 'int64'])\n",
    "df_num.head()"
   ]
  },
  {
   "cell_type": "code",
   "execution_count": 9,
   "id": "01c5b4f5",
   "metadata": {
    "execution": {
     "iopub.execute_input": "2024-03-06T01:54:58.214813Z",
     "iopub.status.busy": "2024-03-06T01:54:58.214341Z",
     "iopub.status.idle": "2024-03-06T01:54:58.222011Z",
     "shell.execute_reply": "2024-03-06T01:54:58.220679Z"
    },
    "papermill": {
     "duration": 0.028581,
     "end_time": "2024-03-06T01:54:58.225665",
     "exception": false,
     "start_time": "2024-03-06T01:54:58.197084",
     "status": "completed"
    },
    "tags": []
   },
   "outputs": [
    {
     "data": {
      "text/plain": [
       "Index(['MSSubClass', 'LotFrontage', 'LotArea', 'OverallQual', 'OverallCond',\n",
       "       'YearBuilt', 'YearRemodAdd', 'MasVnrArea', 'BsmtFinSF1', 'BsmtFinSF2',\n",
       "       'BsmtUnfSF', 'TotalBsmtSF', '1stFlrSF', '2ndFlrSF', 'LowQualFinSF',\n",
       "       'GrLivArea', 'BsmtFullBath', 'BsmtHalfBath', 'FullBath', 'HalfBath',\n",
       "       'BedroomAbvGr', 'KitchenAbvGr', 'TotRmsAbvGrd', 'Fireplaces',\n",
       "       'GarageYrBlt', 'GarageCars', 'GarageArea', 'WoodDeckSF', 'OpenPorchSF',\n",
       "       'EnclosedPorch', '3SsnPorch', 'ScreenPorch', 'PoolArea', 'MiscVal',\n",
       "       'MoSold', 'YrSold', 'SalePrice', 'YearsBtwRemod', 'TotalInnerSF',\n",
       "       'BedroomSize'],\n",
       "      dtype='object')"
      ]
     },
     "execution_count": 9,
     "metadata": {},
     "output_type": "execute_result"
    }
   ],
   "source": [
    "df_num.columns"
   ]
  },
  {
   "cell_type": "code",
   "execution_count": 10,
   "id": "b81c82e5",
   "metadata": {
    "execution": {
     "iopub.execute_input": "2024-03-06T01:54:58.259462Z",
     "iopub.status.busy": "2024-03-06T01:54:58.259089Z",
     "iopub.status.idle": "2024-03-06T01:54:58.288226Z",
     "shell.execute_reply": "2024-03-06T01:54:58.287110Z"
    },
    "papermill": {
     "duration": 0.04776,
     "end_time": "2024-03-06T01:54:58.290454",
     "exception": false,
     "start_time": "2024-03-06T01:54:58.242694",
     "status": "completed"
    },
    "tags": []
   },
   "outputs": [
    {
     "data": {
      "text/html": [
       "<div>\n",
       "<style scoped>\n",
       "    .dataframe tbody tr th:only-of-type {\n",
       "        vertical-align: middle;\n",
       "    }\n",
       "\n",
       "    .dataframe tbody tr th {\n",
       "        vertical-align: top;\n",
       "    }\n",
       "\n",
       "    .dataframe thead th {\n",
       "        text-align: right;\n",
       "    }\n",
       "</style>\n",
       "<table border=\"1\" class=\"dataframe\">\n",
       "  <thead>\n",
       "    <tr style=\"text-align: right;\">\n",
       "      <th></th>\n",
       "      <th>MSSubClass</th>\n",
       "      <th>LotFrontage</th>\n",
       "      <th>LotArea</th>\n",
       "      <th>OverallQual</th>\n",
       "      <th>OverallCond</th>\n",
       "      <th>YearBuilt</th>\n",
       "      <th>YearRemodAdd</th>\n",
       "      <th>MasVnrArea</th>\n",
       "      <th>BsmtFinSF1</th>\n",
       "      <th>BsmtFinSF2</th>\n",
       "      <th>...</th>\n",
       "      <th>3SsnPorch</th>\n",
       "      <th>ScreenPorch</th>\n",
       "      <th>PoolArea</th>\n",
       "      <th>MiscVal</th>\n",
       "      <th>MoSold</th>\n",
       "      <th>YrSold</th>\n",
       "      <th>SalePrice</th>\n",
       "      <th>YearsBtwRemod</th>\n",
       "      <th>TotalInnerSF</th>\n",
       "      <th>BedroomSize</th>\n",
       "    </tr>\n",
       "  </thead>\n",
       "  <tbody>\n",
       "    <tr>\n",
       "      <th>0</th>\n",
       "      <td>60</td>\n",
       "      <td>65.0</td>\n",
       "      <td>8450</td>\n",
       "      <td>7</td>\n",
       "      <td>5</td>\n",
       "      <td>2003</td>\n",
       "      <td>2003</td>\n",
       "      <td>196.0</td>\n",
       "      <td>706</td>\n",
       "      <td>0</td>\n",
       "      <td>...</td>\n",
       "      <td>0</td>\n",
       "      <td>0</td>\n",
       "      <td>0</td>\n",
       "      <td>0</td>\n",
       "      <td>2</td>\n",
       "      <td>2008</td>\n",
       "      <td>208500</td>\n",
       "      <td>0</td>\n",
       "      <td>2566</td>\n",
       "      <td>1141.0</td>\n",
       "    </tr>\n",
       "    <tr>\n",
       "      <th>1</th>\n",
       "      <td>20</td>\n",
       "      <td>80.0</td>\n",
       "      <td>9600</td>\n",
       "      <td>6</td>\n",
       "      <td>8</td>\n",
       "      <td>1976</td>\n",
       "      <td>1976</td>\n",
       "      <td>0.0</td>\n",
       "      <td>978</td>\n",
       "      <td>0</td>\n",
       "      <td>...</td>\n",
       "      <td>0</td>\n",
       "      <td>0</td>\n",
       "      <td>0</td>\n",
       "      <td>0</td>\n",
       "      <td>5</td>\n",
       "      <td>2007</td>\n",
       "      <td>181500</td>\n",
       "      <td>0</td>\n",
       "      <td>2524</td>\n",
       "      <td>1262.0</td>\n",
       "    </tr>\n",
       "    <tr>\n",
       "      <th>2</th>\n",
       "      <td>60</td>\n",
       "      <td>68.0</td>\n",
       "      <td>11250</td>\n",
       "      <td>7</td>\n",
       "      <td>5</td>\n",
       "      <td>2001</td>\n",
       "      <td>2002</td>\n",
       "      <td>162.0</td>\n",
       "      <td>486</td>\n",
       "      <td>0</td>\n",
       "      <td>...</td>\n",
       "      <td>0</td>\n",
       "      <td>0</td>\n",
       "      <td>0</td>\n",
       "      <td>0</td>\n",
       "      <td>9</td>\n",
       "      <td>2008</td>\n",
       "      <td>223500</td>\n",
       "      <td>1</td>\n",
       "      <td>2706</td>\n",
       "      <td>1209.0</td>\n",
       "    </tr>\n",
       "    <tr>\n",
       "      <th>3</th>\n",
       "      <td>70</td>\n",
       "      <td>60.0</td>\n",
       "      <td>9550</td>\n",
       "      <td>7</td>\n",
       "      <td>5</td>\n",
       "      <td>1915</td>\n",
       "      <td>1970</td>\n",
       "      <td>0.0</td>\n",
       "      <td>216</td>\n",
       "      <td>0</td>\n",
       "      <td>...</td>\n",
       "      <td>0</td>\n",
       "      <td>0</td>\n",
       "      <td>0</td>\n",
       "      <td>0</td>\n",
       "      <td>2</td>\n",
       "      <td>2006</td>\n",
       "      <td>140000</td>\n",
       "      <td>55</td>\n",
       "      <td>2473</td>\n",
       "      <td>1213.0</td>\n",
       "    </tr>\n",
       "    <tr>\n",
       "      <th>4</th>\n",
       "      <td>60</td>\n",
       "      <td>84.0</td>\n",
       "      <td>14260</td>\n",
       "      <td>8</td>\n",
       "      <td>5</td>\n",
       "      <td>2000</td>\n",
       "      <td>2000</td>\n",
       "      <td>350.0</td>\n",
       "      <td>655</td>\n",
       "      <td>0</td>\n",
       "      <td>...</td>\n",
       "      <td>0</td>\n",
       "      <td>0</td>\n",
       "      <td>0</td>\n",
       "      <td>0</td>\n",
       "      <td>12</td>\n",
       "      <td>2008</td>\n",
       "      <td>250000</td>\n",
       "      <td>0</td>\n",
       "      <td>3343</td>\n",
       "      <td>1408.0</td>\n",
       "    </tr>\n",
       "    <tr>\n",
       "      <th>...</th>\n",
       "      <td>...</td>\n",
       "      <td>...</td>\n",
       "      <td>...</td>\n",
       "      <td>...</td>\n",
       "      <td>...</td>\n",
       "      <td>...</td>\n",
       "      <td>...</td>\n",
       "      <td>...</td>\n",
       "      <td>...</td>\n",
       "      <td>...</td>\n",
       "      <td>...</td>\n",
       "      <td>...</td>\n",
       "      <td>...</td>\n",
       "      <td>...</td>\n",
       "      <td>...</td>\n",
       "      <td>...</td>\n",
       "      <td>...</td>\n",
       "      <td>...</td>\n",
       "      <td>...</td>\n",
       "      <td>...</td>\n",
       "      <td>...</td>\n",
       "    </tr>\n",
       "    <tr>\n",
       "      <th>1455</th>\n",
       "      <td>60</td>\n",
       "      <td>62.0</td>\n",
       "      <td>7917</td>\n",
       "      <td>6</td>\n",
       "      <td>5</td>\n",
       "      <td>1999</td>\n",
       "      <td>2000</td>\n",
       "      <td>0.0</td>\n",
       "      <td>0</td>\n",
       "      <td>0</td>\n",
       "      <td>...</td>\n",
       "      <td>0</td>\n",
       "      <td>0</td>\n",
       "      <td>0</td>\n",
       "      <td>0</td>\n",
       "      <td>8</td>\n",
       "      <td>2007</td>\n",
       "      <td>175000</td>\n",
       "      <td>1</td>\n",
       "      <td>2600</td>\n",
       "      <td>1184.0</td>\n",
       "    </tr>\n",
       "    <tr>\n",
       "      <th>1456</th>\n",
       "      <td>20</td>\n",
       "      <td>85.0</td>\n",
       "      <td>13175</td>\n",
       "      <td>6</td>\n",
       "      <td>6</td>\n",
       "      <td>1978</td>\n",
       "      <td>1988</td>\n",
       "      <td>119.0</td>\n",
       "      <td>790</td>\n",
       "      <td>163</td>\n",
       "      <td>...</td>\n",
       "      <td>0</td>\n",
       "      <td>0</td>\n",
       "      <td>0</td>\n",
       "      <td>0</td>\n",
       "      <td>2</td>\n",
       "      <td>2010</td>\n",
       "      <td>210000</td>\n",
       "      <td>10</td>\n",
       "      <td>3615</td>\n",
       "      <td>2073.0</td>\n",
       "    </tr>\n",
       "    <tr>\n",
       "      <th>1457</th>\n",
       "      <td>70</td>\n",
       "      <td>66.0</td>\n",
       "      <td>9042</td>\n",
       "      <td>7</td>\n",
       "      <td>9</td>\n",
       "      <td>1941</td>\n",
       "      <td>2006</td>\n",
       "      <td>0.0</td>\n",
       "      <td>275</td>\n",
       "      <td>0</td>\n",
       "      <td>...</td>\n",
       "      <td>0</td>\n",
       "      <td>0</td>\n",
       "      <td>0</td>\n",
       "      <td>2500</td>\n",
       "      <td>5</td>\n",
       "      <td>2010</td>\n",
       "      <td>266500</td>\n",
       "      <td>65</td>\n",
       "      <td>3492</td>\n",
       "      <td>1476.0</td>\n",
       "    </tr>\n",
       "    <tr>\n",
       "      <th>1458</th>\n",
       "      <td>20</td>\n",
       "      <td>68.0</td>\n",
       "      <td>9717</td>\n",
       "      <td>5</td>\n",
       "      <td>6</td>\n",
       "      <td>1950</td>\n",
       "      <td>1996</td>\n",
       "      <td>0.0</td>\n",
       "      <td>49</td>\n",
       "      <td>1029</td>\n",
       "      <td>...</td>\n",
       "      <td>0</td>\n",
       "      <td>0</td>\n",
       "      <td>0</td>\n",
       "      <td>0</td>\n",
       "      <td>4</td>\n",
       "      <td>2010</td>\n",
       "      <td>142125</td>\n",
       "      <td>46</td>\n",
       "      <td>2156</td>\n",
       "      <td>1078.0</td>\n",
       "    </tr>\n",
       "    <tr>\n",
       "      <th>1459</th>\n",
       "      <td>20</td>\n",
       "      <td>75.0</td>\n",
       "      <td>9937</td>\n",
       "      <td>5</td>\n",
       "      <td>6</td>\n",
       "      <td>1965</td>\n",
       "      <td>1965</td>\n",
       "      <td>0.0</td>\n",
       "      <td>830</td>\n",
       "      <td>290</td>\n",
       "      <td>...</td>\n",
       "      <td>0</td>\n",
       "      <td>0</td>\n",
       "      <td>0</td>\n",
       "      <td>0</td>\n",
       "      <td>6</td>\n",
       "      <td>2008</td>\n",
       "      <td>147500</td>\n",
       "      <td>0</td>\n",
       "      <td>2512</td>\n",
       "      <td>1256.0</td>\n",
       "    </tr>\n",
       "  </tbody>\n",
       "</table>\n",
       "<p>1460 rows × 40 columns</p>\n",
       "</div>"
      ],
      "text/plain": [
       "      MSSubClass  LotFrontage  LotArea  OverallQual  OverallCond  YearBuilt  \\\n",
       "0             60         65.0     8450            7            5       2003   \n",
       "1             20         80.0     9600            6            8       1976   \n",
       "2             60         68.0    11250            7            5       2001   \n",
       "3             70         60.0     9550            7            5       1915   \n",
       "4             60         84.0    14260            8            5       2000   \n",
       "...          ...          ...      ...          ...          ...        ...   \n",
       "1455          60         62.0     7917            6            5       1999   \n",
       "1456          20         85.0    13175            6            6       1978   \n",
       "1457          70         66.0     9042            7            9       1941   \n",
       "1458          20         68.0     9717            5            6       1950   \n",
       "1459          20         75.0     9937            5            6       1965   \n",
       "\n",
       "      YearRemodAdd  MasVnrArea  BsmtFinSF1  BsmtFinSF2  ...  3SsnPorch  \\\n",
       "0             2003       196.0         706           0  ...          0   \n",
       "1             1976         0.0         978           0  ...          0   \n",
       "2             2002       162.0         486           0  ...          0   \n",
       "3             1970         0.0         216           0  ...          0   \n",
       "4             2000       350.0         655           0  ...          0   \n",
       "...            ...         ...         ...         ...  ...        ...   \n",
       "1455          2000         0.0           0           0  ...          0   \n",
       "1456          1988       119.0         790         163  ...          0   \n",
       "1457          2006         0.0         275           0  ...          0   \n",
       "1458          1996         0.0          49        1029  ...          0   \n",
       "1459          1965         0.0         830         290  ...          0   \n",
       "\n",
       "      ScreenPorch  PoolArea  MiscVal  MoSold  YrSold  SalePrice  \\\n",
       "0               0         0        0       2    2008     208500   \n",
       "1               0         0        0       5    2007     181500   \n",
       "2               0         0        0       9    2008     223500   \n",
       "3               0         0        0       2    2006     140000   \n",
       "4               0         0        0      12    2008     250000   \n",
       "...           ...       ...      ...     ...     ...        ...   \n",
       "1455            0         0        0       8    2007     175000   \n",
       "1456            0         0        0       2    2010     210000   \n",
       "1457            0         0     2500       5    2010     266500   \n",
       "1458            0         0        0       4    2010     142125   \n",
       "1459            0         0        0       6    2008     147500   \n",
       "\n",
       "      YearsBtwRemod  TotalInnerSF  BedroomSize  \n",
       "0                 0          2566       1141.0  \n",
       "1                 0          2524       1262.0  \n",
       "2                 1          2706       1209.0  \n",
       "3                55          2473       1213.0  \n",
       "4                 0          3343       1408.0  \n",
       "...             ...           ...          ...  \n",
       "1455              1          2600       1184.0  \n",
       "1456             10          3615       2073.0  \n",
       "1457             65          3492       1476.0  \n",
       "1458             46          2156       1078.0  \n",
       "1459              0          2512       1256.0  \n",
       "\n",
       "[1460 rows x 40 columns]"
      ]
     },
     "execution_count": 10,
     "metadata": {},
     "output_type": "execute_result"
    }
   ],
   "source": [
    "df_num"
   ]
  },
  {
   "cell_type": "code",
   "execution_count": 11,
   "id": "3e62bcb5",
   "metadata": {
    "execution": {
     "iopub.execute_input": "2024-03-06T01:54:58.319006Z",
     "iopub.status.busy": "2024-03-06T01:54:58.318717Z",
     "iopub.status.idle": "2024-03-06T01:54:59.006140Z",
     "shell.execute_reply": "2024-03-06T01:54:59.004972Z"
    },
    "papermill": {
     "duration": 0.704699,
     "end_time": "2024-03-06T01:54:59.008777",
     "exception": false,
     "start_time": "2024-03-06T01:54:58.304078",
     "status": "completed"
    },
    "tags": []
   },
   "outputs": [
    {
     "data": {
      "image/png": "[encoded data removed]",
      "text/plain": [
       "<Figure size 1600x2000 with 1 Axes>"
      ]
     },
     "metadata": {},
     "output_type": "display_data"
    }
   ],
   "source": [
    "df_num.BedroomSize.hist(figsize=(16, 20), bins=50, xlabelsize=8, ylabelsize=8);"
   ]
  },
  {
   "cell_type": "markdown",
   "id": "2499dd75",
   "metadata": {
    "id": "MnaH5h8u416o",
    "papermill": {
     "duration": 0.013519,
     "end_time": "2024-03-06T01:54:59.036722",
     "exception": false,
     "start_time": "2024-03-06T01:54:59.023203",
     "status": "completed"
    },
    "tags": []
   },
   "source": [
    "Now let us plot the distribution for all the numerical features."
   ]
  },
  {
   "cell_type": "code",
   "execution_count": 12,
   "id": "16d61680",
   "metadata": {
    "execution": {
     "iopub.execute_input": "2024-03-06T01:54:59.065354Z",
     "iopub.status.busy": "2024-03-06T01:54:59.065042Z",
     "iopub.status.idle": "2024-03-06T01:55:07.008018Z",
     "shell.execute_reply": "2024-03-06T01:55:07.006930Z"
    },
    "id": "Dj4h_dIw416o",
    "papermill": {
     "duration": 7.961804,
     "end_time": "2024-03-06T01:55:07.012201",
     "exception": false,
     "start_time": "2024-03-06T01:54:59.050397",
     "status": "completed"
    },
    "tags": []
   },
   "outputs": [
    {
     "data": {
      "image/png": "[encoded data removed]",
      "text/plain": [
       "<Figure size 1600x2000 with 42 Axes>"
      ]
     },
     "metadata": {},
     "output_type": "display_data"
    }
   ],
   "source": [
    "df_num.hist(figsize=(16, 20), bins=50, xlabelsize=8, ylabelsize=8);"
   ]
  },
  {
   "cell_type": "markdown",
   "id": "dd038005",
   "metadata": {
    "id": "H4O7QCoh5e2e",
    "papermill": {
     "duration": 0.016307,
     "end_time": "2024-03-06T01:55:07.045217",
     "exception": false,
     "start_time": "2024-03-06T01:55:07.028910",
     "status": "completed"
    },
    "tags": []
   },
   "source": [
    "## Prepare the dataset\n",
    "\n",
    "This dataset contains a mix of numeric, categorical and missing features. TF-DF supports all these feature types natively, and no preprocessing is required. This is one advantage of tree-based models, making them a great entry point to Tensorflow and ML."
   ]
  },
  {
   "cell_type": "markdown",
   "id": "db8ddd6b",
   "metadata": {
    "id": "brbRsBQfSC74",
    "papermill": {
     "duration": 0.016118,
     "end_time": "2024-03-06T01:55:07.077574",
     "exception": false,
     "start_time": "2024-03-06T01:55:07.061456",
     "status": "completed"
    },
    "tags": []
   },
   "source": [
    "Now let us split the dataset into training and testing datasets:"
   ]
  },
  {
   "cell_type": "code",
   "execution_count": 13,
   "id": "fe047f12",
   "metadata": {
    "execution": {
     "iopub.execute_input": "2024-03-06T01:55:07.111234Z",
     "iopub.status.busy": "2024-03-06T01:55:07.110893Z",
     "iopub.status.idle": "2024-03-06T01:55:07.120471Z",
     "shell.execute_reply": "2024-03-06T01:55:07.119366Z"
    },
    "id": "tsQad0t7SBv2",
    "papermill": {
     "duration": 0.029006,
     "end_time": "2024-03-06T01:55:07.122714",
     "exception": false,
     "start_time": "2024-03-06T01:55:07.093708",
     "status": "completed"
    },
    "tags": []
   },
   "outputs": [
    {
     "name": "stdout",
     "output_type": "stream",
     "text": [
      "1042 examples in training, 418 examples in testing.\n"
     ]
    }
   ],
   "source": [
    "import numpy as np\n",
    "\n",
    "def split_dataset(dataset, test_ratio=0.28):\n",
    "  test_indices = np.random.rand(len(dataset)) < test_ratio\n",
    "  return dataset[~test_indices], dataset[test_indices]\n",
    "\n",
    "train_ds_pd, valid_ds_pd = split_dataset(dataset_df)\n",
    "print(\"{} examples in training, {} examples in testing.\".format(\n",
    "    len(train_ds_pd), len(valid_ds_pd)))"
   ]
  },
  {
   "cell_type": "markdown",
   "id": "d16dbfcf",
   "metadata": {
    "id": "-hNGPbLlSGvp",
    "papermill": {
     "duration": 0.016147,
     "end_time": "2024-03-06T01:55:07.155429",
     "exception": false,
     "start_time": "2024-03-06T01:55:07.139282",
     "status": "completed"
    },
    "tags": []
   },
   "source": [
    "There's one more step required before we can train the model. We need to convert the datatset from Pandas format (`pd.DataFrame`) into TensorFlow Datasets format (`tf.data.Dataset`).\n",
    "\n",
    "[TensorFlow Datasets](https://www.tensorflow.org/datasets/overview) is a high performance data loading library which is helpful when training neural networks with accelerators like GPUs and TPUs."
   ]
  },
  {
   "cell_type": "markdown",
   "id": "3b04c79e",
   "metadata": {
    "id": "7goqxGx3416p",
    "papermill": {
     "duration": 0.016196,
     "end_time": "2024-03-06T01:55:07.187906",
     "exception": false,
     "start_time": "2024-03-06T01:55:07.171710",
     "status": "completed"
    },
    "tags": []
   },
   "source": [
    "By default the Random Forest Model is configured to train classification tasks. Since this is a regression problem, we will specify the type of the task (`tfdf.keras.Task.REGRESSION`) as a parameter here."
   ]
  },
  {
   "cell_type": "code",
   "execution_count": 14,
   "id": "6c76f029",
   "metadata": {
    "execution": {
     "iopub.execute_input": "2024-03-06T01:55:07.222447Z",
     "iopub.status.busy": "2024-03-06T01:55:07.221702Z",
     "iopub.status.idle": "2024-03-06T01:55:09.619668Z",
     "shell.execute_reply": "2024-03-06T01:55:09.618560Z"
    },
    "id": "xQgimfirSGQ9",
    "papermill": {
     "duration": 2.418074,
     "end_time": "2024-03-06T01:55:09.622245",
     "exception": false,
     "start_time": "2024-03-06T01:55:07.204171",
     "status": "completed"
    },
    "tags": []
   },
   "outputs": [],
   "source": [
    "label = 'SalePrice'\n",
    "train_ds = tfdf.keras.pd_dataframe_to_tf_dataset(train_ds_pd, label=label, task = tfdf.keras.Task.REGRESSION)\n",
    "valid_ds = tfdf.keras.pd_dataframe_to_tf_dataset(valid_ds_pd, label=label, task = tfdf.keras.Task.REGRESSION)"
   ]
  },
  {
   "cell_type": "markdown",
   "id": "19c34fa0",
   "metadata": {
    "id": "IUG4UKUyTNUu",
    "papermill": {
     "duration": 0.016391,
     "end_time": "2024-03-06T01:55:09.655785",
     "exception": false,
     "start_time": "2024-03-06T01:55:09.639394",
     "status": "completed"
    },
    "tags": []
   },
   "source": [
    "## Select a Model\n",
    "\n",
    "There are several tree-based models for you to choose from.\n",
    "\n",
    "* RandomForestModel\n",
    "* GradientBoostedTreesModel\n",
    "* CartModel\n",
    "* DistributedGradientBoostedTreesModel\n",
    "\n",
    "To start, we'll work with a Random Forest. This is the most well-known of the Decision Forest training algorithms.\n",
    "\n",
    "A Random Forest is a collection of decision trees, each trained independently on a random subset of the training dataset (sampled with replacement). The algorithm is unique in that it is robust to overfitting, and easy to use."
   ]
  },
  {
   "cell_type": "markdown",
   "id": "aef680f4",
   "metadata": {
    "id": "VJSwNUdb416p",
    "papermill": {
     "duration": 0.016504,
     "end_time": "2024-03-06T01:55:09.688920",
     "exception": false,
     "start_time": "2024-03-06T01:55:09.672416",
     "status": "completed"
    },
    "tags": []
   },
   "source": [
    "We can list the all the available models in TensorFlow Decision Forests using the following code:"
   ]
  },
  {
   "cell_type": "code",
   "execution_count": 15,
   "id": "c23de7df",
   "metadata": {
    "execution": {
     "iopub.execute_input": "2024-03-06T01:55:09.723319Z",
     "iopub.status.busy": "2024-03-06T01:55:09.722678Z",
     "iopub.status.idle": "2024-03-06T01:55:09.729126Z",
     "shell.execute_reply": "2024-03-06T01:55:09.728151Z"
    },
    "id": "MFmnkRR_Ui9w",
    "papermill": {
     "duration": 0.026013,
     "end_time": "2024-03-06T01:55:09.731312",
     "exception": false,
     "start_time": "2024-03-06T01:55:09.705299",
     "status": "completed"
    },
    "tags": []
   },
   "outputs": [
    {
     "data": {
      "text/plain": [
       "[tensorflow_decision_forests.keras.RandomForestModel,\n",
       " tensorflow_decision_forests.keras.GradientBoostedTreesModel,\n",
       " tensorflow_decision_forests.keras.CartModel,\n",
       " tensorflow_decision_forests.keras.DistributedGradientBoostedTreesModel]"
      ]
     },
     "execution_count": 15,
     "metadata": {},
     "output_type": "execute_result"
    }
   ],
   "source": [
    "tfdf.keras.get_all_models()"
   ]
  },
  {
   "cell_type": "markdown",
   "id": "3fd7b30e",
   "metadata": {
    "id": "irxAS91IRVAX",
    "papermill": {
     "duration": 0.016266,
     "end_time": "2024-03-06T01:55:09.764128",
     "exception": false,
     "start_time": "2024-03-06T01:55:09.747862",
     "status": "completed"
    },
    "tags": []
   },
   "source": [
    "\n"
   ]
  },
  {
   "cell_type": "markdown",
   "id": "847e704f",
   "metadata": {
    "papermill": {
     "duration": 0.016393,
     "end_time": "2024-03-06T01:55:09.797059",
     "exception": false,
     "start_time": "2024-03-06T01:55:09.780666",
     "status": "completed"
    },
    "tags": []
   },
   "source": [
    "Hyperparameter Tuning"
   ]
  },
  {
   "cell_type": "code",
   "execution_count": 16,
   "id": "69a88136",
   "metadata": {
    "execution": {
     "iopub.execute_input": "2024-03-06T01:55:09.832015Z",
     "iopub.status.busy": "2024-03-06T01:55:09.831148Z",
     "iopub.status.idle": "2024-03-06T01:55:09.841563Z",
     "shell.execute_reply": "2024-03-06T01:55:09.840626Z"
    },
    "papermill": {
     "duration": 0.030369,
     "end_time": "2024-03-06T01:55:09.843881",
     "exception": false,
     "start_time": "2024-03-06T01:55:09.813512",
     "status": "completed"
    },
    "tags": []
   },
   "outputs": [
    {
     "data": {
      "text/plain": [
       "<tensorflow_decision_forests.component.tuner.tuner.SearchSpace at 0x7a113ad90e90>"
      ]
     },
     "execution_count": 16,
     "metadata": {},
     "output_type": "execute_result"
    }
   ],
   "source": [
    "tuner = tfdf.tuner.RandomSearch(num_trials=30)\n",
    "\n",
    "# Hyper-parameters to optimize.\n",
    "tuner.choice(\"max_depth\", [4,5,6,7,15,60,150])\n",
    "tuner.choice(\"min_examples\", [2,4,5,6,7,15,50,150])\n",
    "tuner.choice(\"num_trees\",[5,20,40,70,80,100,200,300])\n",
    "tuner.choice(\"selective_gradient_boosting_ratio\",[0.0001,0.01,0.015,0.02,0.025,0.1,0.7])\n",
    "tuner.choice(\"random_seed\",[123456,12,1717,654646])"
   ]
  },
  {
   "cell_type": "markdown",
   "id": "2d293edb",
   "metadata": {
    "id": "AUt4j8fLWRlR",
    "papermill": {
     "duration": 0.016404,
     "end_time": "2024-03-06T01:55:09.876691",
     "exception": false,
     "start_time": "2024-03-06T01:55:09.860287",
     "status": "completed"
    },
    "tags": []
   },
   "source": [
    "## Create a Random Forest\n",
    "\n",
    "Today, we will use the defaults to create the Random Forest Model while specifiyng the task type as `tfdf.keras.Task.REGRESSION`."
   ]
  },
  {
   "cell_type": "code",
   "execution_count": 17,
   "id": "7ed09b54",
   "metadata": {
    "execution": {
     "iopub.execute_input": "2024-03-06T01:55:09.911408Z",
     "iopub.status.busy": "2024-03-06T01:55:09.910761Z",
     "iopub.status.idle": "2024-03-06T01:55:09.955662Z",
     "shell.execute_reply": "2024-03-06T01:55:09.954869Z"
    },
    "id": "O7bqOQMYTRXZ",
    "papermill": {
     "duration": 0.064602,
     "end_time": "2024-03-06T01:55:09.957840",
     "exception": false,
     "start_time": "2024-03-06T01:55:09.893238",
     "status": "completed"
    },
    "tags": []
   },
   "outputs": [
    {
     "name": "stdout",
     "output_type": "stream",
     "text": [
      "Use /tmp/tmpm_mevp9r as temporary training directory\n"
     ]
    }
   ],
   "source": [
    "gbtm = tfdf.keras.GradientBoostedTreesModel(task = tfdf.keras.Task.REGRESSION, tuner=tuner)\n",
    "gbtm.compile(metrics=[\"mse\"]) # Optional, you can use this to include a list of eval metrics"
   ]
  },
  {
   "cell_type": "markdown",
   "id": "5e0b2772",
   "metadata": {
    "id": "0CzJ5_sh91Yt",
    "papermill": {
     "duration": 0.016421,
     "end_time": "2024-03-06T01:55:09.992326",
     "exception": false,
     "start_time": "2024-03-06T01:55:09.975905",
     "status": "completed"
    },
    "tags": []
   },
   "source": [
    "## Train the model\n",
    "\n",
    "We will train the model using a one-liner.\n",
    "\n",
    "Note: you may see a warning about Autograph. You can safely ignore this, it will be fixed in the next release."
   ]
  },
  {
   "cell_type": "code",
   "execution_count": 18,
   "id": "6ed361f6",
   "metadata": {
    "execution": {
     "iopub.execute_input": "2024-03-06T01:55:10.027246Z",
     "iopub.status.busy": "2024-03-06T01:55:10.026660Z",
     "iopub.status.idle": "2024-03-06T01:55:33.502480Z",
     "shell.execute_reply": "2024-03-06T01:55:33.501433Z"
    },
    "id": "Ax6RircN92LW",
    "papermill": {
     "duration": 23.495712,
     "end_time": "2024-03-06T01:55:33.504829",
     "exception": false,
     "start_time": "2024-03-06T01:55:10.009117",
     "status": "completed"
    },
    "tags": []
   },
   "outputs": [
    {
     "name": "stdout",
     "output_type": "stream",
     "text": [
      "Reading training dataset...\n",
      "Training dataset read in 0:00:07.484638. Found 1042 examples.\n",
      "Training model...\n",
      "Model trained in 0:00:12.673969\n",
      "Compiling model...\n"
     ]
    },
    {
     "name": "stderr",
     "output_type": "stream",
     "text": [
      "[INFO 2024-03-06T01:55:30.195185993+00:00 kernel.cc:1214] Loading model from path /tmp/tmpm_mevp9r/model/ with prefix cd121a27461a4301\n",
      "[INFO 2024-03-06T01:55:30.200850928+00:00 abstract_model.cc:1311] Engine \"GradientBoostedTreesQuickScorerExtended\" built\n",
      "[INFO 2024-03-06T01:55:30.200992308+00:00 kernel.cc:1046] Use fast generic engine\n"
     ]
    },
    {
     "name": "stdout",
     "output_type": "stream",
     "text": [
      "WARNING: AutoGraph could not transform <function simple_ml_inference_op_with_handle at 0x7a1149f0b170> and will run it as-is.\n",
      "Please report this to the TensorFlow team. When filing the bug, set the verbosity to 10 (on Linux, `export AUTOGRAPH_VERBOSITY=10`) and attach the full output.\n",
      "Cause: could not get source code\n",
      "To silence this warning, decorate the function with @tf.autograph.experimental.do_not_convert\n",
      "Model compiled.\n"
     ]
    },
    {
     "data": {
      "text/plain": [
       "<keras.callbacks.History at 0x7a113ac751d0>"
      ]
     },
     "execution_count": 18,
     "metadata": {},
     "output_type": "execute_result"
    }
   ],
   "source": [
    "gbtm.fit(x=train_ds)"
   ]
  },
  {
   "cell_type": "code",
   "execution_count": 19,
   "id": "7a1a2def",
   "metadata": {
    "execution": {
     "iopub.execute_input": "2024-03-06T01:55:33.541795Z",
     "iopub.status.busy": "2024-03-06T01:55:33.541169Z",
     "iopub.status.idle": "2024-03-06T01:55:33.766359Z",
     "shell.execute_reply": "2024-03-06T01:55:33.765387Z"
    },
    "id": "ryddKoqLWrTp",
    "papermill": {
     "duration": 0.246041,
     "end_time": "2024-03-06T01:55:33.768725",
     "exception": false,
     "start_time": "2024-03-06T01:55:33.522684",
     "status": "completed"
    },
    "tags": []
   },
   "outputs": [
    {
     "data": {
      "image/png": "[encoded data removed]",
      "text/plain": [
       "<Figure size 640x480 with 1 Axes>"
      ]
     },
     "metadata": {},
     "output_type": "display_data"
    }
   ],
   "source": [
    "import matplotlib.pyplot as plt\n",
    "logs = gbtm.make_inspector().training_logs()\n",
    "plt.plot([log.num_trees for log in logs], [log.evaluation.rmse for log in logs])\n",
    "plt.xlabel(\"Number of trees\")\n",
    "plt.ylabel(\"RMSE (out-of-bag)\")\n",
    "plt.show()"
   ]
  },
  {
   "cell_type": "code",
   "execution_count": 20,
   "id": "90378d0d",
   "metadata": {
    "execution": {
     "iopub.execute_input": "2024-03-06T01:55:33.806518Z",
     "iopub.status.busy": "2024-03-06T01:55:33.806218Z",
     "iopub.status.idle": "2024-03-06T01:55:33.815450Z",
     "shell.execute_reply": "2024-03-06T01:55:33.814648Z"
    },
    "id": "gdY8DvriTxky",
    "papermill": {
     "duration": 0.03059,
     "end_time": "2024-03-06T01:55:33.817529",
     "exception": false,
     "start_time": "2024-03-06T01:55:33.786939",
     "status": "completed"
    },
    "tags": []
   },
   "outputs": [
    {
     "data": {
      "text/plain": [
       "Evaluation(num_examples=None, accuracy=None, loss=16211.611328125, rmse=16211.611328125, ndcg=None, aucs=None, auuc=None, qini=None)"
      ]
     },
     "execution_count": 20,
     "metadata": {},
     "output_type": "execute_result"
    }
   ],
   "source": [
    "inspector = gbtm.make_inspector()\n",
    "inspector.evaluation()"
   ]
  },
  {
   "cell_type": "markdown",
   "id": "aedd769a",
   "metadata": {
    "id": "GAoGJNjg-9sb",
    "papermill": {
     "duration": 0.017706,
     "end_time": "2024-03-06T01:55:33.853403",
     "exception": false,
     "start_time": "2024-03-06T01:55:33.835697",
     "status": "completed"
    },
    "tags": []
   },
   "source": [
    "Now, let us run an evaluation using the validation dataset."
   ]
  },
  {
   "cell_type": "code",
   "execution_count": 21,
   "id": "4dda5e60",
   "metadata": {
    "execution": {
     "iopub.execute_input": "2024-03-06T01:55:33.890790Z",
     "iopub.status.busy": "2024-03-06T01:55:33.890081Z",
     "iopub.status.idle": "2024-03-06T01:55:34.631269Z",
     "shell.execute_reply": "2024-03-06T01:55:34.630136Z"
    },
    "id": "39x97YqWZlgm",
    "papermill": {
     "duration": 0.762211,
     "end_time": "2024-03-06T01:55:34.633486",
     "exception": false,
     "start_time": "2024-03-06T01:55:33.871275",
     "status": "completed"
    },
    "tags": []
   },
   "outputs": [
    {
     "name": "stdout",
     "output_type": "stream",
     "text": [
      "1/1 [==============================] - 1s 728ms/step - loss: 0.0000e+00 - mse: 822613120.0000\n",
      "loss: 0.0000\n",
      "mse: 822613120.0000\n"
     ]
    }
   ],
   "source": [
    "evaluation = gbtm.evaluate(x=valid_ds,return_dict=True)\n",
    "\n",
    "for name, value in evaluation.items():\n",
    "  print(f\"{name}: {value:.4f}\")"
   ]
  },
  {
   "cell_type": "markdown",
   "id": "96c8b290",
   "metadata": {
    "id": "LWWqqDLM7WdZ",
    "papermill": {
     "duration": 0.018114,
     "end_time": "2024-03-06T01:55:34.670232",
     "exception": false,
     "start_time": "2024-03-06T01:55:34.652118",
     "status": "completed"
    },
    "tags": []
   },
   "source": [
    "## Variable importances\n",
    "\n",
    "Variable importances generally indicate how much a feature contributes to the model predictions or quality. There are several ways to identify important features using TensorFlow Decision Forests.\n",
    "Let us list the available `Variable Importances` for Decision Trees:"
   ]
  },
  {
   "cell_type": "code",
   "execution_count": 22,
   "id": "dfd986dd",
   "metadata": {
    "execution": {
     "iopub.execute_input": "2024-03-06T01:55:34.708292Z",
     "iopub.status.busy": "2024-03-06T01:55:34.707513Z",
     "iopub.status.idle": "2024-03-06T01:55:34.714020Z",
     "shell.execute_reply": "2024-03-06T01:55:34.712883Z"
    },
    "id": "xok16_jMgGZH",
    "papermill": {
     "duration": 0.02811,
     "end_time": "2024-03-06T01:55:34.716428",
     "exception": false,
     "start_time": "2024-03-06T01:55:34.688318",
     "status": "completed"
    },
    "tags": []
   },
   "outputs": [
    {
     "name": "stdout",
     "output_type": "stream",
     "text": [
      "Available variable importances:\n",
      "\t NUM_AS_ROOT\n",
      "\t NUM_NODES\n",
      "\t INV_MEAN_MIN_DEPTH\n",
      "\t SUM_SCORE\n"
     ]
    }
   ],
   "source": [
    "print(f\"Available variable importances:\")\n",
    "for importance in inspector.variable_importances().keys():\n",
    "  print(\"\\t\", importance)"
   ]
  },
  {
   "cell_type": "markdown",
   "id": "06cd3027",
   "metadata": {
    "id": "USvNgqBR_JR2",
    "papermill": {
     "duration": 0.018133,
     "end_time": "2024-03-06T01:55:34.752726",
     "exception": false,
     "start_time": "2024-03-06T01:55:34.734593",
     "status": "completed"
    },
    "tags": []
   },
   "source": [
    "As an example, let us display the important features for the Variable Importance `NUM_AS_ROOT`.\n",
    "\n",
    "The larger the importance score for `NUM_AS_ROOT`, the more impact it has on the outcome of the model.\n",
    "\n",
    "By default, the list is sorted from the most important to the least. From the output you can infer that the feature at the top of the list is used as the root node in most number of trees in the random forest than any other feature."
   ]
  },
  {
   "cell_type": "code",
   "execution_count": 23,
   "id": "f823212e",
   "metadata": {
    "execution": {
     "iopub.execute_input": "2024-03-06T01:55:34.790775Z",
     "iopub.status.busy": "2024-03-06T01:55:34.790232Z",
     "iopub.status.idle": "2024-03-06T01:55:34.797784Z",
     "shell.execute_reply": "2024-03-06T01:55:34.796848Z"
    },
    "id": "eI073gJHgHxr",
    "papermill": {
     "duration": 0.029002,
     "end_time": "2024-03-06T01:55:34.800042",
     "exception": false,
     "start_time": "2024-03-06T01:55:34.771040",
     "status": "completed"
    },
    "tags": []
   },
   "outputs": [
    {
     "data": {
      "text/plain": [
       "[(\"TotalInnerSF\" (1; #75), 9.0),\n",
       " (\"OverallQual\" (1; #63), 6.0),\n",
       " (\"BsmtExposure\" (4; #8), 4.0),\n",
       " (\"Fireplaces\" (1; #28), 4.0),\n",
       " (\"Neighborhood\" (4; #60), 4.0),\n",
       " (\"GarageCars\" (1; #33), 3.0),\n",
       " (\"GrLivArea\" (1; #39), 3.0),\n",
       " (\"LotArea\" (1; #48), 3.0),\n",
       " (\"BsmtFinSF1\" (1; #9), 2.0),\n",
       " (\"OpenPorchSF\" (1; #61), 2.0),\n",
       " (\"SaleCondition\" (4; #69), 2.0),\n",
       " (\"GarageArea\" (1; #32), 1.0),\n",
       " (\"GarageYrBlt\" (1; #38), 1.0),\n",
       " (\"KitchenQual\" (4; #45), 1.0),\n",
       " (\"LotConfig\" (4; #49), 1.0),\n",
       " (\"SaleType\" (4; #70), 1.0),\n",
       " (\"WoodDeckSF\" (1; #77), 1.0),\n",
       " (\"YearRemodAdd\" (1; #79), 1.0)]"
      ]
     },
     "execution_count": 23,
     "metadata": {},
     "output_type": "execute_result"
    }
   ],
   "source": [
    "inspector.variable_importances()[\"NUM_AS_ROOT\"]"
   ]
  },
  {
   "cell_type": "markdown",
   "id": "3ce038cd",
   "metadata": {
    "id": "qiASD3ei52H6",
    "papermill": {
     "duration": 0.018068,
     "end_time": "2024-03-06T01:55:34.836538",
     "exception": false,
     "start_time": "2024-03-06T01:55:34.818470",
     "status": "completed"
    },
    "tags": []
   },
   "source": [
    "Plot the variable importances from the inspector using Matplotlib"
   ]
  },
  {
   "cell_type": "code",
   "execution_count": 24,
   "id": "9d4abfb6",
   "metadata": {
    "execution": {
     "iopub.execute_input": "2024-03-06T01:55:34.874848Z",
     "iopub.status.busy": "2024-03-06T01:55:34.874275Z",
     "iopub.status.idle": "2024-03-06T01:55:35.262182Z",
     "shell.execute_reply": "2024-03-06T01:55:35.260971Z"
    },
    "id": "cyyzelTl53AH",
    "papermill": {
     "duration": 0.41034,
     "end_time": "2024-03-06T01:55:35.265173",
     "exception": false,
     "start_time": "2024-03-06T01:55:34.854833",
     "status": "completed"
    },
    "tags": []
   },
   "outputs": [
    {
     "data": {
      "image/png": "[encoded data removed]",
      "text/plain": [
       "<Figure size 1200x400 with 1 Axes>"
      ]
     },
     "metadata": {},
     "output_type": "display_data"
    }
   ],
   "source": [
    "plt.figure(figsize=(12, 4))\n",
    "\n",
    "# Mean decrease in AUC of the class 1 vs the others.\n",
    "variable_importance_metric = \"NUM_AS_ROOT\"\n",
    "variable_importances = inspector.variable_importances()[variable_importance_metric]\n",
    "\n",
    "# Extract the feature name and importance values.\n",
    "#\n",
    "# `variable_importances` is a list of <feature, importance> tuples.\n",
    "feature_names = [vi[0].name for vi in variable_importances]\n",
    "feature_importances = [vi[1] for vi in variable_importances]\n",
    "# The feature are ordered in decreasing importance value.\n",
    "feature_ranks = range(len(feature_names))\n",
    "\n",
    "bar = plt.barh(feature_ranks, feature_importances, label=[str(x) for x in feature_ranks])\n",
    "plt.yticks(feature_ranks, feature_names)\n",
    "plt.gca().invert_yaxis()\n",
    "\n",
    "# TODO: Replace with \"plt.bar_label()\" when available.\n",
    "# Label each bar with values\n",
    "for importance, patch in zip(feature_importances, bar.patches):\n",
    "  plt.text(patch.get_x() + patch.get_width(), patch.get_y(), f\"{importance:.4f}\", va=\"top\")\n",
    "\n",
    "plt.xlabel(variable_importance_metric)\n",
    "plt.title(\"NUM AS ROOT of the class 1 vs the others\")\n",
    "plt.tight_layout()\n",
    "plt.show()\n",
    "\n"
   ]
  },
  {
   "cell_type": "markdown",
   "id": "6e74f8d4",
   "metadata": {
    "id": "jM9uB_7T416r",
    "papermill": {
     "duration": 0.019623,
     "end_time": "2024-03-06T01:55:35.305017",
     "exception": false,
     "start_time": "2024-03-06T01:55:35.285394",
     "status": "completed"
    },
    "tags": []
   },
   "source": [
    "# Submission\n",
    "Finally predict on the competition test data using the model."
   ]
  },
  {
   "cell_type": "code",
   "execution_count": 25,
   "id": "51477e65",
   "metadata": {
    "execution": {
     "iopub.execute_input": "2024-03-06T01:55:35.345515Z",
     "iopub.status.busy": "2024-03-06T01:55:35.345197Z",
     "iopub.status.idle": "2024-03-06T01:55:35.400888Z",
     "shell.execute_reply": "2024-03-06T01:55:35.400042Z"
    },
    "id": "gLySv9yJ416s",
    "papermill": {
     "duration": 0.078746,
     "end_time": "2024-03-06T01:55:35.403246",
     "exception": false,
     "start_time": "2024-03-06T01:55:35.324500",
     "status": "completed"
    },
    "tags": []
   },
   "outputs": [],
   "source": [
    "test_file_path = \"../input/house-prices-advanced-regression-techniques/test.csv\"\n",
    "test_data = pd.read_csv(test_file_path)\n",
    "\n",
    "\n",
    "test_data['YearsBtwRemod'] = test_data['YearRemodAdd']-test_data['YearBuilt']\n",
    "test_data['TotalInnerSF'] = test_data['1stFlrSF']+test_data['2ndFlrSF']+test_data['TotalBsmtSF']\n",
    "test_data['BedroomSize'] = round(test_data['1stFlrSF']+test_data['2ndFlrSF']/test_data['BedroomAbvGr'])\n",
    "\n",
    "test_data.replace([np.inf, -np.inf], np.nan, inplace=True)\n",
    "test_data.BedroomSize.fillna(0,inplace=True)\n",
    "\n",
    "ids = test_data.pop('Id')"
   ]
  },
  {
   "cell_type": "code",
   "execution_count": 26,
   "id": "426a8125",
   "metadata": {
    "execution": {
     "iopub.execute_input": "2024-03-06T01:55:35.444284Z",
     "iopub.status.busy": "2024-03-06T01:55:35.443700Z",
     "iopub.status.idle": "2024-03-06T01:55:35.580468Z",
     "shell.execute_reply": "2024-03-06T01:55:35.579493Z"
    },
    "papermill": {
     "duration": 0.159835,
     "end_time": "2024-03-06T01:55:35.582801",
     "exception": false,
     "start_time": "2024-03-06T01:55:35.422966",
     "status": "completed"
    },
    "tags": []
   },
   "outputs": [],
   "source": [
    "test_ds = tfdf.keras.pd_dataframe_to_tf_dataset(\n",
    "    test_data,\n",
    "    task = tfdf.keras.Task.REGRESSION)"
   ]
  },
  {
   "cell_type": "code",
   "execution_count": 27,
   "id": "4aa6b21f",
   "metadata": {
    "execution": {
     "iopub.execute_input": "2024-03-06T01:55:35.623467Z",
     "iopub.status.busy": "2024-03-06T01:55:35.622725Z",
     "iopub.status.idle": "2024-03-06T01:55:36.525412Z",
     "shell.execute_reply": "2024-03-06T01:55:36.524404Z"
    },
    "papermill": {
     "duration": 0.925411,
     "end_time": "2024-03-06T01:55:36.527847",
     "exception": false,
     "start_time": "2024-03-06T01:55:35.602436",
     "status": "completed"
    },
    "tags": []
   },
   "outputs": [
    {
     "name": "stdout",
     "output_type": "stream",
     "text": [
      "2/2 [==============================] - 1s 16ms/step\n"
     ]
    },
    {
     "data": {
      "text/html": [
       "<div>\n",
       "<style scoped>\n",
       "    .dataframe tbody tr th:only-of-type {\n",
       "        vertical-align: middle;\n",
       "    }\n",
       "\n",
       "    .dataframe tbody tr th {\n",
       "        vertical-align: top;\n",
       "    }\n",
       "\n",
       "    .dataframe thead th {\n",
       "        text-align: right;\n",
       "    }\n",
       "</style>\n",
       "<table border=\"1\" class=\"dataframe\">\n",
       "  <thead>\n",
       "    <tr style=\"text-align: right;\">\n",
       "      <th></th>\n",
       "      <th>Id</th>\n",
       "      <th>SalePrice</th>\n",
       "    </tr>\n",
       "  </thead>\n",
       "  <tbody>\n",
       "    <tr>\n",
       "      <th>0</th>\n",
       "      <td>1461</td>\n",
       "      <td>115997.710938</td>\n",
       "    </tr>\n",
       "    <tr>\n",
       "      <th>1</th>\n",
       "      <td>1462</td>\n",
       "      <td>154353.328125</td>\n",
       "    </tr>\n",
       "    <tr>\n",
       "      <th>2</th>\n",
       "      <td>1463</td>\n",
       "      <td>189610.578125</td>\n",
       "    </tr>\n",
       "    <tr>\n",
       "      <th>3</th>\n",
       "      <td>1464</td>\n",
       "      <td>189446.718750</td>\n",
       "    </tr>\n",
       "    <tr>\n",
       "      <th>4</th>\n",
       "      <td>1465</td>\n",
       "      <td>196754.546875</td>\n",
       "    </tr>\n",
       "  </tbody>\n",
       "</table>\n",
       "</div>"
      ],
      "text/plain": [
       "     Id      SalePrice\n",
       "0  1461  115997.710938\n",
       "1  1462  154353.328125\n",
       "2  1463  189610.578125\n",
       "3  1464  189446.718750\n",
       "4  1465  196754.546875"
      ]
     },
     "execution_count": 27,
     "metadata": {},
     "output_type": "execute_result"
    }
   ],
   "source": [
    "preds = gbtm.predict(test_ds)\n",
    "output = pd.DataFrame({'Id': ids,\n",
    "                       'SalePrice': preds.squeeze()})\n",
    "\n",
    "output.head()"
   ]
  },
  {
   "cell_type": "code",
   "execution_count": 28,
   "id": "9f4b8e66",
   "metadata": {
    "execution": {
     "iopub.execute_input": "2024-03-06T01:55:36.569768Z",
     "iopub.status.busy": "2024-03-06T01:55:36.569421Z",
     "iopub.status.idle": "2024-03-06T01:55:36.851188Z",
     "shell.execute_reply": "2024-03-06T01:55:36.850167Z"
    },
    "id": "0wALPJtE416s",
    "papermill": {
     "duration": 0.304924,
     "end_time": "2024-03-06T01:55:36.853376",
     "exception": false,
     "start_time": "2024-03-06T01:55:36.548452",
     "status": "completed"
    },
    "tags": []
   },
   "outputs": [
    {
     "name": "stdout",
     "output_type": "stream",
     "text": [
      "2/2 [==============================] - 0s 17ms/step\n"
     ]
    },
    {
     "data": {
      "text/html": [
       "<div>\n",
       "<style scoped>\n",
       "    .dataframe tbody tr th:only-of-type {\n",
       "        vertical-align: middle;\n",
       "    }\n",
       "\n",
       "    .dataframe tbody tr th {\n",
       "        vertical-align: top;\n",
       "    }\n",
       "\n",
       "    .dataframe thead th {\n",
       "        text-align: right;\n",
       "    }\n",
       "</style>\n",
       "<table border=\"1\" class=\"dataframe\">\n",
       "  <thead>\n",
       "    <tr style=\"text-align: right;\">\n",
       "      <th></th>\n",
       "      <th>Id</th>\n",
       "      <th>SalePrice</th>\n",
       "    </tr>\n",
       "  </thead>\n",
       "  <tbody>\n",
       "    <tr>\n",
       "      <th>0</th>\n",
       "      <td>1461</td>\n",
       "      <td>115997.710938</td>\n",
       "    </tr>\n",
       "    <tr>\n",
       "      <th>1</th>\n",
       "      <td>1462</td>\n",
       "      <td>154353.328125</td>\n",
       "    </tr>\n",
       "    <tr>\n",
       "      <th>2</th>\n",
       "      <td>1463</td>\n",
       "      <td>189610.578125</td>\n",
       "    </tr>\n",
       "    <tr>\n",
       "      <th>3</th>\n",
       "      <td>1464</td>\n",
       "      <td>189446.718750</td>\n",
       "    </tr>\n",
       "    <tr>\n",
       "      <th>4</th>\n",
       "      <td>1465</td>\n",
       "      <td>196754.546875</td>\n",
       "    </tr>\n",
       "  </tbody>\n",
       "</table>\n",
       "</div>"
      ],
      "text/plain": [
       "     Id      SalePrice\n",
       "0  1461  115997.710938\n",
       "1  1462  154353.328125\n",
       "2  1463  189610.578125\n",
       "3  1464  189446.718750\n",
       "4  1465  196754.546875"
      ]
     },
     "execution_count": 28,
     "metadata": {},
     "output_type": "execute_result"
    }
   ],
   "source": [
    "sample_submission_df = pd.read_csv('../input/house-prices-advanced-regression-techniques/sample_submission.csv')\n",
    "sample_submission_df['SalePrice'] = gbtm.predict(test_ds)\n",
    "sample_submission_df.to_csv('/kaggle/working/submission6.csv', index=False)\n",
    "sample_submission_df.head()"
   ]
  }
 ],
 "metadata": {
  "kaggle": {
   "accelerator": "gpu",
   "dataSources": [
    {
     "databundleVersionId": 868283,
     "sourceId": 5407,
     "sourceType": "competition"
    }
   ],
   "dockerImageVersionId": 30407,
   "isGpuEnabled": true,
   "isInternetEnabled": true,
   "language": "python",
   "sourceType": "notebook"
  },
  "kernelspec": {
   "display_name": "Python 3",
   "language": "python",
   "name": "python3"
  },
  "language_info": {
   "codemirror_mode": {
    "name": "ipython",
    "version": 3
   },
   "file_extension": ".py",
   "mimetype": "text/x-python",
   "name": "python",
   "nbconvert_exporter": "python",
   "pygments_lexer": "ipython3",
   "version": "3.7.12"
  },
  "papermill": {
   "default_parameters": {},
   "duration": 60.945729,
   "end_time": "2024-03-06T01:55:40.362572",
   "environment_variables": {},
   "exception": null,
   "input_path": "__notebook__.ipynb",
   "output_path": "__notebook__.ipynb",
   "parameters": {},
   "start_time": "2024-03-06T01:54:39.416843",
   "version": "2.4.0"
  }
 },
 "nbformat": 4,
 "nbformat_minor": 5
}
